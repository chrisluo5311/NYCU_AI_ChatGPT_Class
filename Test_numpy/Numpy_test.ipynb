{
 "cells": [
  {
   "cell_type": "markdown",
   "source": [
    "## Numpy 逆矩陣\n",
    "### [numpy.linalg.inv文檔](https://numpy.org/doc/stable/reference/generated/numpy.linalg.inv.html)\n",
    "#### 計算一个方陣的逆，使之滿足 $ AA^{-1} = A^{-1} A = I $"
   ],
   "metadata": {
    "collapsed": false
   },
   "id": "9abc0082d393e4ea"
  },
  {
   "cell_type": "code",
   "execution_count": 1,
   "outputs": [],
   "source": [
    "import numpy as np"
   ],
   "metadata": {
    "collapsed": false,
    "ExecuteTime": {
     "end_time": "2023-11-30T15:48:20.093080Z",
     "start_time": "2023-11-30T15:48:20.050488Z"
    }
   },
   "id": "1da63296222e9998"
  },
  {
   "cell_type": "code",
   "execution_count": 3,
   "id": "initial_id",
   "metadata": {
    "collapsed": true,
    "ExecuteTime": {
     "end_time": "2023-11-28T07:40:31.456592Z",
     "start_time": "2023-11-28T07:40:31.451956Z"
    }
   },
   "outputs": [
    {
     "name": "stdout",
     "output_type": "stream",
     "text": [
      "[[1 3]\n",
      " [5 7]]\n",
      "[[-0.875  0.375]\n",
      " [ 0.625 -0.125]]\n"
     ]
    }
   ],
   "source": [
    "arr = np.array([[1, 3], [5, 7]])\n",
    "print(arr)\n",
    "arr_inv = np.linalg.inv(arr)\n",
    "print(arr_inv)"
   ]
  },
  {
   "cell_type": "markdown",
   "source": [
    "## [eye文檔](https://numpy.org/devdocs/reference/generated/numpy.eye.html)\n",
    "#### Return a 2-D array with ones on the diagonal and zeros elsewhere.Return a 2-D array with ones on the diagonal and zeros elsewhere."
   ],
   "metadata": {
    "collapsed": false
   },
   "id": "314bcbdb101d141"
  },
  {
   "cell_type": "code",
   "execution_count": 7,
   "outputs": [
    {
     "name": "stdout",
     "output_type": "stream",
     "text": [
      "[[1 0 0]\n",
      " [0 1 0]\n",
      " [0 0 1]]\n"
     ]
    }
   ],
   "source": [
    "a = np.eye(3,dtype=int)\n",
    "print(a)"
   ],
   "metadata": {
    "collapsed": false,
    "ExecuteTime": {
     "end_time": "2023-11-28T07:50:10.855730Z",
     "start_time": "2023-11-28T07:50:10.849364Z"
    }
   },
   "id": "9d4dfc872b08db83"
  },
  {
   "cell_type": "code",
   "execution_count": null,
   "outputs": [],
   "source": [],
   "metadata": {
    "collapsed": false
   },
   "id": "c73445aff8c3dc26"
  }
 ],
 "metadata": {
  "kernelspec": {
   "display_name": "Python 3",
   "language": "python",
   "name": "python3"
  },
  "language_info": {
   "codemirror_mode": {
    "name": "ipython",
    "version": 2
   },
   "file_extension": ".py",
   "mimetype": "text/x-python",
   "name": "python",
   "nbconvert_exporter": "python",
   "pygments_lexer": "ipython2",
   "version": "2.7.6"
  }
 },
 "nbformat": 4,
 "nbformat_minor": 5
}
