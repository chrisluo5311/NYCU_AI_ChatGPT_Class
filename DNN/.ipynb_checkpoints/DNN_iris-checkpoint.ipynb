{
 "cells": [
  {
   "cell_type": "code",
   "execution_count": null,
   "id": "8e551ed6",
   "metadata": {},
   "outputs": [],
   "source": [
    "import pandas as pd\n",
    "import numpy as np\n",
    "import matplotlib.pyplot as plt\n",
    "! pip install seaborn\n",
    "import seaborn as sns"
   ]
  },
  {
   "cell_type": "code",
   "execution_count": null,
   "id": "93660028",
   "metadata": {},
   "outputs": [],
   "source": [
    "df=pd.read_csv(\"iris_data.csv\")\n",
    "#製作一個字典準備將 target 轉成數值\n",
    "\n",
    "target_mapping={\"setosa\":0,\"versicolor\":1, \"virginica\":2}\n",
    "\n",
    "dataset=df.values\n",
    "X=dataset[:,0:4]\n",
    "Y=df[\"target\"].map(target_mapping)\n",
    "#print(Y)\n",
    "\n",
    "plt.figure(figsize=(10,5))\n",
    "plt.subplot(1,2,1)\n",
    "\n",
    "colmap=np.array([\"r\",\"g\",\"y\"])\n",
    "plt.scatter(df[\"sepal_length\"],df[\"sepal_width\"],color=colmap[Y])\n",
    "plt.subplot(1,2,2)\n",
    "plt.scatter(df[\"petal_length\"],df[\"petal_width\"],color=colmap[Y])\n",
    "plt.show()\n",
    "\n",
    "sns.pairplot(df,hue=\"target\")"
   ]
  },
  {
   "cell_type": "code",
   "execution_count": null,
   "id": "a98692d8",
   "metadata": {},
   "outputs": [],
   "source": [
    "import numpy as np\n",
    "import pandas as pd\n",
    "from keras.models import Sequential\n",
    "from keras.layers import Dense\n",
    "from keras.utils import to_categorical\n",
    "\n",
    "np.random.seed(10)\n",
    "df=pd.read_csv(\"iris_data.csv\")"
   ]
  },
  {
   "cell_type": "code",
   "execution_count": null,
   "id": "fe2007b6",
   "metadata": {},
   "outputs": [],
   "source": [
    "target_mapping={\"setosa\":0,\"versicolor\":1,\"virginica\":2}\n",
    "df[\"target\"]=df[\"target\"].map(target_mapping)\n",
    "dataset=df.values\n",
    "np.random.shuffle(dataset)\n",
    "X=dataset[:,0:4]\n",
    "Y=dataset[:,4]\n",
    "Y=to_categorical(Y)\n",
    "X=X-X.mean(axis=0)\n",
    "X=X/X.std(axis=0)\n",
    "X_train=X[:120,:]\n",
    "Y_train=Y[:120]\n",
    "X_test=X[120:,:]\n",
    "Y_test=Y[120:]"
   ]
  },
  {
   "cell_type": "code",
   "execution_count": null,
   "id": "48f1b2ef",
   "metadata": {},
   "outputs": [],
   "source": [
    "model=Sequential()\n",
    "#4_input*6_w+6_bias=30 parameters\n",
    "model.add(Dense(6, input_dim=4,activation=\"relu\"))\n",
    "#6_input*6_w+6_bias=42 parameters\n",
    "model.add(Dense(6,activation=\"relu\"))\n",
    "#6_input*3_output+3_bias=21 parameters\n",
    "model.add(Dense(3,activation=\"softmax\"))\n",
    "# model.summary()\n",
    "model.compile(loss=\"categorical_crossentropy\",optimizer=\"adam\", metrics=[\"accuracy\"])"
   ]
  },
  {
   "cell_type": "code",
   "execution_count": null,
   "id": "62fbd207",
   "metadata": {},
   "outputs": [],
   "source": [
    "train_result=model.fit(X_train,Y_train,epochs=100,verbose=0, batch_size=5)\n",
    "\n",
    "train_accuracy=train_result.history[\"accuracy\"]\n",
    "train_loss=train_result.history[\"loss\"]\n",
    "\n",
    "epochs=range(1,len(train_loss)+1)\n",
    "plt.plot(epochs,train_loss,\"r\")\n",
    "plt.plot(epochs,train_accuracy,\"b\")"
   ]
  },
  {
   "cell_type": "code",
   "execution_count": null,
   "id": "cb6b494e",
   "metadata": {},
   "outputs": [],
   "source": []
  },
  {
   "cell_type": "code",
   "execution_count": null,
   "id": "e25edd98",
   "metadata": {},
   "outputs": [],
   "source": []
  },
  {
   "cell_type": "code",
   "execution_count": null,
   "id": "4bf7c321",
   "metadata": {},
   "outputs": [],
   "source": []
  },
  {
   "cell_type": "code",
   "execution_count": null,
   "id": "e9ad24ee",
   "metadata": {},
   "outputs": [],
   "source": []
  },
  {
   "cell_type": "code",
   "execution_count": null,
   "id": "9767889a",
   "metadata": {},
   "outputs": [],
   "source": []
  },
  {
   "cell_type": "code",
   "execution_count": null,
   "id": "805c10de",
   "metadata": {},
   "outputs": [],
   "source": []
  },
  {
   "cell_type": "code",
   "execution_count": null,
   "id": "3386da09",
   "metadata": {},
   "outputs": [],
   "source": []
  },
  {
   "cell_type": "code",
   "execution_count": null,
   "id": "ca62ce4c",
   "metadata": {},
   "outputs": [],
   "source": []
  },
  {
   "cell_type": "code",
   "execution_count": null,
   "id": "25e509b6",
   "metadata": {},
   "outputs": [],
   "source": []
  }
 ],
 "metadata": {
  "kernelspec": {
   "display_name": "Python 3 (ipykernel)",
   "language": "python",
   "name": "python3"
  },
  "language_info": {
   "codemirror_mode": {
    "name": "ipython",
    "version": 3
   },
   "file_extension": ".py",
   "mimetype": "text/x-python",
   "name": "python",
   "nbconvert_exporter": "python",
   "pygments_lexer": "ipython3",
   "version": "3.11.5"
  }
 },
 "nbformat": 4,
 "nbformat_minor": 5
}
