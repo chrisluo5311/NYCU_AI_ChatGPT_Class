{
 "cells": [
  {
   "cell_type": "code",
   "execution_count": 2,
   "id": "initial_id",
   "metadata": {
    "ExecuteTime": {
     "end_time": "2023-11-07T10:04:41.229102Z",
     "start_time": "2023-11-07T10:04:39.845409Z"
    }
   },
   "outputs": [],
   "source": [
    "import numpy as np\n",
    "import pandas as pd\n",
    "from keras.models import Sequential\n",
    "from keras.layers import Dense"
   ]
  },
  {
   "cell_type": "code",
   "execution_count": 3,
   "id": "71f4b0d0637da16e",
   "metadata": {
    "ExecuteTime": {
     "end_time": "2023-11-07T10:04:42.108959Z",
     "start_time": "2023-11-07T10:04:42.100703Z"
    }
   },
   "outputs": [
    {
     "name": "stdout",
     "output_type": "stream",
     "text": [
      "<class 'numpy.ndarray'>\n",
      "[[  6.    148.     72.    ...   0.627  50.      1.   ]\n",
      " [  1.     85.     66.    ...   0.351  31.      0.   ]\n",
      " [  8.    183.     64.    ...   0.672  32.      1.   ]\n",
      " ...\n",
      " [  5.    121.     72.    ...   0.245  30.      0.   ]\n",
      " [  1.    126.     60.    ...   0.349  47.      1.   ]\n",
      " [  1.     93.     70.    ...   0.315  23.      0.   ]]\n"
     ]
    }
   ],
   "source": [
    "np.random.seed(10)\n",
    "df=pd.read_csv(\"./20231009_data_file/diabetes.csv\")\n",
    "dataset=df.values # df.values return a Numpy \n",
    "print(type(dataset))\n",
    "print(dataset)"
   ]
  },
  {
   "cell_type": "code",
   "execution_count": 5,
   "outputs": [
    {
     "name": "stdout",
     "output_type": "stream",
     "text": [
      "(768, 9)\n"
     ]
    }
   ],
   "source": [
    "np.random.shuffle(dataset) # 洗順序\n",
    "print(dataset.shape)\n",
    "# 切割train資料集和test資料集\n",
    "X_train=dataset[0:600,0:8]\n",
    "Y_train=dataset[0:600,8]\n",
    "X_test=dataset[600:768,0:8]\n",
    "Y_test=dataset[600:768,8]"
   ],
   "metadata": {
    "collapsed": false,
    "ExecuteTime": {
     "end_time": "2023-11-06T18:33:47.607186Z",
     "start_time": "2023-11-06T18:33:47.597244Z"
    }
   },
   "id": "b272e3a1ed206026"
  },
  {
   "cell_type": "code",
   "execution_count": 18,
   "id": "94a81f63f99c21db",
   "metadata": {
    "ExecuteTime": {
     "end_time": "2023-11-06T18:46:03.561797Z",
     "start_time": "2023-11-06T18:46:03.542168Z"
    }
   },
   "outputs": [
    {
     "name": "stdout",
     "output_type": "stream",
     "text": [
      "Model: \"sequential_6\"\n",
      "_________________________________________________________________\n",
      " Layer (type)                Output Shape              Param #   \n",
      "=================================================================\n",
      " dense_18 (Dense)            (None, 10)                90        \n",
      "                                                                 \n",
      " dense_19 (Dense)            (None, 8)                 88        \n",
      "                                                                 \n",
      " dense_20 (Dense)            (None, 1)                 9         \n",
      "                                                                 \n",
      "=================================================================\n",
      "Total params: 187\n",
      "Trainable params: 187\n",
      "Non-trainable params: 0\n",
      "_________________________________________________________________\n"
     ]
    }
   ],
   "source": [
    "model=Sequential()\n",
    "model.add(Dense(10, input_shape=(8,), activation=\"relu\")) # 10個神經*8w = 80w + 10個bias = 90\n",
    "model.add(Dense(8,activation=\"relu\")) # 10w*8 = 80 + 8個bias = 88\n",
    "model.add(Dense(1,activation=\"sigmoid\")) # 8w * 1 + 1個bias = 9\n",
    "# Total 參數 = 90 + 88 + 9 = 187\n",
    "model.summary() # 顯示模型摘要"
   ]
  },
  {
   "cell_type": "code",
   "execution_count": 19,
   "id": "49f4f33877097cfc",
   "metadata": {
    "ExecuteTime": {
     "end_time": "2023-11-06T18:46:07.945407Z",
     "start_time": "2023-11-06T18:46:05.542606Z"
    }
   },
   "outputs": [
    {
     "name": "stdout",
     "output_type": "stream",
     "text": [
      "6/6 [==============================] - 0s 609us/step - loss: 0.5848 - accuracy: 0.6964\n",
      "Accuracy: 0.6964285969734192\n"
     ]
    }
   ],
   "source": [
    "model.compile(loss=\"binary_crossentropy\",optimizer=\"sgd\",metrics=[\"accuracy\"])\n",
    "model.fit(X_train,Y_train, epochs=150, batch_size=10,verbose=0)\n",
    "loss,accuracy=model.evaluate(X_test,Y_test)\n",
    "print(\"Accuracy:\",accuracy)"
   ]
  },
  {
   "cell_type": "code",
   "execution_count": null,
   "id": "538a054924e365a6",
   "metadata": {},
   "outputs": [],
   "source": []
  },
  {
   "cell_type": "code",
   "execution_count": null,
   "id": "42241839386cf19d",
   "metadata": {},
   "outputs": [],
   "source": []
  },
  {
   "cell_type": "code",
   "execution_count": null,
   "id": "b722c1884c61a67b",
   "metadata": {},
   "outputs": [],
   "source": []
  },
  {
   "cell_type": "code",
   "execution_count": null,
   "id": "1f4e0d7e17467361",
   "metadata": {},
   "outputs": [],
   "source": []
  },
  {
   "cell_type": "code",
   "execution_count": null,
   "id": "101c172b33c663d9",
   "metadata": {},
   "outputs": [],
   "source": []
  },
  {
   "cell_type": "code",
   "execution_count": null,
   "id": "df7cde78768c18a7",
   "metadata": {},
   "outputs": [],
   "source": []
  },
  {
   "cell_type": "code",
   "execution_count": null,
   "id": "7ca82c216c78dc0e",
   "metadata": {},
   "outputs": [],
   "source": []
  },
  {
   "cell_type": "code",
   "execution_count": null,
   "id": "440134937c05edc2",
   "metadata": {},
   "outputs": [],
   "source": []
  },
  {
   "cell_type": "code",
   "execution_count": null,
   "id": "cddf01e2c8b9c079",
   "metadata": {},
   "outputs": [],
   "source": []
  }
 ],
 "metadata": {
  "kernelspec": {
   "display_name": "Python 3 (ipykernel)",
   "language": "python",
   "name": "python3"
  },
  "language_info": {
   "codemirror_mode": {
    "name": "ipython",
    "version": 3
   },
   "file_extension": ".py",
   "mimetype": "text/x-python",
   "name": "python",
   "nbconvert_exporter": "python",
   "pygments_lexer": "ipython3",
   "version": "3.11.5"
  }
 },
 "nbformat": 4,
 "nbformat_minor": 5
}
