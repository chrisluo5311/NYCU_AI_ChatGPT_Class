{
 "cells": [
  {
   "cell_type": "code",
   "execution_count": null,
   "metadata": {
    "colab": {
     "base_uri": "https://localhost:8080/"
    },
    "executionInfo": {
     "elapsed": 5432,
     "status": "ok",
     "timestamp": 1688387244322,
     "user": {
      "displayName": "蒯思齊",
      "userId": "00428339609340727865"
     },
     "user_tz": -480
    },
    "id": "urwiCciiuJy2",
    "outputId": "e1bc4f17-0021-4768-a12c-4ab654333164"
   },
   "outputs": [
    {
     "name": "stdout",
     "output_type": "stream",
     "text": [
      "Collecting line-bot-sdk==1.18.0\n",
      "  Downloading line_bot_sdk-1.18.0-py2.py3-none-any.whl (66 kB)\n",
      "\u001b[?25l     \u001b[90m━━━━━━━━━━━━━━━━━━━━━━━━━━━━━━━━━━━━━━━━\u001b[0m \u001b[32m0.0/66.2 kB\u001b[0m \u001b[31m?\u001b[0m eta \u001b[36m-:--:--\u001b[0m\r",
      "\u001b[2K     \u001b[90m━━━━━━━━━━━━━━━━━━━━━━━━━━━━━━━━━━━━━━━━\u001b[0m \u001b[32m66.2/66.2 kB\u001b[0m \u001b[31m2.5 MB/s\u001b[0m eta \u001b[36m0:00:00\u001b[0m\n",
      "\u001b[?25hRequirement already satisfied: requests>=2.0 in /usr/local/lib/python3.10/dist-packages (from line-bot-sdk==1.18.0) (2.27.1)\n",
      "Requirement already satisfied: future in /usr/local/lib/python3.10/dist-packages (from line-bot-sdk==1.18.0) (0.18.3)\n",
      "Requirement already satisfied: urllib3<1.27,>=1.21.1 in /usr/local/lib/python3.10/dist-packages (from requests>=2.0->line-bot-sdk==1.18.0) (1.26.16)\n",
      "Requirement already satisfied: certifi>=2017.4.17 in /usr/local/lib/python3.10/dist-packages (from requests>=2.0->line-bot-sdk==1.18.0) (2023.5.7)\n",
      "Requirement already satisfied: charset-normalizer~=2.0.0 in /usr/local/lib/python3.10/dist-packages (from requests>=2.0->line-bot-sdk==1.18.0) (2.0.12)\n",
      "Requirement already satisfied: idna<4,>=2.5 in /usr/local/lib/python3.10/dist-packages (from requests>=2.0->line-bot-sdk==1.18.0) (3.4)\n",
      "Installing collected packages: line-bot-sdk\n",
      "Successfully installed line-bot-sdk-1.18.0\n"
     ]
    }
   ],
   "source": [
    "!pip install line-bot-sdk==1.18.0"
   ]
  },
  {
   "cell_type": "code",
   "execution_count": null,
   "metadata": {
    "colab": {
     "base_uri": "https://localhost:8080/"
    },
    "executionInfo": {
     "elapsed": 3920,
     "status": "ok",
     "timestamp": 1688387188845,
     "user": {
      "displayName": "蒯思齊",
      "userId": "00428339609340727865"
     },
     "user_tz": -480
    },
    "id": "_4vJ9p600ac0",
    "outputId": "3779d857-96a4-414b-83bb-84b4092855e4"
   },
   "outputs": [
    {
     "name": "stdout",
     "output_type": "stream",
     "text": [
      "/ngrok-ssh\n",
      "--2023-07-03 12:26:24--  https://bin.equinox.io/c/4VmDzA7iaHb/ngrok-stable-linux-amd64.zip\n",
      "Resolving bin.equinox.io (bin.equinox.io)... 54.237.133.81, 18.205.222.128, 54.161.241.46, ...\n",
      "Connecting to bin.equinox.io (bin.equinox.io)|54.237.133.81|:443... connected.\n",
      "HTTP request sent, awaiting response... 200 OK\n",
      "Length: 13921656 (13M) [application/octet-stream]\n",
      "Saving to: ‘ngrok-stable-linux-amd64.zip’\n",
      "\n",
      "ngrok-stable-linux- 100%[===================>]  13.28M  5.99MB/s    in 2.2s    \n",
      "\n",
      "2023-07-03 12:26:27 (5.99 MB/s) - ‘ngrok-stable-linux-amd64.zip’ saved [13921656/13921656]\n",
      "\n",
      "Archive:  ngrok-stable-linux-amd64.zip\n",
      "  inflating: ngrok                   \n"
     ]
    }
   ],
   "source": [
    "#下載ngrok的壓縮包並且加以解壓縮\n",
    "!mkdir -p /ngrok-ssh\n",
    "%cd /ngrok-ssh\n",
    "!wget https://bin.equinox.io/c/4VmDzA7iaHb/ngrok-stable-linux-amd64.zip -O ngrok-stable-linux-amd64.zip\n",
    "!unzip -u ngrok-stable-linux-amd64.zip\n",
    "!cp /ngrok-ssh/ngrok /ngrok\n",
    "!chmod +x /ngrok"
   ]
  },
  {
   "cell_type": "code",
   "execution_count": null,
   "metadata": {
    "colab": {
     "base_uri": "https://localhost:8080/"
    },
    "executionInfo": {
     "elapsed": 2,
     "status": "ok",
     "timestamp": 1688387288530,
     "user": {
      "displayName": "蒯思齊",
      "userId": "00428339609340727865"
     },
     "user_tz": -480
    },
    "id": "L_OhWOyMsgGP",
    "outputId": "0010d9ef-c41b-424f-ddbc-aab3317a05a1"
   },
   "outputs": [
    {
     "name": "stdout",
     "output_type": "stream",
     "text": [
      "Authtoken saved to configuration file: /root/.ngrok2/ngrok.yml\n"
     ]
    }
   ],
   "source": [
    "!/ngrok authtoken 2S3nKQiZWOTHou2ofqHiWaYvuh5_5pMwM1jPB75M5EdMfg95P"
   ]
  },
  {
   "cell_type": "code",
   "execution_count": null,
   "metadata": {
    "colab": {
     "base_uri": "https://localhost:8080/"
    },
    "executionInfo": {
     "elapsed": 13615,
     "status": "ok",
     "timestamp": 1688387202458,
     "user": {
      "displayName": "蒯思齊",
      "userId": "00428339609340727865"
     },
     "user_tz": -480
    },
    "id": "Jz2utb7It6o6",
    "outputId": "dde2aec5-2984-4740-d5a8-4f1dacbce6fa"
   },
   "outputs": [
    {
     "name": "stdout",
     "output_type": "stream",
     "text": [
      "Collecting pyngrok==4.1.1\n",
      "  Downloading pyngrok-4.1.1.tar.gz (18 kB)\n",
      "  Preparing metadata (setup.py) ... \u001b[?25l\u001b[?25hdone\n",
      "Requirement already satisfied: future in /usr/local/lib/python3.10/dist-packages (from pyngrok==4.1.1) (0.18.3)\n",
      "Requirement already satisfied: PyYAML in /usr/local/lib/python3.10/dist-packages (from pyngrok==4.1.1) (6.0)\n",
      "Building wheels for collected packages: pyngrok\n",
      "  Building wheel for pyngrok (setup.py) ... \u001b[?25l\u001b[?25hdone\n",
      "  Created wheel for pyngrok: filename=pyngrok-4.1.1-py3-none-any.whl size=15963 sha256=12286c97f06fedbece9e78b29b9ac5998ef4e3668ccff064fbb8715db9c54276\n",
      "  Stored in directory: /root/.cache/pip/wheels/4c/7c/4c/632fba2ea8e88d8890102eb07bc922e1ca8fa14db5902c91a8\n",
      "Successfully built pyngrok\n",
      "Installing collected packages: pyngrok\n",
      "Successfully installed pyngrok-4.1.1\n",
      "Collecting flask-ngrok\n",
      "  Downloading flask_ngrok-0.0.25-py3-none-any.whl (3.1 kB)\n",
      "Requirement already satisfied: Flask>=0.8 in /usr/local/lib/python3.10/dist-packages (from flask-ngrok) (2.2.5)\n",
      "Requirement already satisfied: requests in /usr/local/lib/python3.10/dist-packages (from flask-ngrok) (2.27.1)\n",
      "Requirement already satisfied: Werkzeug>=2.2.2 in /usr/local/lib/python3.10/dist-packages (from Flask>=0.8->flask-ngrok) (2.3.6)\n",
      "Requirement already satisfied: Jinja2>=3.0 in /usr/local/lib/python3.10/dist-packages (from Flask>=0.8->flask-ngrok) (3.1.2)\n",
      "Requirement already satisfied: itsdangerous>=2.0 in /usr/local/lib/python3.10/dist-packages (from Flask>=0.8->flask-ngrok) (2.1.2)\n",
      "Requirement already satisfied: click>=8.0 in /usr/local/lib/python3.10/dist-packages (from Flask>=0.8->flask-ngrok) (8.1.3)\n",
      "Requirement already satisfied: urllib3<1.27,>=1.21.1 in /usr/local/lib/python3.10/dist-packages (from requests->flask-ngrok) (1.26.16)\n",
      "Requirement already satisfied: certifi>=2017.4.17 in /usr/local/lib/python3.10/dist-packages (from requests->flask-ngrok) (2023.5.7)\n",
      "Requirement already satisfied: charset-normalizer~=2.0.0 in /usr/local/lib/python3.10/dist-packages (from requests->flask-ngrok) (2.0.12)\n",
      "Requirement already satisfied: idna<4,>=2.5 in /usr/local/lib/python3.10/dist-packages (from requests->flask-ngrok) (3.4)\n",
      "Requirement already satisfied: MarkupSafe>=2.0 in /usr/local/lib/python3.10/dist-packages (from Jinja2>=3.0->Flask>=0.8->flask-ngrok) (2.1.3)\n",
      "Installing collected packages: flask-ngrok\n",
      "Successfully installed flask-ngrok-0.0.25\n"
     ]
    }
   ],
   "source": [
    "!pip install pyngrok==4.1.1\n",
    "!pip install flask-ngrok"
   ]
  },
  {
   "cell_type": "code",
   "execution_count": 8,
   "metadata": {
    "colab": {
     "base_uri": "https://localhost:8080/"
    },
    "executionInfo": {
     "elapsed": 520491,
     "status": "ok",
     "timestamp": 1688388404614,
     "user": {
      "displayName": "蒯思齊",
      "userId": "00428339609340727865"
     },
     "user_tz": -480
    },
    "id": "LXrBZoM-tyBY",
    "outputId": "e73de19b-e143-4283-cdaf-3b3910f7a77c"
   },
   "outputs": [
    {
     "metadata": {
      "tags": null
     },
     "name": "stdout",
     "output_type": "stream",
     "text": [
      " * Serving Flask app '__main__'\n",
      " * Debug mode: off\n"
     ]
    },
    {
     "metadata": {
      "tags": null
     },
     "name": "stderr",
     "output_type": "stream",
     "text": [
      "INFO:werkzeug:\u001b[31m\u001b[1mWARNING: This is a development server. Do not use it in a production deployment. Use a production WSGI server instead.\u001b[0m\n",
      " * Running on http://127.0.0.1:5000\n",
      "INFO:werkzeug:\u001b[33mPress CTRL+C to quit\u001b[0m\n"
     ]
    },
    {
     "metadata": {
      "tags": null
     },
     "name": "stdout",
     "output_type": "stream",
     "text": [
      " * Running on http://f19f-35-189-176-91.ngrok-free.app\n",
      " * Traffic stats available on http://127.0.0.1:4040\n"
     ]
    },
    {
     "name": "stderr",
     "output_type": "stream",
     "text": [
      "INFO:werkzeug:127.0.0.1 - - [03/Jul/2023 12:33:03] \"POST /callback HTTP/1.1\" 200 -\n",
      "INFO:werkzeug:127.0.0.1 - - [03/Jul/2023 12:34:59] \"POST /callback HTTP/1.1\" 200 -\n",
      "INFO:werkzeug:127.0.0.1 - - [03/Jul/2023 12:35:01] \"POST /callback HTTP/1.1\" 200 -\n",
      "INFO:werkzeug:127.0.0.1 - - [03/Jul/2023 12:35:03] \"POST /callback HTTP/1.1\" 200 -\n",
      "INFO:werkzeug:127.0.0.1 - - [03/Jul/2023 12:35:03] \"POST /callback HTTP/1.1\" 200 -\n",
      "INFO:werkzeug:127.0.0.1 - - [03/Jul/2023 12:35:10] \"POST /callback HTTP/1.1\" 200 -\n",
      "INFO:werkzeug:127.0.0.1 - - [03/Jul/2023 12:35:13] \"POST /callback HTTP/1.1\" 200 -\n",
      "INFO:werkzeug:127.0.0.1 - - [03/Jul/2023 12:35:18] \"POST /callback HTTP/1.1\" 200 -\n",
      "INFO:werkzeug:127.0.0.1 - - [03/Jul/2023 12:35:18] \"POST /callback HTTP/1.1\" 200 -\n",
      "INFO:werkzeug:127.0.0.1 - - [03/Jul/2023 12:35:18] \"POST /callback HTTP/1.1\" 200 -\n",
      "INFO:werkzeug:127.0.0.1 - - [03/Jul/2023 12:35:22] \"POST /callback HTTP/1.1\" 200 -\n",
      "INFO:werkzeug:127.0.0.1 - - [03/Jul/2023 12:35:25] \"POST /callback HTTP/1.1\" 200 -\n",
      "INFO:werkzeug:127.0.0.1 - - [03/Jul/2023 12:35:26] \"POST /callback HTTP/1.1\" 200 -\n",
      "INFO:werkzeug:127.0.0.1 - - [03/Jul/2023 12:35:48] \"POST /callback HTTP/1.1\" 200 -\n",
      "INFO:werkzeug:127.0.0.1 - - [03/Jul/2023 12:36:31] \"POST /callback HTTP/1.1\" 200 -\n",
      "INFO:werkzeug:127.0.0.1 - - [03/Jul/2023 12:36:35] \"POST /callback HTTP/1.1\" 200 -\n",
      "INFO:werkzeug:127.0.0.1 - - [03/Jul/2023 12:36:38] \"POST /callback HTTP/1.1\" 200 -\n",
      "INFO:werkzeug:127.0.0.1 - - [03/Jul/2023 12:36:38] \"POST /callback HTTP/1.1\" 200 -\n",
      "INFO:werkzeug:127.0.0.1 - - [03/Jul/2023 12:36:40] \"POST /callback HTTP/1.1\" 200 -\n",
      "INFO:werkzeug:127.0.0.1 - - [03/Jul/2023 12:36:43] \"POST /callback HTTP/1.1\" 200 -\n",
      "INFO:werkzeug:127.0.0.1 - - [03/Jul/2023 12:36:43] \"POST /callback HTTP/1.1\" 200 -\n",
      "INFO:werkzeug:127.0.0.1 - - [03/Jul/2023 12:36:47] \"POST /callback HTTP/1.1\" 200 -\n",
      "INFO:werkzeug:127.0.0.1 - - [03/Jul/2023 12:36:59] \"POST /callback HTTP/1.1\" 200 -\n",
      "INFO:werkzeug:127.0.0.1 - - [03/Jul/2023 12:37:13] \"POST /callback HTTP/1.1\" 200 -\n",
      "INFO:werkzeug:127.0.0.1 - - [03/Jul/2023 12:41:48] \"POST /callback HTTP/1.1\" 200 -\n",
      "INFO:werkzeug:127.0.0.1 - - [03/Jul/2023 12:41:54] \"POST /callback HTTP/1.1\" 200 -\n",
      "INFO:werkzeug:127.0.0.1 - - [03/Jul/2023 12:45:34] \"POST /callback HTTP/1.1\" 200 -\n",
      "INFO:werkzeug:127.0.0.1 - - [03/Jul/2023 12:45:40] \"POST /callback HTTP/1.1\" 200 -\n",
      "INFO:werkzeug:127.0.0.1 - - [03/Jul/2023 12:46:18] \"POST /callback HTTP/1.1\" 200 -\n",
      "INFO:werkzeug:127.0.0.1 - - [03/Jul/2023 12:46:21] \"POST /callback HTTP/1.1\" 200 -\n",
      "INFO:werkzeug:127.0.0.1 - - [03/Jul/2023 12:46:25] \"POST /callback HTTP/1.1\" 200 -\n"
     ]
    }
   ],
   "source": [
    "from flask_ngrok import run_with_ngrok\n",
    "from flask import Flask\n",
    "from flask import request, abort\n",
    "from linebot import  LineBotApi, WebhookHandler\n",
    "from linebot.exceptions import InvalidSignatureError\n",
    "from linebot.models import MessageEvent, TextMessage, TextSendMessage\n",
    "\n",
    "app = Flask(__name__)\n",
    "run_with_ngrok(app)\n",
    "\n",
    "line_bot_api = LineBotApi('joduLMbwMJXMkPb49sTP9+TjI8j5IpcqopY+YoyRpOXLQUONLh5JwUbpKVONHaPjM9KOYp5Ws5/kUUS/DdKL0B2aTc2S2IuSn/MeFz7wTFnevRScvmBCNZgmmkZfSF4kRj9iPsR21KIcLIGr02fYaAdB04t89/1O/w1cDnyilFU=')\n",
    "handler = WebhookHandler('79a9cbb8b35795e231a7d2ec36a173be')\n",
    "\n",
    "@app.route(\"/callback\", methods=['POST'])\n",
    "def callback():\n",
    "    signature = request.headers['X-Line-Signature']\n",
    "\n",
    "    body = request.get_data(as_text=True)\n",
    "    app.logger.info(\"Request body: \" + body)\n",
    "\n",
    "    try:\n",
    "        handler.handle(body, signature)\n",
    "    except InvalidSignatureError:\n",
    "        abort(400)\n",
    "\n",
    "    return 'OK'\n",
    "\n",
    "@handler.add(MessageEvent, message=TextMessage)\n",
    "def handle_message(event):\n",
    "    line_bot_api.reply_message(event.reply_token,TextSendMessage(text=event.message.text))\n",
    "\n",
    "if __name__ == \"__main__\":\n",
    "    app.run()"
   ]
  }
 ],
 "metadata": {
  "colab": {
   "provenance": []
  },
  "kernelspec": {
   "display_name": "Python 3 (ipykernel)",
   "language": "python",
   "name": "python3"
  },
  "language_info": {
   "codemirror_mode": {
    "name": "ipython",
    "version": 3
   },
   "file_extension": ".py",
   "mimetype": "text/x-python",
   "name": "python",
   "nbconvert_exporter": "python",
   "pygments_lexer": "ipython3",
   "version": "3.11.5"
  }
 },
 "nbformat": 4,
 "nbformat_minor": 1
}
