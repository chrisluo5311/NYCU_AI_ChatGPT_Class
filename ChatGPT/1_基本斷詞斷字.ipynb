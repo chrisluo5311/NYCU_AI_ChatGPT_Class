{
 "nbformat": 4,
 "nbformat_minor": 0,
 "metadata": {
  "colab": {
   "provenance": []
  },
  "kernelspec": {
   "name": "python3",
   "language": "python",
   "display_name": "Python 3 (ipykernel)"
  }
 },
 "cells": [
  {
   "cell_type": "markdown",
   "metadata": {
    "id": "TWuKukRXbKxt"
   },
   "source": [
    "# 電腦學中文的第一步：斷詞"
   ]
  },
  {
   "cell_type": "code",
   "metadata": {
    "id": "pGWx1tCpqW2D",
    "colab": {
     "base_uri": "https://localhost:8080/"
    },
    "outputId": "e6e2c091-2e2c-44b1-8e76-d72c9081bb9f",
    "executionInfo": {
     "status": "ok",
     "timestamp": 1697255434990,
     "user_tz": -480,
     "elapsed": 7,
     "user": {
      "displayName": "蒯思齊",
      "userId": "00428339609340727865"
     }
    },
    "ExecuteTime": {
     "end_time": "2023-11-12T03:14:20.157980Z",
     "start_time": "2023-11-12T03:14:20.149461Z"
    }
   },
   "source": [
    "sentence = \"Thomas Jefferson began building Monticello at the age of 26.\"\n",
    "# 用split函式分割字串\n",
    "print(sentence.split())"
   ],
   "execution_count": 1,
   "outputs": [
    {
     "name": "stdout",
     "output_type": "stream",
     "text": [
      "['Thomas', 'Jefferson', 'began', 'building', 'Monticello', 'at', 'the', 'age', 'of', '26.']\n"
     ]
    }
   ]
  },
  {
   "cell_type": "code",
   "metadata": {
    "id": "-OALBKcGwY2-",
    "colab": {
     "base_uri": "https://localhost:8080/"
    },
    "outputId": "86bc387e-2db0-4567-e2fa-86fffd5942cc",
    "executionInfo": {
     "status": "ok",
     "timestamp": 1697255457325,
     "user_tz": -480,
     "elapsed": 324,
     "user": {
      "displayName": "蒯思齊",
      "userId": "00428339609340727865"
     }
    },
    "ExecuteTime": {
     "end_time": "2023-11-12T03:14:22.595528Z",
     "start_time": "2023-11-12T03:14:22.588752Z"
    }
   },
   "source": [
    "# 用str類別內的函式分割字串\n",
    "print(str.split(sentence))"
   ],
   "execution_count": 2,
   "outputs": [
    {
     "name": "stdout",
     "output_type": "stream",
     "text": [
      "['Thomas', 'Jefferson', 'began', 'building', 'Monticello', 'at', 'the', 'age', 'of', '26.']\n"
     ]
    }
   ]
  },
  {
   "cell_type": "code",
   "metadata": {
    "id": "1Fg9HCqZxPcq",
    "colab": {
     "base_uri": "https://localhost:8080/"
    },
    "outputId": "2cd9d82b-0467-4160-fdbb-2e3027930da6",
    "executionInfo": {
     "status": "ok",
     "timestamp": 1697255475914,
     "user_tz": -480,
     "elapsed": 3745,
     "user": {
      "displayName": "蒯思齊",
      "userId": "00428339609340727865"
     }
    },
    "ExecuteTime": {
     "end_time": "2023-11-12T03:14:31.272654Z",
     "start_time": "2023-11-12T03:14:29.641231Z"
    }
   },
   "source": [
    "import tensorflow as tf\n",
    "print(tf.keras.preprocessing.text.text_to_word_sequence(input_text=sentence,\n",
    "                              filters='!\"#$%&()*+,-./:;<=>?@[\\\\]^_`{|}~\\t\\n',\n",
    "                              lower=True,\n",
    "                              split=\" \"))"
   ],
   "execution_count": 3,
   "outputs": [
    {
     "name": "stdout",
     "output_type": "stream",
     "text": [
      "['thomas', 'jefferson', 'began', 'building', 'monticello', 'at', 'the', 'age', 'of', '26']\n"
     ]
    }
   ]
  },
  {
   "cell_type": "code",
   "metadata": {
    "id": "gzwnqjzzf3rR",
    "colab": {
     "base_uri": "https://localhost:8080/"
    },
    "outputId": "cc80fb3b-560b-43a6-d1b4-ba7227f1bfe9",
    "executionInfo": {
     "status": "ok",
     "timestamp": 1697255514881,
     "user_tz": -480,
     "elapsed": 305,
     "user": {
      "displayName": "蒯思齊",
      "userId": "00428339609340727865"
     }
    },
    "ExecuteTime": {
     "end_time": "2023-11-12T03:14:48.553363Z",
     "start_time": "2023-11-12T03:14:48.549155Z"
    }
   },
   "source": [
    "print(tf.keras.preprocessing.text.text_to_word_sequence(input_text=sentence,\n",
    "                              filters='!\"#$%&()*+,-./:;<=>?@[\\\\]^_`{|}~\\t\\n',\n",
    "                              lower=True,\n",
    "                              split=\",\"))"
   ],
   "execution_count": 4,
   "outputs": [
    {
     "name": "stdout",
     "output_type": "stream",
     "text": [
      "['thomas jefferson began building monticello at the age of 26']\n"
     ]
    }
   ]
  },
  {
   "cell_type": "code",
   "metadata": {
    "colab": {
     "base_uri": "https://localhost:8080/"
    },
    "id": "edGDaBrCbLX6",
    "outputId": "6569d022-2585-4718-dc9a-c5c9927ac5c1",
    "executionInfo": {
     "status": "ok",
     "timestamp": 1697255549132,
     "user_tz": -480,
     "elapsed": 309,
     "user": {
      "displayName": "蒯思齊",
      "userId": "00428339609340727865"
     }
    },
    "ExecuteTime": {
     "end_time": "2023-11-12T03:14:50.995090Z",
     "start_time": "2023-11-12T03:14:50.967563Z"
    }
   },
   "source": [
    "cht_sentence = \" 湯瑪斯傑佛遜在26歲打造了蒙蒂沙羅。\"\n",
    "print(tf.keras.preprocessing.text.text_to_word_sequence(input_text=cht_sentence,\n",
    "                              filters='!\"#$%&()*+,-./:;<=>?@[\\\\]^_`{|}~\\t\\n',\n",
    "                              lower=True,\n",
    "                              split=\" \"))"
   ],
   "execution_count": 5,
   "outputs": [
    {
     "name": "stdout",
     "output_type": "stream",
     "text": [
      "['湯瑪斯傑佛遜在26歲打造了蒙蒂沙羅。']\n"
     ]
    }
   ]
  },
  {
   "cell_type": "code",
   "execution_count": null,
   "outputs": [],
   "source": [],
   "metadata": {
    "collapsed": false
   }
  }
 ]
}
