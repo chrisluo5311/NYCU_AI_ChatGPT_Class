{
 "nbformat": 4,
 "nbformat_minor": 0,
 "metadata": {
  "kernelspec": {
   "display_name": "Python 3",
   "language": "python",
   "name": "python3"
  },
  "language_info": {
   "codemirror_mode": {
    "name": "ipython",
    "version": 3
   },
   "file_extension": ".py",
   "mimetype": "text/x-python",
   "name": "python",
   "nbconvert_exporter": "python",
   "pygments_lexer": "ipython3",
   "version": "3.7.3"
  },
  "colab": {
   "provenance": []
  }
 },
 "cells": [
  {
   "cell_type": "markdown",
   "metadata": {
    "id": "sS1bqUjJ2CGw"
   },
   "source": [
    "# (CKIP版) 電腦學中文的第一步：斷詞"
   ]
  },
  {
   "cell_type": "markdown",
   "metadata": {
    "id": "hcQbFPrM37Li"
   },
   "source": [
    "# [CKIP (CkipTagger)](https://github.com/ckiplab/ckiptagger)\n",
    "\n",
    "CKIP 是由中研院中文詞知識庫小組所\b研發，於 2019 年 9 月 4 號正式開源，是目前繁體中文領域中最強大的斷詞工具，在許多自然語言處理競賽中也獲得許多佳績，除了斷詞之外，也支援其他功能，例如詞性標註 (Part-of-Speech tagging)、命名實體識別 (Named entity recognition)。\n",
    "\n",
    "<figure>\n",
    "<center>\n",
    "<img src='https://drive.google.com/uc?export=view&id=14FwMeSeLKEEktXscCEznDv_mOO2LxP3S' width=\"500\"/>\n",
    "<figcaption>CKIP performance</figcaption></center>\n",
    "</figure>\n",
    "\n",
    "\n"
   ]
  },
  {
   "cell_type": "code",
   "metadata": {
    "id": "1Ts5Ff57LXm5",
    "colab": {
     "base_uri": "https://localhost:8080/"
    },
    "outputId": "08e778d7-6d93-42f0-fd9c-a28e2f666be9",
    "executionInfo": {
     "status": "ok",
     "timestamp": 1697255835576,
     "user_tz": -480,
     "elapsed": 65344,
     "user": {
      "displayName": "蒯思齊",
      "userId": "00428339609340727865"
     }
    }
   },
   "source": [
    "# 首先安裝 ckip 所需套件\n",
    "!pip3 install ckiptagger\n",
    "!pip3 install gdown\n",
    "\n",
    "# 載入 ckip 模型檔案\n",
    "from ckiptagger import data_utils\n",
    "data_utils.download_data_gdown(\"./\")"
   ],
   "execution_count": 1,
   "outputs": [
    {
     "output_type": "stream",
     "name": "stdout",
     "text": [
      "Collecting ckiptagger\n",
      "  Downloading ckiptagger-0.2.1-py3-none-any.whl (34 kB)\n",
      "Installing collected packages: ckiptagger\n",
      "Successfully installed ckiptagger-0.2.1\n",
      "Requirement already satisfied: gdown in /usr/local/lib/python3.10/dist-packages (4.6.6)\n",
      "Requirement already satisfied: filelock in /usr/local/lib/python3.10/dist-packages (from gdown) (3.12.4)\n",
      "Requirement already satisfied: requests[socks] in /usr/local/lib/python3.10/dist-packages (from gdown) (2.31.0)\n",
      "Requirement already satisfied: six in /usr/local/lib/python3.10/dist-packages (from gdown) (1.16.0)\n",
      "Requirement already satisfied: tqdm in /usr/local/lib/python3.10/dist-packages (from gdown) (4.66.1)\n",
      "Requirement already satisfied: beautifulsoup4 in /usr/local/lib/python3.10/dist-packages (from gdown) (4.11.2)\n",
      "Requirement already satisfied: soupsieve>1.2 in /usr/local/lib/python3.10/dist-packages (from beautifulsoup4->gdown) (2.5)\n",
      "Requirement already satisfied: charset-normalizer<4,>=2 in /usr/local/lib/python3.10/dist-packages (from requests[socks]->gdown) (3.3.0)\n",
      "Requirement already satisfied: idna<4,>=2.5 in /usr/local/lib/python3.10/dist-packages (from requests[socks]->gdown) (3.4)\n",
      "Requirement already satisfied: urllib3<3,>=1.21.1 in /usr/local/lib/python3.10/dist-packages (from requests[socks]->gdown) (2.0.6)\n",
      "Requirement already satisfied: certifi>=2017.4.17 in /usr/local/lib/python3.10/dist-packages (from requests[socks]->gdown) (2023.7.22)\n",
      "Requirement already satisfied: PySocks!=1.5.7,>=1.5.6 in /usr/local/lib/python3.10/dist-packages (from requests[socks]->gdown) (1.7.1)\n"
     ]
    },
    {
     "output_type": "stream",
     "name": "stderr",
     "text": [
      "Downloading...\n",
      "From: https://drive.google.com/uc?id=1efHsY16pxK0lBD2gYCgCTnv1Swstq771\n",
      "To: /content/data.zip\n",
      "100%|██████████| 1.88G/1.88G [00:15<00:00, 118MB/s]\n"
     ]
    }
   ]
  },
  {
   "cell_type": "markdown",
   "metadata": {
    "id": "g-Rw15e2TImV"
   },
   "source": [
    "## 斷詞 (Tokenization)"
   ]
  },
  {
   "cell_type": "markdown",
   "metadata": {
    "id": "Pfi2rqLw2WsQ"
   },
   "source": [
    "斷詞是所有自然語言處理模型必經的前處理過程，斷詞就是將一個句子依照特定規則去斷開，不同語言有不同的斷詞規則，以中文來說，斷完詞之後每個詞依然有自己獨立的意思，例如：\n",
    "\n",
    "```\n",
    "'新年快樂' -> ['新年','快樂']\n",
    "'台灣指定防疫旅館' -> ['台灣','指定','防疫','旅館']\n",
    "```\n",
    "\n",
    "以英文來說，最常見的斷詞方式就是用**空白**來斷詞，例如：\n",
    "\n",
    "```\n",
    "'long time no see' -> ['long','time','no','see']\n",
    "```\n",
    "\n",
    "以斷詞的難易度來說，中文相對於英文困難，因為英文大部分情況下只需要用空白來斷詞即可；而中文是**方塊字**，幾個方塊字組合成一個詞才具有意思，所以早期的中文斷詞需要先有一個中文字典，然後依照中文字典將一個句子斷詞，而目前已經有基於深度學習的斷詞方式，也就是接下來要介紹的中研院 CkipTagger 斷詞。"
   ]
  },
  {
   "cell_type": "code",
   "metadata": {
    "id": "owrIO9-5V-xB",
    "colab": {
     "base_uri": "https://localhost:8080/"
    },
    "outputId": "e58f6f91-f982-4a9b-912d-ff877e8b5c08",
    "executionInfo": {
     "status": "ok",
     "timestamp": 1691207334756,
     "user_tz": -480,
     "elapsed": 3309,
     "user": {
      "displayName": "蒯思齊",
      "userId": "00428339609340727865"
     }
    }
   },
   "source": [
    "# 載入斷詞函數\n",
    "from ckiptagger import WS\n",
    "ws = WS(\"./data\")"
   ],
   "execution_count": null,
   "outputs": [
    {
     "output_type": "stream",
     "name": "stderr",
     "text": [
      "/usr/local/lib/python3.10/dist-packages/ckiptagger/model_ws.py:106: UserWarning: `tf.nn.rnn_cell.LSTMCell` is deprecated and will be removed in a future version. This class is equivalent as `tf.keras.layers.LSTMCell`, and will be replaced by that in Tensorflow 2.0.\n",
      "  cell = tf.compat.v1.nn.rnn_cell.LSTMCell(hidden_d, name=name)\n"
     ]
    }
   ]
  },
  {
   "cell_type": "code",
   "metadata": {
    "id": "E74SNoHpMBNf",
    "colab": {
     "base_uri": "https://localhost:8080/"
    },
    "outputId": "00f6c972-5994-483a-af3f-f2e752e9287c",
    "executionInfo": {
     "status": "ok",
     "timestamp": 1691207346552,
     "user_tz": -480,
     "elapsed": 471,
     "user": {
      "displayName": "蒯思齊",
      "userId": "00428339609340727865"
     }
    }
   },
   "source": [
    "text = [\"湯瑪斯傑佛遜在26歲打造了蒙蒂沙羅\"]\n",
    "\n",
    "# 進行斷詞\n",
    "ws_results = ws(text)\n",
    "print('輸入句子: \\n', text)\n",
    "print('斷詞結果: \\n', ws_results)"
   ],
   "execution_count": null,
   "outputs": [
    {
     "output_type": "stream",
     "name": "stdout",
     "text": [
      "輸入句子: \n",
      " ['湯瑪斯傑佛遜在26歲打造了蒙蒂沙羅']\n",
      "斷詞結果: \n",
      " [['湯瑪斯傑佛遜', '在', '26', '歲', '打造', '了', '蒙蒂沙羅']]\n"
     ]
    }
   ]
  },
  {
   "cell_type": "code",
   "source": [
    "text = [\"新冠肺炎擴散全球，確診病例與死亡數不斷攀升，各國紛紛祭出防疫政策，試圖阻止疫情蔓延，中華民國也不例外。\"]\n",
    "\n",
    "# 進行斷詞\n",
    "ws_results = ws(text)\n",
    "print('輸入句子: \\n', text)\n",
    "print('斷詞結果: \\n', ws_results)"
   ],
   "metadata": {
    "colab": {
     "base_uri": "https://localhost:8080/"
    },
    "id": "uko6D9lggzZt",
    "outputId": "664320de-7c10-421e-b1d0-fd50ae877675",
    "executionInfo": {
     "status": "ok",
     "timestamp": 1691207934245,
     "user_tz": -480,
     "elapsed": 231,
     "user": {
      "displayName": "蒯思齊",
      "userId": "00428339609340727865"
     }
    }
   },
   "execution_count": null,
   "outputs": [
    {
     "output_type": "stream",
     "name": "stdout",
     "text": [
      "輸入句子: \n",
      " ['新冠肺炎擴散全球，確診病例與死亡數不斷攀升，各國紛紛祭出防疫政策，試圖阻止疫情蔓延，中華民國也不例外。']\n",
      "斷詞結果: \n",
      " [['新冠', '肺炎', '擴散', '全球', '，', '確診', '病例', '與', '死亡數', '不斷', '攀升', '，', '各', '國', '紛紛', '祭出', '防疫', '政策', '，', '試圖', '阻止', '疫情', '蔓延', '，', '中華民國', '也', '不例外', '。']]\n"
     ]
    }
   ]
  },
  {
   "cell_type": "markdown",
   "metadata": {
    "id": "nzENcn-O37MC"
   },
   "source": [
    "## 詞性標註 (Part-of-speech tagging, POS)\n",
    "\n",
    "<figure>\n",
    "<center>\n",
    "<img src='https://drive.google.com/uc?export=view&id=1bsjUuR-acD4g0NLkK2tsiRVyt5x4o26l' width=\"500\"/>\n",
    "<figcaption>CKIP pos-tagging list</figcaption></center>\n",
    "</figure>\n",
    "\n",
    "Resourec: https://ckip.iis.sinica.edu.tw/service/corenlp/"
   ]
  },
  {
   "cell_type": "markdown",
   "metadata": {
    "id": "Bh9Ua4e1c23M"
   },
   "source": [
    "詞性標註的目的在於針對每一個詞標註一個詞性，詞性標註是語言理解的第一步，有了詞性才能夠知道詞與詞之間的相對關係。"
   ]
  },
  {
   "cell_type": "code",
   "metadata": {
    "id": "JEAhIrum37ME",
    "colab": {
     "base_uri": "https://localhost:8080/"
    },
    "outputId": "2d19db9f-0837-474c-ccc9-8106d1e1b816",
    "executionInfo": {
     "status": "ok",
     "timestamp": 1691207423637,
     "user_tz": -480,
     "elapsed": 8296,
     "user": {
      "displayName": "蒯思齊",
      "userId": "00428339609340727865"
     }
    }
   },
   "source": [
    "# 載入詞性標註函數\n",
    "from ckiptagger import POS\n",
    "pos = POS(\"./data\")"
   ],
   "execution_count": null,
   "outputs": [
    {
     "output_type": "stream",
     "name": "stderr",
     "text": [
      "/usr/local/lib/python3.10/dist-packages/ckiptagger/model_pos.py:56: UserWarning: `tf.nn.rnn_cell.LSTMCell` is deprecated and will be removed in a future version. This class is equivalent as `tf.keras.layers.LSTMCell`, and will be replaced by that in Tensorflow 2.0.\n",
      "  cell = tf.compat.v1.nn.rnn_cell.LSTMCell(hidden_d, name=name)\n"
     ]
    }
   ]
  },
  {
   "cell_type": "code",
   "metadata": {
    "id": "sVoZbjGZ37MI",
    "colab": {
     "base_uri": "https://localhost:8080/"
    },
    "outputId": "f23c5d51-bef0-49cf-d5f6-56ee9d640539",
    "executionInfo": {
     "status": "ok",
     "timestamp": 1691207939985,
     "user_tz": -480,
     "elapsed": 250,
     "user": {
      "displayName": "蒯思齊",
      "userId": "00428339609340727865"
     }
    }
   },
   "source": [
    "text = [\"新冠肺炎擴散全球，確診病例與死亡數不斷攀升，各國紛紛祭出防疫政策，試圖阻止疫情蔓延，中華民國也不例外。\"]\n",
    "\n",
    "# 進行詞性標註, 需要使用上面斷詞結果 ws_results\n",
    "pos_results = pos(ws_results)\n",
    "print('輸入句子: \\n', text)\n",
    "print('斷詞結果: \\n', ws_results)\n",
    "print('預測詞性: \\n', pos_results)"
   ],
   "execution_count": null,
   "outputs": [
    {
     "output_type": "stream",
     "name": "stdout",
     "text": [
      "輸入句子: \n",
      " ['新冠肺炎擴散全球，確診病例與死亡數不斷攀升，各國紛紛祭出防疫政策，試圖阻止疫情蔓延，中華民國也不例外。']\n",
      "斷詞結果: \n",
      " [['新冠', '肺炎', '擴散', '全球', '，', '確診', '病例', '與', '死亡數', '不斷', '攀升', '，', '各', '國', '紛紛', '祭出', '防疫', '政策', '，', '試圖', '阻止', '疫情', '蔓延', '，', '中華民國', '也', '不例外', '。']]\n",
      "預測詞性: \n",
      " [['Nb', 'Na', 'VH', 'Nc', 'COMMACATEGORY', 'VH', 'Na', 'Caa', 'Na', 'D', 'VCL', 'COMMACATEGORY', 'Nes', 'Nc', 'D', 'VC', 'VA', 'Na', 'COMMACATEGORY', 'VF', 'VC', 'Na', 'VH', 'COMMACATEGORY', 'Nc', 'D', 'VH', 'PERIODCATEGORY']]\n"
     ]
    }
   ]
  },
  {
   "cell_type": "markdown",
   "metadata": {
    "id": "mraiw9q3uPrt"
   },
   "source": [
    "## 命名實體識別 (Named entity recognition, NER)\n",
    "\n",
    "<figure>\n",
    "<center>\n",
    "<img src='https://drive.google.com/uc?export=view&id=1xCdyRNm6fbRRfl3_YujMOicA1bnPe2Bu' width=\"500\"/>\n",
    "<figcaption>CKIP NER list</figcaption></center>\n",
    "</figure>\n",
    "\n",
    "Resourec: https://ckip.iis.sinica.edu.tw/service/corenlp/\n",
    "\n",
    "輸出格式: `(start, end, entity, name)`"
   ]
  },
  {
   "cell_type": "markdown",
   "metadata": {
    "id": "iHOnwV6adruS"
   },
   "source": [
    "命名實體識別的目標在於辨識實體 (Entity)，所謂的實體意思是說句子中意義特別強烈或是指代性強的詞，例如時間、地名、人名等等，依照不同的專業領域會有不同的實體。例如以某家藥廠來說存在一個實體叫做**藥名**；以某家工廠來說存在一個實體叫做**型號**。\n",
    "\n",
    "以命名實體識別辨識實體，能夠幫助許多任務，例如搜索未登錄識別詞、聊天機器人等等，以聊天機器人為例，命名實體識別模型必須從句子中判斷出實體：\n",
    "\n",
    "```\n",
    "幫我導航到麥當勞 -> ['麥當勞',ORG]\n",
    "```\n",
    "\n",
    "以上為例，機器人必須判斷出麥當勞是一個 *ORG(組織)*，才能夠繼續執行任務。"
   ]
  },
  {
   "cell_type": "code",
   "metadata": {
    "id": "T2YGk2xPumkn",
    "colab": {
     "base_uri": "https://localhost:8080/"
    },
    "outputId": "91f58847-04ed-41f8-9efa-41a01ebf630d",
    "executionInfo": {
     "status": "ok",
     "timestamp": 1691207664559,
     "user_tz": -480,
     "elapsed": 13562,
     "user": {
      "displayName": "蒯思齊",
      "userId": "00428339609340727865"
     }
    }
   },
   "source": [
    "# 載入命名實體識別函數\n",
    "from ckiptagger import NER\n",
    "ner = NER(\"./data\")"
   ],
   "execution_count": null,
   "outputs": [
    {
     "output_type": "stream",
     "name": "stderr",
     "text": [
      "/usr/local/lib/python3.10/dist-packages/ckiptagger/model_ner.py:57: UserWarning: `tf.nn.rnn_cell.LSTMCell` is deprecated and will be removed in a future version. This class is equivalent as `tf.keras.layers.LSTMCell`, and will be replaced by that in Tensorflow 2.0.\n",
      "  cell = tf.compat.v1.nn.rnn_cell.LSTMCell(hidden_d, name=name)\n"
     ]
    }
   ]
  },
  {
   "cell_type": "code",
   "metadata": {
    "id": "icfpGsKeuqn4",
    "colab": {
     "base_uri": "https://localhost:8080/"
    },
    "outputId": "0f588a54-4568-450d-e951-efa56a4ae836",
    "executionInfo": {
     "status": "ok",
     "timestamp": 1691207945645,
     "user_tz": -480,
     "elapsed": 245,
     "user": {
      "displayName": "蒯思齊",
      "userId": "00428339609340727865"
     }
    }
   },
   "source": [
    "text = [\"新冠肺炎擴散全球，確診病例與死亡數不斷攀升，各國紛紛祭出防疫政策，試圖阻止疫情蔓延，中華民國也不例外。\"]\n",
    "\n",
    "# 進行命名實體識別, 需要使用到上面斷詞結果 ws_results 以及 詞性標註結果 pos_results\n",
    "ner_results = ner(ws_results, pos_results)\n",
    "print('輸入句子: \\n', text)\n",
    "print('斷詞結果: \\n', ws_results)\n",
    "print('預測詞性: \\n', pos_results)\n",
    "print('預測 NER: \\n', ner_results)"
   ],
   "execution_count": null,
   "outputs": [
    {
     "output_type": "stream",
     "name": "stdout",
     "text": [
      "輸入句子: \n",
      " ['新冠肺炎擴散全球，確診病例與死亡數不斷攀升，各國紛紛祭出防疫政策，試圖阻止疫情蔓延，中華民國也不例外。']\n",
      "斷詞結果: \n",
      " [['新冠', '肺炎', '擴散', '全球', '，', '確診', '病例', '與', '死亡數', '不斷', '攀升', '，', '各', '國', '紛紛', '祭出', '防疫', '政策', '，', '試圖', '阻止', '疫情', '蔓延', '，', '中華民國', '也', '不例外', '。']]\n",
      "預測詞性: \n",
      " [['Nb', 'Na', 'VH', 'Nc', 'COMMACATEGORY', 'VH', 'Na', 'Caa', 'Na', 'D', 'VCL', 'COMMACATEGORY', 'Nes', 'Nc', 'D', 'VC', 'VA', 'Na', 'COMMACATEGORY', 'VF', 'VC', 'Na', 'VH', 'COMMACATEGORY', 'Nc', 'D', 'VH', 'PERIODCATEGORY']]\n",
      "預測 NER: \n",
      " [{(42, 46, 'GPE', '中華民國')}]\n"
     ]
    }
   ]
  },
  {
   "cell_type": "code",
   "metadata": {
    "id": "-33OL3IVvOqn"
   },
   "source": [],
   "execution_count": null,
   "outputs": []
  }
 ]
}
