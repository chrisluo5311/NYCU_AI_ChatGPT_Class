{
 "cells": [
  {
   "cell_type": "code",
   "execution_count": 1,
   "id": "initial_id",
   "metadata": {
    "collapsed": true,
    "ExecuteTime": {
     "end_time": "2023-10-02T13:07:02.958283Z",
     "start_time": "2023-10-02T13:07:01.968544Z"
    }
   },
   "outputs": [],
   "source": [
    "import numpy as np\n",
    "import pandas as pd\n",
    "from sklearn import datasets\n",
    "from sklearn.ensemble import RandomForestClassifier # 提供 DT 的模型\n",
    "from sklearn.model_selection import train_test_split #用來分割資料\n",
    "from sklearn.metrics import accuracy_score #算分數\n",
    "from sklearn.tree import export_text #畫決策樹\n",
    "from sklearn import metrics #觀察混淆矩陣\n",
    "import matplotlib.pyplot as plt #畫圖\n",
    "np.random.seed(10)"
   ]
  },
  {
   "cell_type": "code",
   "execution_count": 2,
   "outputs": [
    {
     "name": "stdout",
     "output_type": "stream",
     "text": [
      "欄位名稱: ['sepal length (cm)', 'sepal width (cm)', 'petal length (cm)', 'petal width (cm)']\n",
      "標籤所有可能的值: ['setosa' 'versicolor' 'virginica']\n",
      "(150, 4)\n",
      "(150,)\n"
     ]
    }
   ],
   "source": [
    "iris=datasets.load_iris(as_frame=True) #讀出鳶尾花資料集\n",
    "print(\"欄位名稱:\",iris.feature_names)\n",
    "print(\"標籤所有可能的值:\",iris.target_names)\n",
    "X=iris.data\n",
    "Y=iris.target\n",
    "print(X.shape)\n",
    "print(Y.shape)"
   ],
   "metadata": {
    "collapsed": false,
    "ExecuteTime": {
     "end_time": "2023-10-02T13:07:03.630749Z",
     "start_time": "2023-10-02T13:07:03.623808Z"
    }
   },
   "id": "c99b5d259d04f13b"
  },
  {
   "cell_type": "code",
   "execution_count": 3,
   "outputs": [
    {
     "name": "stdout",
     "output_type": "stream",
     "text": [
      "(100, 4) (100,)\n",
      "(50, 4) (50,)\n"
     ]
    }
   ],
   "source": [
    "X_train,X_test,Y_train,Y_test=train_test_split(X,Y,test_size=0.33)\n",
    "print(X_train.shape,Y_train.shape)\n",
    "print(X_test.shape,Y_test.shape)"
   ],
   "metadata": {
    "collapsed": false,
    "ExecuteTime": {
     "end_time": "2023-10-02T13:07:04.901278Z",
     "start_time": "2023-10-02T13:07:04.899225Z"
    }
   },
   "id": "a6d07cfed48a8bc6"
  },
  {
   "cell_type": "code",
   "execution_count": 4,
   "outputs": [],
   "source": [
    "# n_estimators：The number of trees in the forest (e.g.分10棵決策樹)\n",
    "random_tree_clf=RandomForestClassifier(n_estimators=10)\n",
    "random_tree_clf=random_tree_clf.fit(X_train,Y_train)"
   ],
   "metadata": {
    "collapsed": false,
    "ExecuteTime": {
     "end_time": "2023-10-02T13:07:05.689813Z",
     "start_time": "2023-10-02T13:07:05.684091Z"
    }
   },
   "id": "c4349975ce312d1a"
  },
  {
   "cell_type": "code",
   "execution_count": 5,
   "outputs": [
    {
     "name": "stdout",
     "output_type": "stream",
     "text": [
      "87     1\n",
      "111    2\n",
      "10     0\n",
      "91     1\n",
      "49     0\n",
      "60     1\n",
      "72     1\n",
      "67     1\n",
      "39     0\n",
      "55     1\n",
      "66     1\n",
      "142    2\n",
      "53     1\n",
      "1      0\n",
      "19     0\n",
      "112    2\n",
      "85     1\n",
      "38     0\n",
      "21     0\n",
      "35     0\n",
      "102    2\n",
      "132    2\n",
      "126    2\n",
      "24     0\n",
      "61     1\n",
      "2      0\n",
      "95     1\n",
      "90     1\n",
      "76     1\n",
      "117    2\n",
      "58     1\n",
      "97     1\n",
      "129    2\n",
      "114    2\n",
      "146    2\n",
      "47     0\n",
      "124    2\n",
      "120    2\n",
      "118    2\n",
      "141    2\n",
      "26     0\n",
      "43     0\n",
      "59     1\n",
      "41     0\n",
      "56     1\n",
      "32     0\n",
      "52     1\n",
      "70     1\n",
      "121    2\n",
      "144    2\n",
      "Name: target, dtype: int64\n",
      "[1 2 0 1 0 1 2 1 0 1 1 2 1 0 0 2 1 0 0 0 2 2 2 0 1 0 1 1 1 2 1 1 1 2 2 0 2\n",
      " 2 2 2 0 0 1 0 1 0 1 2 2 2]\n",
      "準確率: 0.94\n"
     ]
    }
   ],
   "source": [
    "Y_predict=random_tree_clf.predict(X_test)\n",
    "score=accuracy_score(Y_test,Y_predict)\n",
    "print(Y_test)\n",
    "print(Y_predict)\n",
    "print(\"準確率:\",score)"
   ],
   "metadata": {
    "collapsed": false,
    "ExecuteTime": {
     "end_time": "2023-10-02T13:07:06.712611Z",
     "start_time": "2023-10-02T13:07:06.708653Z"
    }
   },
   "id": "f94ab64ad1d82276"
  },
  {
   "cell_type": "code",
   "execution_count": 6,
   "outputs": [
    {
     "data": {
      "text/plain": "<Figure size 640x480 with 2 Axes>",
      "image/png": "[encoded data removed]"
     },
     "metadata": {},
     "output_type": "display_data"
    }
   ],
   "source": [
    "from sklearn import metrics\n",
    "from sklearn.metrics import confusion_matrix, ConfusionMatrixDisplay\n",
    "%matplotlib inline\n",
    "confusion_mat=confusion_matrix(Y_test,Y_predict)\n",
    "disp=ConfusionMatrixDisplay(confusion_matrix=confusion_mat, display_labels=iris.target_names)\n",
    "disp.plot()\n",
    "plt.show()"
   ],
   "metadata": {
    "collapsed": false,
    "ExecuteTime": {
     "end_time": "2023-10-02T13:15:13.156793Z",
     "start_time": "2023-10-02T13:15:13.082917Z"
    }
   },
   "id": "a774ac72689eb914"
  },
  {
   "cell_type": "code",
   "execution_count": null,
   "outputs": [],
   "source": [],
   "metadata": {
    "collapsed": false
   },
   "id": "649fbae96e4ef2d0"
  }
 ],
 "metadata": {
  "kernelspec": {
   "display_name": "Python 3",
   "language": "python",
   "name": "python3"
  },
  "language_info": {
   "codemirror_mode": {
    "name": "ipython",
    "version": 2
   },
   "file_extension": ".py",
   "mimetype": "text/x-python",
   "name": "python",
   "nbconvert_exporter": "python",
   "pygments_lexer": "ipython2",
   "version": "2.7.6"
  }
 },
 "nbformat": 4,
 "nbformat_minor": 5
}
