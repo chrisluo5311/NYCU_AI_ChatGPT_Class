{
 "cells": [
  {
   "cell_type": "code",
   "execution_count": 1,
   "id": "initial_id",
   "metadata": {
    "collapsed": true,
    "ExecuteTime": {
     "end_time": "2023-10-02T12:55:47.213627Z",
     "start_time": "2023-10-02T12:55:46.445262Z"
    }
   },
   "outputs": [],
   "source": [
    "import numpy as np\n",
    "import pandas as pd\n",
    "from sklearn import datasets\n",
    "from sklearn.tree import DecisionTreeClassifier # 提供 DT 的模型\n",
    "from sklearn.model_selection import train_test_split #用來分割資料\n",
    "from sklearn.metrics import accuracy_score #算分數\n",
    "from sklearn.tree import export_text #畫決策樹\n",
    "from sklearn import metrics #觀察混淆矩陣\n",
    "import matplotlib.pyplot as plt #畫圖\n",
    "np.random.seed(47)"
   ]
  },
  {
   "cell_type": "code",
   "execution_count": 2,
   "outputs": [
    {
     "name": "stdout",
     "output_type": "stream",
     "text": [
      "欄位名稱: ['sepal length (cm)', 'sepal width (cm)', 'petal length (cm)', 'petal width (cm)']\n",
      "標籤所有可能的值: ['setosa' 'versicolor' 'virginica']\n",
      "(150, 4)\n",
      "(150,)\n"
     ]
    }
   ],
   "source": [
    "iris=datasets.load_iris(as_frame=True) #讀出鳶尾花資料集\n",
    "print(\"欄位名稱:\",iris.feature_names)\n",
    "print(\"標籤所有可能的值:\",iris.target_names)\n",
    "X=iris.data\n",
    "Y=iris.target\n",
    "print(X.shape)\n",
    "print(Y.shape)"
   ],
   "metadata": {
    "collapsed": false,
    "ExecuteTime": {
     "end_time": "2023-10-02T12:55:58.672197Z",
     "start_time": "2023-10-02T12:55:58.666456Z"
    }
   },
   "id": "c99b5d259d04f13b"
  },
  {
   "cell_type": "code",
   "execution_count": 3,
   "outputs": [
    {
     "name": "stdout",
     "output_type": "stream",
     "text": [
      "(100, 4) (100,)\n",
      "(50, 4) (50,)\n"
     ]
    }
   ],
   "source": [
    "X_train,X_test,Y_train,Y_test=train_test_split(X,Y,test_size=0.33)\n",
    "print(X_train.shape,Y_train.shape)\n",
    "print(X_test.shape,Y_test.shape)"
   ],
   "metadata": {
    "collapsed": false,
    "ExecuteTime": {
     "end_time": "2023-10-02T12:56:07.961451Z",
     "start_time": "2023-10-02T12:56:07.958848Z"
    }
   },
   "id": "a6d07cfed48a8bc6"
  },
  {
   "cell_type": "code",
   "execution_count": 4,
   "outputs": [
    {
     "name": "stdout",
     "output_type": "stream",
     "text": [
      "|--- 花瓣寬 <= 0.80\n",
      "|   |--- class: 0\n",
      "|--- 花瓣寬 >  0.80\n",
      "|   |--- 花瓣長 <= 5.05\n",
      "|   |   |--- 花瓣寬 <= 1.65\n",
      "|   |   |   |--- class: 1\n",
      "|   |   |--- 花瓣寬 >  1.65\n",
      "|   |   |   |--- 花鄂寬 <= 2.90\n",
      "|   |   |   |   |--- class: 2\n",
      "|   |   |   |--- 花鄂寬 >  2.90\n",
      "|   |   |   |   |--- class: 1\n",
      "|   |--- 花瓣長 >  5.05\n",
      "|   |   |--- 花瓣寬 <= 1.70\n",
      "|   |   |   |--- 花鄂長 <= 6.05\n",
      "|   |   |   |   |--- class: 1\n",
      "|   |   |   |--- 花鄂長 >  6.05\n",
      "|   |   |   |   |--- class: 2\n",
      "|   |   |--- 花瓣寬 >  1.70\n",
      "|   |   |   |--- class: 2\n"
     ]
    }
   ],
   "source": [
    "decision_tree_clf=DecisionTreeClassifier(criterion='entropy')\n",
    "decision_tree_clf=decision_tree_clf.fit(X_train,Y_train)\n",
    "feature_names=[\"花鄂長\",\"花鄂寬\",\"花瓣長\",\"花瓣寬\"]\n",
    "labels=['setosa','versicolor','virginica']\n",
    "text_tree=export_text(decision_tree_clf,feature_names=list(feature_names))\n",
    "print(text_tree)"
   ],
   "metadata": {
    "collapsed": false,
    "ExecuteTime": {
     "end_time": "2023-10-02T12:57:04.497403Z",
     "start_time": "2023-10-02T12:57:04.494184Z"
    }
   },
   "id": "c4349975ce312d1a"
  },
  {
   "cell_type": "code",
   "execution_count": 5,
   "outputs": [
    {
     "name": "stdout",
     "output_type": "stream",
     "text": [
      "準確率: 0.94\n"
     ]
    }
   ],
   "source": [
    "Y_predict=decision_tree_clf.predict(X_test)\n",
    "score=accuracy_score(Y_test,Y_predict)\n",
    "print(\"準確率:\",score)"
   ],
   "metadata": {
    "collapsed": false,
    "ExecuteTime": {
     "end_time": "2023-10-02T12:57:14.139137Z",
     "start_time": "2023-10-02T12:57:14.135880Z"
    }
   },
   "id": "f94ab64ad1d82276"
  },
  {
   "cell_type": "code",
   "execution_count": 6,
   "outputs": [
    {
     "data": {
      "text/plain": "<Figure size 640x480 with 2 Axes>",
      "image/png": "[encoded data removed]"
     },
     "metadata": {},
     "output_type": "display_data"
    }
   ],
   "source": [
    "from sklearn.metrics import confusion_matrix, ConfusionMatrixDisplay\n",
    "%matplotlib inline\n",
    "confusion_mat=confusion_matrix(Y_test,Y_predict)\n",
    "disp=ConfusionMatrixDisplay(confusion_matrix=confusion_mat, display_labels=iris.target_names)\n",
    "disp.plot()\n",
    "plt.show()"
   ],
   "metadata": {
    "collapsed": false,
    "ExecuteTime": {
     "end_time": "2023-10-02T12:57:31.901234Z",
     "start_time": "2023-10-02T12:57:31.825856Z"
    }
   },
   "id": "7881948a3373765f"
  },
  {
   "cell_type": "code",
   "execution_count": null,
   "outputs": [],
   "source": [],
   "metadata": {
    "collapsed": false
   },
   "id": "60237d97886fd136"
  }
 ],
 "metadata": {
  "kernelspec": {
   "display_name": "Python 3",
   "language": "python",
   "name": "python3"
  },
  "language_info": {
   "codemirror_mode": {
    "name": "ipython",
    "version": 2
   },
   "file_extension": ".py",
   "mimetype": "text/x-python",
   "name": "python",
   "nbconvert_exporter": "python",
   "pygments_lexer": "ipython2",
   "version": "2.7.6"
  }
 },
 "nbformat": 4,
 "nbformat_minor": 5
}
