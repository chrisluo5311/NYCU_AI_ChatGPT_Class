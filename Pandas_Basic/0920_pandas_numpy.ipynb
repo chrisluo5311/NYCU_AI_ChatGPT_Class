{
 "cells": [
  {
   "cell_type": "markdown",
   "id": "81b3138bb71e03f4",
   "metadata": {},
   "source": [
    "# DataFrame plot 方法繪製圖形"
   ]
  },
  {
   "cell_type": "code",
   "execution_count": 1,
   "id": "86467ff4614e9807",
   "metadata": {
    "ExecuteTime": {
     "end_time": "2023-11-07T17:31:25.411984Z",
     "start_time": "2023-11-07T17:31:24.959855Z"
    }
   },
   "outputs": [],
   "source": [
    "import pandas as pd\n",
    "import matplotlib.pyplot as plt\n",
    "%matplotlib inline"
   ]
  },
  {
   "cell_type": "code",
   "execution_count": 2,
   "id": "5ca1c97dca38cbb",
   "metadata": {
    "ExecuteTime": {
     "end_time": "2023-11-07T17:31:26.238389Z",
     "start_time": "2023-11-07T17:31:26.219719Z"
    }
   },
   "outputs": [
    {
     "name": "stdout",
     "output_type": "stream",
     "text": [
      "/Users/luojidong/anaconda3/envs/imooc_ai/lib/python3.11/site-packages/matplotlib/mpl-data/matplotlibrc\n"
     ]
    }
   ],
   "source": [
    "import matplotlib\n",
    "print(matplotlib.matplotlib_fname())"
   ]
  },
  {
   "cell_type": "code",
   "execution_count": 3,
   "id": "f18b98a29169679f",
   "metadata": {
    "ExecuteTime": {
     "end_time": "2023-11-07T17:31:26.920140Z",
     "start_time": "2023-11-07T17:31:26.908698Z"
    }
   },
   "outputs": [
    {
     "name": "stdout",
     "output_type": "stream",
     "text": [
      "/Users/luojidong/.matplotlib\n"
     ]
    }
   ],
   "source": [
    "import matplotlib\n",
    "print(matplotlib.get_cachedir())"
   ]
  },
  {
   "cell_type": "code",
   "execution_count": 4,
   "id": "d4f68353",
   "metadata": {
    "ExecuteTime": {
     "end_time": "2023-11-07T17:31:28.182438Z",
     "start_time": "2023-11-07T17:31:28.166748Z"
    }
   },
   "outputs": [
    {
     "name": "stdout",
     "output_type": "stream",
     "text": [
      ".Aqua Kana\n",
      ".Keyboard\n",
      ".New York\n",
      ".New York\n",
      ".SF Arabic\n",
      ".SF Arabic Rounded\n",
      ".SF Armenian\n",
      ".SF Armenian Rounded\n",
      ".SF Camera\n",
      ".SF Compact\n",
      ".SF Compact\n",
      ".SF Compact Rounded\n",
      ".SF Georgian\n",
      ".SF Georgian Rounded\n",
      ".SF Hebrew\n",
      ".SF Hebrew Rounded\n",
      ".SF NS Mono\n",
      ".SF NS Mono\n",
      ".SF NS Rounded\n",
      ".SF Soft Numeric\n",
      ".ThonburiUI\n",
      "Academy Engraved LET\n",
      "Al Bayan\n",
      "Al Nile\n",
      "Al Tarikh\n",
      "American Typewriter\n",
      "Andale Mono\n",
      "Apple Braille\n",
      "Apple Braille\n",
      "Apple Braille\n",
      "Apple Braille\n",
      "Apple Braille\n",
      "Apple Chancery\n",
      "Apple SD Gothic Neo\n",
      "Apple Symbols\n",
      "AppleGothic\n",
      "AppleMyungjo\n",
      "Arial\n",
      "Arial\n",
      "Arial\n",
      "Arial\n",
      "Arial Black\n",
      "Arial Hebrew\n",
      "Arial Narrow\n",
      "Arial Narrow\n",
      "Arial Narrow\n",
      "Arial Narrow\n",
      "Arial Rounded MT Bold\n",
      "Arial Unicode MS\n",
      "Arial Unicode MS\n",
      "Athelas\n",
      "Avenir\n",
      "Avenir Next\n",
      "Avenir Next Condensed\n",
      "Ayuthaya\n",
      "Baghdad\n",
      "Bangla MN\n",
      "Bangla Sangam MN\n",
      "Baskerville\n",
      "Beirut\n",
      "Big Caslon\n",
      "Bodoni 72\n",
      "Bodoni 72 Oldstyle\n",
      "Bodoni 72 Smallcaps\n",
      "Bodoni Ornaments\n",
      "Bradley Hand\n",
      "Brush Script MT\n",
      "Chalkboard\n",
      "Chalkboard SE\n",
      "Chalkduster\n",
      "Charter\n",
      "Cochin\n",
      "Comic Sans MS\n",
      "Comic Sans MS\n",
      "Copperplate\n",
      "Corsiva Hebrew\n",
      "Courier\n",
      "Courier New\n",
      "Courier New\n",
      "Courier New\n",
      "Courier New\n",
      "DIN Alternate\n",
      "DIN Condensed\n",
      "Damascus\n",
      "DecoType Naskh\n",
      "DejaVu Sans\n",
      "DejaVu Sans\n",
      "DejaVu Sans\n",
      "DejaVu Sans\n",
      "DejaVu Sans Display\n",
      "DejaVu Sans Mono\n",
      "DejaVu Sans Mono\n",
      "DejaVu Sans Mono\n",
      "DejaVu Sans Mono\n",
      "DejaVu Serif\n",
      "DejaVu Serif\n",
      "DejaVu Serif\n",
      "DejaVu Serif\n",
      "DejaVu Serif Display\n",
      "Devanagari MT\n",
      "Devanagari Sangam MN\n",
      "Didot\n",
      "Diwan Kufi\n",
      "Diwan Thuluth\n",
      "Euphemia UCAS\n",
      "Farah\n",
      "Farisi\n",
      "Futura\n",
      "Galvji\n",
      "Geeza Pro\n",
      "Geneva\n",
      "Georgia\n",
      "Georgia\n",
      "Georgia\n",
      "Georgia\n",
      "Gill Sans\n",
      "Gujarati MT\n",
      "Gujarati Sangam MN\n",
      "Gurmukhi MN\n",
      "Gurmukhi MT\n",
      "Gurmukhi Sangam MN\n",
      "Heiti TC\n",
      "Heiti TC\n",
      "Helvetica\n",
      "Helvetica Neue\n",
      "Herculanum\n",
      "Hiragino Maru Gothic Pro\n",
      "Hiragino Mincho ProN\n",
      "Hiragino Sans\n",
      "Hiragino Sans\n",
      "Hiragino Sans\n",
      "Hiragino Sans\n",
      "Hiragino Sans\n",
      "Hiragino Sans\n",
      "Hiragino Sans\n",
      "Hiragino Sans\n",
      "Hiragino Sans\n",
      "Hiragino Sans\n",
      "Hiragino Sans GB\n",
      "Hoefler Text\n",
      "Hoefler Text\n",
      "ITF Devanagari\n",
      "Impact\n",
      "InaiMathi\n",
      "Iowan Old Style\n",
      "Kailasa\n",
      "Kannada MN\n",
      "Kannada Sangam MN\n",
      "Kefa\n",
      "Khmer MN\n",
      "Khmer Sangam MN\n",
      "Kohinoor Bangla\n",
      "Kohinoor Devanagari\n",
      "Kohinoor Gujarati\n",
      "Kohinoor Telugu\n",
      "Kokonor\n",
      "Krungthep\n",
      "KufiStandardGK\n",
      "Lao MN\n",
      "Lao Sangam MN\n",
      "Lucida Grande\n",
      "Luminari\n",
      "Malayalam MN\n",
      "Malayalam Sangam MN\n",
      "Marion\n",
      "Marker Felt\n",
      "Menlo\n",
      "Microsoft JhengHei\n",
      "Microsoft Sans Serif\n",
      "Mishafi\n",
      "Mishafi Gold\n",
      "Monaco\n",
      "Mshtakan\n",
      "Mukta Mahee\n",
      "Muna\n",
      "Myanmar MN\n",
      "Myanmar Sangam MN\n",
      "Nadeem\n",
      "New Peninim MT\n",
      "Noteworthy\n",
      "Noto Nastaliq Urdu\n",
      "Noto Sans Adlam\n",
      "Noto Sans Armenian\n",
      "Noto Sans Avestan\n",
      "Noto Sans Bamum\n",
      "Noto Sans Bassa Vah\n",
      "Noto Sans Batak\n",
      "Noto Sans Bhaiksuki\n",
      "Noto Sans Brahmi\n",
      "Noto Sans Buginese\n",
      "Noto Sans Buhid\n",
      "Noto Sans Canadian Aboriginal\n",
      "Noto Sans Carian\n",
      "Noto Sans Caucasian Albanian\n",
      "Noto Sans Chakma\n",
      "Noto Sans Cham\n",
      "Noto Sans Coptic\n",
      "Noto Sans Cuneiform\n",
      "Noto Sans Cypriot\n",
      "Noto Sans Duployan\n",
      "Noto Sans Egyptian Hieroglyphs\n",
      "Noto Sans Elbasan\n",
      "Noto Sans Glagolitic\n",
      "Noto Sans Gothic\n",
      "Noto Sans Gunjala Gondi\n",
      "Noto Sans Hanifi Rohingya\n",
      "Noto Sans Hanunoo\n",
      "Noto Sans Hatran\n",
      "Noto Sans Imperial Aramaic\n",
      "Noto Sans Inscriptional Pahlavi\n",
      "Noto Sans Inscriptional Parthian\n",
      "Noto Sans Javanese\n",
      "Noto Sans Kaithi\n",
      "Noto Sans Kannada\n",
      "Noto Sans Kayah Li\n",
      "Noto Sans Kharoshthi\n",
      "Noto Sans Khojki\n",
      "Noto Sans Khudawadi\n",
      "Noto Sans Lepcha\n",
      "Noto Sans Limbu\n",
      "Noto Sans Linear A\n",
      "Noto Sans Linear B\n",
      "Noto Sans Lisu\n",
      "Noto Sans Lycian\n",
      "Noto Sans Lydian\n",
      "Noto Sans Mahajani\n",
      "Noto Sans Mandaic\n",
      "Noto Sans Manichaean\n",
      "Noto Sans Marchen\n",
      "Noto Sans Masaram Gondi\n",
      "Noto Sans Meetei Mayek\n",
      "Noto Sans Mende Kikakui\n",
      "Noto Sans Meroitic\n",
      "Noto Sans Miao\n",
      "Noto Sans Modi\n",
      "Noto Sans Mongolian\n",
      "Noto Sans Mro\n",
      "Noto Sans Multani\n",
      "Noto Sans Myanmar\n",
      "Noto Sans NKo\n",
      "Noto Sans Nabataean\n",
      "Noto Sans New Tai Lue\n",
      "Noto Sans Newa\n",
      "Noto Sans Ol Chiki\n",
      "Noto Sans Old Hungarian\n",
      "Noto Sans Old Italic\n",
      "Noto Sans Old North Arabian\n",
      "Noto Sans Old Permic\n",
      "Noto Sans Old Persian\n",
      "Noto Sans Old South Arabian\n",
      "Noto Sans Old Turkic\n",
      "Noto Sans Oriya\n",
      "Noto Sans Osage\n",
      "Noto Sans Osmanya\n",
      "Noto Sans Pahawh Hmong\n",
      "Noto Sans Palmyrene\n",
      "Noto Sans Pau Cin Hau\n",
      "Noto Sans PhagsPa\n",
      "Noto Sans Phoenician\n",
      "Noto Sans Psalter Pahlavi\n",
      "Noto Sans Rejang\n",
      "Noto Sans Samaritan\n",
      "Noto Sans Saurashtra\n",
      "Noto Sans Sharada\n",
      "Noto Sans Siddham\n",
      "Noto Sans Sora Sompeng\n",
      "Noto Sans Sundanese\n",
      "Noto Sans Syloti Nagri\n",
      "Noto Sans Syriac\n",
      "Noto Sans Tagalog\n",
      "Noto Sans Tagbanwa\n",
      "Noto Sans Tai Le\n",
      "Noto Sans Tai Tham\n",
      "Noto Sans Tai Viet\n",
      "Noto Sans Takri\n",
      "Noto Sans Thaana\n",
      "Noto Sans Tifinagh\n",
      "Noto Sans Tirhuta\n",
      "Noto Sans Ugaritic\n",
      "Noto Sans Vai\n",
      "Noto Sans Wancho\n",
      "Noto Sans Warang Citi\n",
      "Noto Sans Yi\n",
      "Noto Serif Ahom\n",
      "Noto Serif Balinese\n",
      "Noto Serif Hmong Nyiakeng\n",
      "Noto Serif Myanmar\n",
      "Noto Serif Yezidi\n",
      "Optima\n",
      "Oriya MN\n",
      "Oriya Sangam MN\n",
      "PT Mono\n",
      "PT Sans\n",
      "PT Serif\n",
      "PT Serif Caption\n",
      "Palatino\n",
      "Papyrus\n",
      "Party LET\n",
      "Phosphate\n",
      "PingFang HK\n",
      "Plantagenet Cherokee\n",
      "Raanana\n",
      "Rockwell\n",
      "STIX Two Math\n",
      "STIX Two Text\n",
      "STIX Two Text\n",
      "STIXGeneral\n",
      "STIXGeneral\n",
      "STIXGeneral\n",
      "STIXGeneral\n",
      "STIXGeneral\n",
      "STIXGeneral\n",
      "STIXGeneral\n",
      "STIXGeneral\n",
      "STIXIntegralsD\n",
      "STIXIntegralsD\n",
      "STIXIntegralsSm\n",
      "STIXIntegralsSm\n",
      "STIXIntegralsUp\n",
      "STIXIntegralsUp\n",
      "STIXIntegralsUpD\n",
      "STIXIntegralsUpD\n",
      "STIXIntegralsUpSm\n",
      "STIXIntegralsUpSm\n",
      "STIXNonUnicode\n",
      "STIXNonUnicode\n",
      "STIXNonUnicode\n",
      "STIXNonUnicode\n",
      "STIXNonUnicode\n",
      "STIXNonUnicode\n",
      "STIXNonUnicode\n",
      "STIXNonUnicode\n",
      "STIXSizeFiveSym\n",
      "STIXSizeFiveSym\n",
      "STIXSizeFourSym\n",
      "STIXSizeFourSym\n",
      "STIXSizeFourSym\n",
      "STIXSizeFourSym\n",
      "STIXSizeOneSym\n",
      "STIXSizeOneSym\n",
      "STIXSizeOneSym\n",
      "STIXSizeOneSym\n",
      "STIXSizeThreeSym\n",
      "STIXSizeThreeSym\n",
      "STIXSizeThreeSym\n",
      "STIXSizeThreeSym\n",
      "STIXSizeTwoSym\n",
      "STIXSizeTwoSym\n",
      "STIXSizeTwoSym\n",
      "STIXSizeTwoSym\n",
      "STIXVariants\n",
      "STIXVariants\n",
      "Sana\n",
      "Sathu\n",
      "Savoye LET\n",
      "Seravek\n",
      "Shree Devanagari 714\n",
      "SignPainter\n",
      "Silom\n",
      "Sinhala MN\n",
      "Sinhala Sangam MN\n",
      "Skia\n",
      "Snell Roundhand\n",
      "Songti SC\n",
      "Sukhumvit Set\n",
      "Superclarendon\n",
      "Symbol\n",
      "System Font\n",
      "System Font\n",
      "Tahoma\n",
      "Tahoma\n",
      "Tamil MN\n",
      "Tamil Sangam MN\n",
      "Telugu MN\n",
      "Telugu Sangam MN\n",
      "Thonburi\n",
      "Times\n",
      "Times New Roman\n",
      "Times New Roman\n",
      "Times New Roman\n",
      "Times New Roman\n",
      "Trattatello\n",
      "Trebuchet MS\n",
      "Trebuchet MS\n",
      "Trebuchet MS\n",
      "Trebuchet MS\n",
      "Verdana\n",
      "Verdana\n",
      "Verdana\n",
      "Verdana\n",
      "Waseem\n",
      "Webdings\n",
      "Wingdings\n",
      "Wingdings 2\n",
      "Wingdings 3\n",
      "Zapf Dingbats\n",
      "Zapfino\n",
      "cmb10\n",
      "cmex10\n",
      "cmmi10\n",
      "cmr10\n",
      "cmss10\n",
      "cmsy10\n",
      "cmtt10\n"
     ]
    }
   ],
   "source": [
    "import matplotlib.font_manager\n",
    " \n",
    "a = sorted([f.name for f in matplotlib.font_manager.fontManager.ttflist])\n",
    " \n",
    "for i in a:\n",
    "    print(i)"
   ]
  },
  {
   "cell_type": "code",
   "execution_count": 5,
   "id": "b087525ae7247045",
   "metadata": {
    "ExecuteTime": {
     "end_time": "2023-11-07T17:31:29.273470Z",
     "start_time": "2023-11-07T17:31:29.257534Z"
    }
   },
   "outputs": [],
   "source": [
    "# 字型名稱\n",
    "plt.rcParams[\"font.sans-serif\"] = ['Microsoft JhengHei']\n",
    "plt.rcParams[\"axes.unicode_minus\"] = False"
   ]
  },
  {
   "cell_type": "code",
   "execution_count": 6,
   "id": "b5a71db4e22ba701",
   "metadata": {
    "ExecuteTime": {
     "end_time": "2023-11-07T17:31:30.281167Z",
     "start_time": "2023-11-07T17:31:30.260476Z"
    }
   },
   "outputs": [
    {
     "data": {
      "text/plain": "    2015  2016  2017  2018  2019\n北部   250   320   300   312   280\n中部   280   290   300   310   275\n南部   250   220   310   305   270",
      "text/html": "<div>\n<style scoped>\n    .dataframe tbody tr th:only-of-type {\n        vertical-align: middle;\n    }\n\n    .dataframe tbody tr th {\n        vertical-align: top;\n    }\n\n    .dataframe thead th {\n        text-align: right;\n    }\n</style>\n<table border=\"1\" class=\"dataframe\">\n  <thead>\n    <tr style=\"text-align: right;\">\n      <th></th>\n      <th>2015</th>\n      <th>2016</th>\n      <th>2017</th>\n      <th>2018</th>\n      <th>2019</th>\n    </tr>\n  </thead>\n  <tbody>\n    <tr>\n      <th>北部</th>\n      <td>250</td>\n      <td>320</td>\n      <td>300</td>\n      <td>312</td>\n      <td>280</td>\n    </tr>\n    <tr>\n      <th>中部</th>\n      <td>280</td>\n      <td>290</td>\n      <td>300</td>\n      <td>310</td>\n      <td>275</td>\n    </tr>\n    <tr>\n      <th>南部</th>\n      <td>250</td>\n      <td>220</td>\n      <td>310</td>\n      <td>305</td>\n      <td>270</td>\n    </tr>\n  </tbody>\n</table>\n</div>"
     },
     "execution_count": 6,
     "metadata": {},
     "output_type": "execute_result"
    }
   ],
   "source": [
    "df = pd.DataFrame([[250, 320, 300, 312, 280],\n",
    "                  [280, 290, 300, 310, 275],\n",
    "                  [250, 220, 310, 305, 270]],\n",
    "                  index=[\"北部\",\"中部\",\"南部\"],\n",
    "                  columns=[2015, 2016, 2017, 2018, 2019])\n",
    "df"
   ]
  },
  {
   "cell_type": "code",
   "execution_count": 7,
   "id": "afc53e905329fa16",
   "metadata": {
    "ExecuteTime": {
     "end_time": "2023-11-07T17:31:34.778011Z",
     "start_time": "2023-11-07T17:31:34.355119Z"
    }
   },
   "outputs": [
    {
     "data": {
      "text/plain": "<Figure size 1000x500 with 1 Axes>",
      "image/png": "[encoded data removed]"
     },
     "metadata": {},
     "output_type": "display_data"
    }
   ],
   "source": [
    "g1 = df.plot(kind='bar',title='長條圖',figsize=[10,5])"
   ]
  },
  {
   "cell_type": "code",
   "execution_count": 8,
   "id": "d7f21b65c009155f",
   "metadata": {
    "ExecuteTime": {
     "end_time": "2023-11-07T17:31:37.528636Z",
     "start_time": "2023-11-07T17:31:37.445928Z"
    }
   },
   "outputs": [
    {
     "data": {
      "text/plain": "<Figure size 1000x500 with 1 Axes>",
      "image/png": "[encoded data removed]"
     },
     "metadata": {},
     "output_type": "display_data"
    }
   ],
   "source": [
    "# legend 預設是True\n",
    "g2 = df.plot(kind='barh',title='橫條圖',legend=True,figsize=[10,5])"
   ]
  },
  {
   "cell_type": "code",
   "execution_count": 9,
   "id": "cf24bd82893133ae",
   "metadata": {
    "scrolled": false,
    "ExecuteTime": {
     "end_time": "2023-11-07T18:03:28.195205Z",
     "start_time": "2023-11-07T18:03:28.099655Z"
    }
   },
   "outputs": [
    {
     "data": {
      "text/plain": "<Figure size 1000x500 with 1 Axes>",
      "image/png": "[encoded data removed]"
     },
     "metadata": {},
     "output_type": "display_data"
    }
   ],
   "source": [
    "# 堆疊圖\n",
    "g3 = df.plot(kind='bar',title='堆疊圖',stacked=True,figsize=[10,5])"
   ]
  },
  {
   "cell_type": "markdown",
   "id": "d0fce90a606138a5",
   "metadata": {},
   "source": [
    "### 折疊圖"
   ]
  },
  {
   "cell_type": "code",
   "execution_count": 10,
   "id": "3cf3d0010486b307",
   "metadata": {
    "ExecuteTime": {
     "end_time": "2023-11-07T18:03:31.258344Z",
     "start_time": "2023-11-07T18:03:31.195270Z"
    }
   },
   "outputs": [
    {
     "data": {
      "text/plain": "<Figure size 1000x500 with 1 Axes>",
      "image/png": "[encoded data removed]"
     },
     "metadata": {},
     "output_type": "display_data"
    }
   ],
   "source": [
    "# df.iloc[0]: 取第一列\n",
    "l1 = df.iloc[0].plot(kind=\"line\",legend=True, xticks=range(2015,2020),\n",
    "                     title='公司分區年度銷售圖',figsize=[10,5])\n",
    "l2 = df.iloc[1].plot(kind=\"line\",legend=True, xticks=range(2015,2020),\n",
    "                     figsize=[10,5])\n",
    "l3 = df.iloc[2].plot(kind=\"line\",legend=True, xticks=range(2015,2020),\n",
    "                     figsize=[10,5])"
   ]
  },
  {
   "cell_type": "markdown",
   "id": "b7fa1a4b3250432b",
   "metadata": {},
   "source": [
    "## 繪製圓餅圖"
   ]
  },
  {
   "cell_type": "code",
   "execution_count": 11,
   "id": "97da1ec370af942b",
   "metadata": {
    "ExecuteTime": {
     "end_time": "2023-11-07T18:03:34.207362Z",
     "start_time": "2023-11-07T18:03:34.029740Z"
    }
   },
   "outputs": [
    {
     "data": {
      "text/plain": "<Figure size 2000x2000 with 5 Axes>",
      "image/png": "[encoded data removed]"
     },
     "metadata": {},
     "output_type": "display_data"
    }
   ],
   "source": [
    "p1 = df.plot(kind='pie',subplots=True,figsize=[20,20])"
   ]
  },
  {
   "cell_type": "markdown",
   "id": "93c752a40063365a",
   "metadata": {},
   "source": [
    "## Pandas資料清洗"
   ]
  },
  {
   "cell_type": "code",
   "execution_count": 12,
   "id": "44c886890ebc850a",
   "metadata": {
    "ExecuteTime": {
     "end_time": "2023-11-07T18:03:37.082455Z",
     "start_time": "2023-11-07T18:03:37.062759Z"
    }
   },
   "outputs": [
    {
     "data": {
      "text/plain": "        id name  gender   age    area         job\n0  1700001  李國發    Male  21.0  新北市三重區   金融業 和房地產 \n1  1700002  吳俊諺     NaN   NaN  臺北市文山區     金融業和房地產\n2  1700003  蔡俊毅     NaN   NaN  臺北市文山區    教育體育  文化\n3  1700004  姚鈺迪  Female  34.0  基隆市中正區    住宿 和 餐飲業\n4  1700004  姚鈺迪  Female  34.0  基隆市中正區      住宿和餐飲業",
      "text/html": "<div>\n<style scoped>\n    .dataframe tbody tr th:only-of-type {\n        vertical-align: middle;\n    }\n\n    .dataframe tbody tr th {\n        vertical-align: top;\n    }\n\n    .dataframe thead th {\n        text-align: right;\n    }\n</style>\n<table border=\"1\" class=\"dataframe\">\n  <thead>\n    <tr style=\"text-align: right;\">\n      <th></th>\n      <th>id</th>\n      <th>name</th>\n      <th>gender</th>\n      <th>age</th>\n      <th>area</th>\n      <th>job</th>\n    </tr>\n  </thead>\n  <tbody>\n    <tr>\n      <th>0</th>\n      <td>1700001</td>\n      <td>李國發</td>\n      <td>Male</td>\n      <td>21.0</td>\n      <td>新北市三重區</td>\n      <td>金融業 和房地產</td>\n    </tr>\n    <tr>\n      <th>1</th>\n      <td>1700002</td>\n      <td>吳俊諺</td>\n      <td>NaN</td>\n      <td>NaN</td>\n      <td>臺北市文山區</td>\n      <td>金融業和房地產</td>\n    </tr>\n    <tr>\n      <th>2</th>\n      <td>1700003</td>\n      <td>蔡俊毅</td>\n      <td>NaN</td>\n      <td>NaN</td>\n      <td>臺北市文山區</td>\n      <td>教育體育  文化</td>\n    </tr>\n    <tr>\n      <th>3</th>\n      <td>1700004</td>\n      <td>姚鈺迪</td>\n      <td>Female</td>\n      <td>34.0</td>\n      <td>基隆市中正區</td>\n      <td>住宿 和 餐飲業</td>\n    </tr>\n    <tr>\n      <th>4</th>\n      <td>1700004</td>\n      <td>姚鈺迪</td>\n      <td>Female</td>\n      <td>34.0</td>\n      <td>基隆市中正區</td>\n      <td>住宿和餐飲業</td>\n    </tr>\n  </tbody>\n</table>\n</div>"
     },
     "execution_count": 12,
     "metadata": {},
     "output_type": "execute_result"
    }
   ],
   "source": [
    "import pandas as pd\n",
    "df = pd.read_csv(\"customer.csv\")\n",
    "df.head()"
   ]
  },
  {
   "cell_type": "code",
   "execution_count": 13,
   "outputs": [
    {
     "data": {
      "text/plain": "         id name  gender   age    area      job\n10  1700010  彭郁翔     NaN  55.0  基隆市中正區   住宿和餐飲業\n11  1700011  許合蓉  Female  61.0  新北市三重區   住宿和餐飲業\n12  1700012  武家豪    Male  53.0  新北市三重區    農林牧漁業\n13  1700013  郭信邦     NaN  48.0  新北市三重區   教育體育文化\n14  1700014  周聿綠  Female  57.0  基隆市中正區  金融業和房地產",
      "text/html": "<div>\n<style scoped>\n    .dataframe tbody tr th:only-of-type {\n        vertical-align: middle;\n    }\n\n    .dataframe tbody tr th {\n        vertical-align: top;\n    }\n\n    .dataframe thead th {\n        text-align: right;\n    }\n</style>\n<table border=\"1\" class=\"dataframe\">\n  <thead>\n    <tr style=\"text-align: right;\">\n      <th></th>\n      <th>id</th>\n      <th>name</th>\n      <th>gender</th>\n      <th>age</th>\n      <th>area</th>\n      <th>job</th>\n    </tr>\n  </thead>\n  <tbody>\n    <tr>\n      <th>10</th>\n      <td>1700010</td>\n      <td>彭郁翔</td>\n      <td>NaN</td>\n      <td>55.0</td>\n      <td>基隆市中正區</td>\n      <td>住宿和餐飲業</td>\n    </tr>\n    <tr>\n      <th>11</th>\n      <td>1700011</td>\n      <td>許合蓉</td>\n      <td>Female</td>\n      <td>61.0</td>\n      <td>新北市三重區</td>\n      <td>住宿和餐飲業</td>\n    </tr>\n    <tr>\n      <th>12</th>\n      <td>1700012</td>\n      <td>武家豪</td>\n      <td>Male</td>\n      <td>53.0</td>\n      <td>新北市三重區</td>\n      <td>農林牧漁業</td>\n    </tr>\n    <tr>\n      <th>13</th>\n      <td>1700013</td>\n      <td>郭信邦</td>\n      <td>NaN</td>\n      <td>48.0</td>\n      <td>新北市三重區</td>\n      <td>教育體育文化</td>\n    </tr>\n    <tr>\n      <th>14</th>\n      <td>1700014</td>\n      <td>周聿綠</td>\n      <td>Female</td>\n      <td>57.0</td>\n      <td>基隆市中正區</td>\n      <td>金融業和房地產</td>\n    </tr>\n  </tbody>\n</table>\n</div>"
     },
     "execution_count": 13,
     "metadata": {},
     "output_type": "execute_result"
    }
   ],
   "source": [
    "df.tail()"
   ],
   "metadata": {
    "collapsed": false,
    "ExecuteTime": {
     "end_time": "2023-11-07T18:04:34.990422Z",
     "start_time": "2023-11-07T18:04:34.976162Z"
    }
   },
   "id": "fadfdbb1baa6dbd0"
  },
  {
   "cell_type": "code",
   "execution_count": 11,
   "id": "1fe300723423ae6e",
   "metadata": {
    "ExecuteTime": {
     "end_time": "2023-09-20T11:26:17.918839Z",
     "start_time": "2023-09-20T11:26:17.901925Z"
    }
   },
   "outputs": [
    {
     "data": {
      "text/plain": [
       "id        0\n",
       "name      0\n",
       "gender    8\n",
       "age       3\n",
       "area      3\n",
       "job       0\n",
       "dtype: int64"
      ]
     },
     "execution_count": 11,
     "metadata": {},
     "output_type": "execute_result"
    }
   ],
   "source": [
    "# 統計有哪些欄位有空值\n",
    "df.isnull().sum()"
   ]
  },
  {
   "cell_type": "code",
   "execution_count": 12,
   "id": "4b8a17ff9487de2f",
   "metadata": {
    "ExecuteTime": {
     "end_time": "2023-09-20T11:26:07.176208Z",
     "start_time": "2023-09-20T11:26:07.171183Z"
    }
   },
   "outputs": [
    {
     "data": {
      "text/plain": [
       "3"
      ]
     },
     "execution_count": 12,
     "metadata": {},
     "output_type": "execute_result"
    }
   ],
   "source": [
    "# 3個 column\n",
    "df.isnull().any(axis=0).sum()"
   ]
  },
  {
   "cell_type": "code",
   "execution_count": 13,
   "id": "56319a204c112f6f",
   "metadata": {
    "ExecuteTime": {
     "end_time": "2023-09-20T11:25:50.413770Z",
     "start_time": "2023-09-20T11:25:50.397051Z"
    }
   },
   "outputs": [
    {
     "data": {
      "text/plain": [
       "8"
      ]
     },
     "execution_count": 13,
     "metadata": {},
     "output_type": "execute_result"
    }
   ],
   "source": [
    "# 8比資料有空值\n",
    "df.isnull().any(axis=1).sum()"
   ]
  },
  {
   "cell_type": "code",
   "execution_count": 14,
   "id": "f8cd59e625e1257d",
   "metadata": {
    "ExecuteTime": {
     "end_time": "2023-09-20T11:28:59.329003Z",
     "start_time": "2023-09-20T11:28:59.316425Z"
    }
   },
   "outputs": [
    {
     "data": {
      "text/html": [
       "<div>\n",
       "<style scoped>\n",
       "    .dataframe tbody tr th:only-of-type {\n",
       "        vertical-align: middle;\n",
       "    }\n",
       "\n",
       "    .dataframe tbody tr th {\n",
       "        vertical-align: top;\n",
       "    }\n",
       "\n",
       "    .dataframe thead th {\n",
       "        text-align: right;\n",
       "    }\n",
       "</style>\n",
       "<table border=\"1\" class=\"dataframe\">\n",
       "  <thead>\n",
       "    <tr style=\"text-align: right;\">\n",
       "      <th></th>\n",
       "      <th>id</th>\n",
       "      <th>name</th>\n",
       "      <th>gender</th>\n",
       "      <th>age</th>\n",
       "      <th>area</th>\n",
       "      <th>job</th>\n",
       "    </tr>\n",
       "  </thead>\n",
       "  <tbody>\n",
       "    <tr>\n",
       "      <th>1</th>\n",
       "      <td>1700002</td>\n",
       "      <td>吳俊諺</td>\n",
       "      <td>NaN</td>\n",
       "      <td>NaN</td>\n",
       "      <td>臺北市文山區</td>\n",
       "      <td>金融業和房地產</td>\n",
       "    </tr>\n",
       "    <tr>\n",
       "      <th>2</th>\n",
       "      <td>1700003</td>\n",
       "      <td>蔡俊毅</td>\n",
       "      <td>NaN</td>\n",
       "      <td>NaN</td>\n",
       "      <td>臺北市文山區</td>\n",
       "      <td>教育體育  文化</td>\n",
       "    </tr>\n",
       "    <tr>\n",
       "      <th>6</th>\n",
       "      <td>1700006</td>\n",
       "      <td>蔡登意</td>\n",
       "      <td>NaN</td>\n",
       "      <td>NaN</td>\n",
       "      <td>NaN</td>\n",
       "      <td>金融業和房地產</td>\n",
       "    </tr>\n",
       "  </tbody>\n",
       "</table>\n",
       "</div>"
      ],
      "text/plain": [
       "        id name gender  age    area       job\n",
       "1  1700002  吳俊諺    NaN  NaN  臺北市文山區   金融業和房地產\n",
       "2  1700003  蔡俊毅    NaN  NaN  臺北市文山區  教育體育  文化\n",
       "6  1700006  蔡登意    NaN  NaN     NaN   金融業和房地產"
      ]
     },
     "execution_count": 14,
     "metadata": {},
     "output_type": "execute_result"
    }
   ],
   "source": [
    "df[df['age'].isnull()]"
   ]
  },
  {
   "cell_type": "code",
   "execution_count": 15,
   "id": "7fd5ee403022124a",
   "metadata": {
    "ExecuteTime": {
     "end_time": "2023-09-20T11:30:13.378244Z",
     "start_time": "2023-09-20T11:30:13.365792Z"
    }
   },
   "outputs": [
    {
     "data": {
      "text/html": [
       "<div>\n",
       "<style scoped>\n",
       "    .dataframe tbody tr th:only-of-type {\n",
       "        vertical-align: middle;\n",
       "    }\n",
       "\n",
       "    .dataframe tbody tr th {\n",
       "        vertical-align: top;\n",
       "    }\n",
       "\n",
       "    .dataframe thead th {\n",
       "        text-align: right;\n",
       "    }\n",
       "</style>\n",
       "<table border=\"1\" class=\"dataframe\">\n",
       "  <thead>\n",
       "    <tr style=\"text-align: right;\">\n",
       "      <th></th>\n",
       "      <th>id</th>\n",
       "      <th>name</th>\n",
       "      <th>gender</th>\n",
       "      <th>age</th>\n",
       "      <th>area</th>\n",
       "      <th>job</th>\n",
       "    </tr>\n",
       "  </thead>\n",
       "  <tbody>\n",
       "    <tr>\n",
       "      <th>1</th>\n",
       "      <td>1700002</td>\n",
       "      <td>吳俊諺</td>\n",
       "      <td>NaN</td>\n",
       "      <td>NaN</td>\n",
       "      <td>臺北市文山區</td>\n",
       "      <td>金融業和房地產</td>\n",
       "    </tr>\n",
       "    <tr>\n",
       "      <th>2</th>\n",
       "      <td>1700003</td>\n",
       "      <td>蔡俊毅</td>\n",
       "      <td>NaN</td>\n",
       "      <td>NaN</td>\n",
       "      <td>臺北市文山區</td>\n",
       "      <td>教育體育  文化</td>\n",
       "    </tr>\n",
       "    <tr>\n",
       "      <th>6</th>\n",
       "      <td>1700006</td>\n",
       "      <td>蔡登意</td>\n",
       "      <td>NaN</td>\n",
       "      <td>NaN</td>\n",
       "      <td>NaN</td>\n",
       "      <td>金融業和房地產</td>\n",
       "    </tr>\n",
       "    <tr>\n",
       "      <th>7</th>\n",
       "      <td>1700007</td>\n",
       "      <td>吳景翔</td>\n",
       "      <td>NaN</td>\n",
       "      <td>39.0</td>\n",
       "      <td>NaN</td>\n",
       "      <td>農林牧漁業</td>\n",
       "    </tr>\n",
       "    <tr>\n",
       "      <th>8</th>\n",
       "      <td>1700008</td>\n",
       "      <td>邱孝信</td>\n",
       "      <td>NaN</td>\n",
       "      <td>39.0</td>\n",
       "      <td>NaN</td>\n",
       "      <td>金融業和房地產</td>\n",
       "    </tr>\n",
       "    <tr>\n",
       "      <th>9</th>\n",
       "      <td>1700009</td>\n",
       "      <td>陳明輝</td>\n",
       "      <td>NaN</td>\n",
       "      <td>57.0</td>\n",
       "      <td>基隆市中正區</td>\n",
       "      <td>金融業和房地產</td>\n",
       "    </tr>\n",
       "    <tr>\n",
       "      <th>10</th>\n",
       "      <td>1700010</td>\n",
       "      <td>彭郁翔</td>\n",
       "      <td>NaN</td>\n",
       "      <td>55.0</td>\n",
       "      <td>基隆市中正區</td>\n",
       "      <td>住宿和餐飲業</td>\n",
       "    </tr>\n",
       "    <tr>\n",
       "      <th>13</th>\n",
       "      <td>1700013</td>\n",
       "      <td>郭信邦</td>\n",
       "      <td>NaN</td>\n",
       "      <td>48.0</td>\n",
       "      <td>新北市三重區</td>\n",
       "      <td>教育體育文化</td>\n",
       "    </tr>\n",
       "  </tbody>\n",
       "</table>\n",
       "</div>"
      ],
      "text/plain": [
       "         id name gender   age    area       job\n",
       "1   1700002  吳俊諺    NaN   NaN  臺北市文山區   金融業和房地產\n",
       "2   1700003  蔡俊毅    NaN   NaN  臺北市文山區  教育體育  文化\n",
       "6   1700006  蔡登意    NaN   NaN     NaN   金融業和房地產\n",
       "7   1700007  吳景翔    NaN  39.0     NaN     農林牧漁業\n",
       "8   1700008  邱孝信    NaN  39.0     NaN   金融業和房地產\n",
       "9   1700009  陳明輝    NaN  57.0  基隆市中正區   金融業和房地產\n",
       "10  1700010  彭郁翔    NaN  55.0  基隆市中正區    住宿和餐飲業\n",
       "13  1700013  郭信邦    NaN  48.0  新北市三重區    教育體育文化"
      ]
     },
     "execution_count": 15,
     "metadata": {},
     "output_type": "execute_result"
    }
   ],
   "source": [
    "df[df['gender'].isnull()]"
   ]
  },
  {
   "cell_type": "code",
   "execution_count": 16,
   "id": "51fbc130e67862ed",
   "metadata": {
    "ExecuteTime": {
     "end_time": "2023-09-20T11:30:20.908466Z",
     "start_time": "2023-09-20T11:30:20.894246Z"
    }
   },
   "outputs": [
    {
     "data": {
      "text/html": [
       "<div>\n",
       "<style scoped>\n",
       "    .dataframe tbody tr th:only-of-type {\n",
       "        vertical-align: middle;\n",
       "    }\n",
       "\n",
       "    .dataframe tbody tr th {\n",
       "        vertical-align: top;\n",
       "    }\n",
       "\n",
       "    .dataframe thead th {\n",
       "        text-align: right;\n",
       "    }\n",
       "</style>\n",
       "<table border=\"1\" class=\"dataframe\">\n",
       "  <thead>\n",
       "    <tr style=\"text-align: right;\">\n",
       "      <th></th>\n",
       "      <th>id</th>\n",
       "      <th>name</th>\n",
       "      <th>gender</th>\n",
       "      <th>age</th>\n",
       "      <th>area</th>\n",
       "      <th>job</th>\n",
       "    </tr>\n",
       "  </thead>\n",
       "  <tbody>\n",
       "    <tr>\n",
       "      <th>6</th>\n",
       "      <td>1700006</td>\n",
       "      <td>蔡登意</td>\n",
       "      <td>NaN</td>\n",
       "      <td>NaN</td>\n",
       "      <td>NaN</td>\n",
       "      <td>金融業和房地產</td>\n",
       "    </tr>\n",
       "    <tr>\n",
       "      <th>7</th>\n",
       "      <td>1700007</td>\n",
       "      <td>吳景翔</td>\n",
       "      <td>NaN</td>\n",
       "      <td>39.0</td>\n",
       "      <td>NaN</td>\n",
       "      <td>農林牧漁業</td>\n",
       "    </tr>\n",
       "    <tr>\n",
       "      <th>8</th>\n",
       "      <td>1700008</td>\n",
       "      <td>邱孝信</td>\n",
       "      <td>NaN</td>\n",
       "      <td>39.0</td>\n",
       "      <td>NaN</td>\n",
       "      <td>金融業和房地產</td>\n",
       "    </tr>\n",
       "  </tbody>\n",
       "</table>\n",
       "</div>"
      ],
      "text/plain": [
       "        id name gender   age area       job\n",
       "6  1700006  蔡登意    NaN   NaN  NaN   金融業和房地產\n",
       "7  1700007  吳景翔    NaN  39.0  NaN     農林牧漁業\n",
       "8  1700008  邱孝信    NaN  39.0  NaN   金融業和房地產"
      ]
     },
     "execution_count": 16,
     "metadata": {},
     "output_type": "execute_result"
    }
   ],
   "source": [
    "df[df['area'].isnull()]"
   ]
  },
  {
   "cell_type": "code",
   "execution_count": 17,
   "id": "a2d39f70494adc5e",
   "metadata": {},
   "outputs": [],
   "source": [
    "df_sample = df.copy()"
   ]
  },
  {
   "cell_type": "code",
   "execution_count": 18,
   "id": "e4da5d82f5477195",
   "metadata": {},
   "outputs": [
    {
     "data": {
      "text/html": [
       "<div>\n",
       "<style scoped>\n",
       "    .dataframe tbody tr th:only-of-type {\n",
       "        vertical-align: middle;\n",
       "    }\n",
       "\n",
       "    .dataframe tbody tr th {\n",
       "        vertical-align: top;\n",
       "    }\n",
       "\n",
       "    .dataframe thead th {\n",
       "        text-align: right;\n",
       "    }\n",
       "</style>\n",
       "<table border=\"1\" class=\"dataframe\">\n",
       "  <thead>\n",
       "    <tr style=\"text-align: right;\">\n",
       "      <th></th>\n",
       "      <th>id</th>\n",
       "      <th>name</th>\n",
       "      <th>gender</th>\n",
       "      <th>age</th>\n",
       "      <th>area</th>\n",
       "      <th>job</th>\n",
       "    </tr>\n",
       "  </thead>\n",
       "  <tbody>\n",
       "    <tr>\n",
       "      <th>0</th>\n",
       "      <td>1700001</td>\n",
       "      <td>李國發</td>\n",
       "      <td>Male</td>\n",
       "      <td>21.0</td>\n",
       "      <td>新北市三重區</td>\n",
       "      <td>金融業 和房地產</td>\n",
       "    </tr>\n",
       "    <tr>\n",
       "      <th>1</th>\n",
       "      <td>1700002</td>\n",
       "      <td>吳俊諺</td>\n",
       "      <td>NaN</td>\n",
       "      <td>NaN</td>\n",
       "      <td>臺北市文山區</td>\n",
       "      <td>金融業和房地產</td>\n",
       "    </tr>\n",
       "    <tr>\n",
       "      <th>2</th>\n",
       "      <td>1700003</td>\n",
       "      <td>蔡俊毅</td>\n",
       "      <td>NaN</td>\n",
       "      <td>NaN</td>\n",
       "      <td>臺北市文山區</td>\n",
       "      <td>教育體育  文化</td>\n",
       "    </tr>\n",
       "    <tr>\n",
       "      <th>3</th>\n",
       "      <td>1700004</td>\n",
       "      <td>姚鈺迪</td>\n",
       "      <td>Female</td>\n",
       "      <td>34.0</td>\n",
       "      <td>基隆市中正區</td>\n",
       "      <td>住宿 和 餐飲業</td>\n",
       "    </tr>\n",
       "    <tr>\n",
       "      <th>4</th>\n",
       "      <td>1700004</td>\n",
       "      <td>姚鈺迪</td>\n",
       "      <td>Female</td>\n",
       "      <td>34.0</td>\n",
       "      <td>基隆市中正區</td>\n",
       "      <td>住宿和餐飲業</td>\n",
       "    </tr>\n",
       "    <tr>\n",
       "      <th>5</th>\n",
       "      <td>1700005</td>\n",
       "      <td>袁劭彥</td>\n",
       "      <td>Male</td>\n",
       "      <td>42.0</td>\n",
       "      <td>臺北市文山區</td>\n",
       "      <td>金融業和房地產</td>\n",
       "    </tr>\n",
       "    <tr>\n",
       "      <th>6</th>\n",
       "      <td>1700006</td>\n",
       "      <td>蔡登意</td>\n",
       "      <td>NaN</td>\n",
       "      <td>NaN</td>\n",
       "      <td>NaN</td>\n",
       "      <td>金融業和房地產</td>\n",
       "    </tr>\n",
       "    <tr>\n",
       "      <th>7</th>\n",
       "      <td>1700007</td>\n",
       "      <td>吳景翔</td>\n",
       "      <td>NaN</td>\n",
       "      <td>39.0</td>\n",
       "      <td>NaN</td>\n",
       "      <td>農林牧漁業</td>\n",
       "    </tr>\n",
       "    <tr>\n",
       "      <th>8</th>\n",
       "      <td>1700008</td>\n",
       "      <td>邱孝信</td>\n",
       "      <td>NaN</td>\n",
       "      <td>39.0</td>\n",
       "      <td>NaN</td>\n",
       "      <td>金融業和房地產</td>\n",
       "    </tr>\n",
       "    <tr>\n",
       "      <th>9</th>\n",
       "      <td>1700009</td>\n",
       "      <td>陳明輝</td>\n",
       "      <td>NaN</td>\n",
       "      <td>57.0</td>\n",
       "      <td>基隆市中正區</td>\n",
       "      <td>金融業和房地產</td>\n",
       "    </tr>\n",
       "    <tr>\n",
       "      <th>10</th>\n",
       "      <td>1700010</td>\n",
       "      <td>彭郁翔</td>\n",
       "      <td>NaN</td>\n",
       "      <td>55.0</td>\n",
       "      <td>基隆市中正區</td>\n",
       "      <td>住宿和餐飲業</td>\n",
       "    </tr>\n",
       "    <tr>\n",
       "      <th>11</th>\n",
       "      <td>1700011</td>\n",
       "      <td>許合蓉</td>\n",
       "      <td>Female</td>\n",
       "      <td>61.0</td>\n",
       "      <td>新北市三重區</td>\n",
       "      <td>住宿和餐飲業</td>\n",
       "    </tr>\n",
       "    <tr>\n",
       "      <th>12</th>\n",
       "      <td>1700012</td>\n",
       "      <td>武家豪</td>\n",
       "      <td>Male</td>\n",
       "      <td>53.0</td>\n",
       "      <td>新北市三重區</td>\n",
       "      <td>農林牧漁業</td>\n",
       "    </tr>\n",
       "    <tr>\n",
       "      <th>13</th>\n",
       "      <td>1700013</td>\n",
       "      <td>郭信邦</td>\n",
       "      <td>NaN</td>\n",
       "      <td>48.0</td>\n",
       "      <td>新北市三重區</td>\n",
       "      <td>教育體育文化</td>\n",
       "    </tr>\n",
       "    <tr>\n",
       "      <th>14</th>\n",
       "      <td>1700014</td>\n",
       "      <td>周聿綠</td>\n",
       "      <td>Female</td>\n",
       "      <td>57.0</td>\n",
       "      <td>基隆市中正區</td>\n",
       "      <td>金融業和房地產</td>\n",
       "    </tr>\n",
       "  </tbody>\n",
       "</table>\n",
       "</div>"
      ],
      "text/plain": [
       "         id name  gender   age    area         job\n",
       "0   1700001  李國發    Male  21.0  新北市三重區   金融業 和房地產 \n",
       "1   1700002  吳俊諺     NaN   NaN  臺北市文山區     金融業和房地產\n",
       "2   1700003  蔡俊毅     NaN   NaN  臺北市文山區    教育體育  文化\n",
       "3   1700004  姚鈺迪  Female  34.0  基隆市中正區    住宿 和 餐飲業\n",
       "4   1700004  姚鈺迪  Female  34.0  基隆市中正區      住宿和餐飲業\n",
       "5   1700005  袁劭彥    Male  42.0  臺北市文山區     金融業和房地產\n",
       "6   1700006  蔡登意     NaN   NaN     NaN     金融業和房地產\n",
       "7   1700007  吳景翔     NaN  39.0     NaN       農林牧漁業\n",
       "8   1700008  邱孝信     NaN  39.0     NaN     金融業和房地產\n",
       "9   1700009  陳明輝     NaN  57.0  基隆市中正區     金融業和房地產\n",
       "10  1700010  彭郁翔     NaN  55.0  基隆市中正區      住宿和餐飲業\n",
       "11  1700011  許合蓉  Female  61.0  新北市三重區      住宿和餐飲業\n",
       "12  1700012  武家豪    Male  53.0  新北市三重區       農林牧漁業\n",
       "13  1700013  郭信邦     NaN  48.0  新北市三重區      教育體育文化\n",
       "14  1700014  周聿綠  Female  57.0  基隆市中正區     金融業和房地產"
      ]
     },
     "execution_count": 18,
     "metadata": {},
     "output_type": "execute_result"
    }
   ],
   "source": [
    "df_sample"
   ]
  },
  {
   "cell_type": "code",
   "execution_count": 19,
   "id": "19cfe0de0d091ba",
   "metadata": {},
   "outputs": [],
   "source": [
    "# 沒有的值填0 使用 fillna\n",
    "df_sample['age'] = df_sample['age'].fillna(value=0)"
   ]
  },
  {
   "cell_type": "code",
   "execution_count": 20,
   "id": "bca92a8a8dd0491e",
   "metadata": {},
   "outputs": [
    {
     "data": {
      "text/html": [
       "<div>\n",
       "<style scoped>\n",
       "    .dataframe tbody tr th:only-of-type {\n",
       "        vertical-align: middle;\n",
       "    }\n",
       "\n",
       "    .dataframe tbody tr th {\n",
       "        vertical-align: top;\n",
       "    }\n",
       "\n",
       "    .dataframe thead th {\n",
       "        text-align: right;\n",
       "    }\n",
       "</style>\n",
       "<table border=\"1\" class=\"dataframe\">\n",
       "  <thead>\n",
       "    <tr style=\"text-align: right;\">\n",
       "      <th></th>\n",
       "      <th>id</th>\n",
       "      <th>name</th>\n",
       "      <th>gender</th>\n",
       "      <th>age</th>\n",
       "      <th>area</th>\n",
       "      <th>job</th>\n",
       "    </tr>\n",
       "  </thead>\n",
       "  <tbody>\n",
       "    <tr>\n",
       "      <th>0</th>\n",
       "      <td>1700001</td>\n",
       "      <td>李國發</td>\n",
       "      <td>Male</td>\n",
       "      <td>21.0</td>\n",
       "      <td>新北市三重區</td>\n",
       "      <td>金融業 和房地產</td>\n",
       "    </tr>\n",
       "    <tr>\n",
       "      <th>1</th>\n",
       "      <td>1700002</td>\n",
       "      <td>吳俊諺</td>\n",
       "      <td>NaN</td>\n",
       "      <td>0.0</td>\n",
       "      <td>臺北市文山區</td>\n",
       "      <td>金融業和房地產</td>\n",
       "    </tr>\n",
       "    <tr>\n",
       "      <th>2</th>\n",
       "      <td>1700003</td>\n",
       "      <td>蔡俊毅</td>\n",
       "      <td>NaN</td>\n",
       "      <td>0.0</td>\n",
       "      <td>臺北市文山區</td>\n",
       "      <td>教育體育  文化</td>\n",
       "    </tr>\n",
       "    <tr>\n",
       "      <th>3</th>\n",
       "      <td>1700004</td>\n",
       "      <td>姚鈺迪</td>\n",
       "      <td>Female</td>\n",
       "      <td>34.0</td>\n",
       "      <td>基隆市中正區</td>\n",
       "      <td>住宿 和 餐飲業</td>\n",
       "    </tr>\n",
       "    <tr>\n",
       "      <th>4</th>\n",
       "      <td>1700004</td>\n",
       "      <td>姚鈺迪</td>\n",
       "      <td>Female</td>\n",
       "      <td>34.0</td>\n",
       "      <td>基隆市中正區</td>\n",
       "      <td>住宿和餐飲業</td>\n",
       "    </tr>\n",
       "  </tbody>\n",
       "</table>\n",
       "</div>"
      ],
      "text/plain": [
       "        id name  gender   age    area         job\n",
       "0  1700001  李國發    Male  21.0  新北市三重區   金融業 和房地產 \n",
       "1  1700002  吳俊諺     NaN   0.0  臺北市文山區     金融業和房地產\n",
       "2  1700003  蔡俊毅     NaN   0.0  臺北市文山區    教育體育  文化\n",
       "3  1700004  姚鈺迪  Female  34.0  基隆市中正區    住宿 和 餐飲業\n",
       "4  1700004  姚鈺迪  Female  34.0  基隆市中正區      住宿和餐飲業"
      ]
     },
     "execution_count": 20,
     "metadata": {},
     "output_type": "execute_result"
    }
   ],
   "source": [
    "df_sample.head()"
   ]
  },
  {
   "cell_type": "markdown",
   "id": "9d1542b0",
   "metadata": {},
   "source": [
    "### 數值填平均值比較好"
   ]
  },
  {
   "cell_type": "code",
   "execution_count": 21,
   "id": "b706c6c7",
   "metadata": {},
   "outputs": [],
   "source": [
    "df_sample = df.copy()"
   ]
  },
  {
   "cell_type": "code",
   "execution_count": 22,
   "id": "e9357edf",
   "metadata": {},
   "outputs": [],
   "source": [
    "df_sample['age'] = df_sample['age'].fillna(value=df_sample['age'].mean())"
   ]
  },
  {
   "cell_type": "code",
   "execution_count": 23,
   "id": "884e3829",
   "metadata": {},
   "outputs": [
    {
     "data": {
      "text/html": [
       "<div>\n",
       "<style scoped>\n",
       "    .dataframe tbody tr th:only-of-type {\n",
       "        vertical-align: middle;\n",
       "    }\n",
       "\n",
       "    .dataframe tbody tr th {\n",
       "        vertical-align: top;\n",
       "    }\n",
       "\n",
       "    .dataframe thead th {\n",
       "        text-align: right;\n",
       "    }\n",
       "</style>\n",
       "<table border=\"1\" class=\"dataframe\">\n",
       "  <thead>\n",
       "    <tr style=\"text-align: right;\">\n",
       "      <th></th>\n",
       "      <th>id</th>\n",
       "      <th>name</th>\n",
       "      <th>gender</th>\n",
       "      <th>age</th>\n",
       "      <th>area</th>\n",
       "      <th>job</th>\n",
       "    </tr>\n",
       "  </thead>\n",
       "  <tbody>\n",
       "    <tr>\n",
       "      <th>0</th>\n",
       "      <td>1700001</td>\n",
       "      <td>李國發</td>\n",
       "      <td>Male</td>\n",
       "      <td>21.0</td>\n",
       "      <td>新北市三重區</td>\n",
       "      <td>金融業 和房地產</td>\n",
       "    </tr>\n",
       "    <tr>\n",
       "      <th>1</th>\n",
       "      <td>1700002</td>\n",
       "      <td>吳俊諺</td>\n",
       "      <td>NaN</td>\n",
       "      <td>45.0</td>\n",
       "      <td>臺北市文山區</td>\n",
       "      <td>金融業和房地產</td>\n",
       "    </tr>\n",
       "    <tr>\n",
       "      <th>2</th>\n",
       "      <td>1700003</td>\n",
       "      <td>蔡俊毅</td>\n",
       "      <td>NaN</td>\n",
       "      <td>45.0</td>\n",
       "      <td>臺北市文山區</td>\n",
       "      <td>教育體育  文化</td>\n",
       "    </tr>\n",
       "    <tr>\n",
       "      <th>3</th>\n",
       "      <td>1700004</td>\n",
       "      <td>姚鈺迪</td>\n",
       "      <td>Female</td>\n",
       "      <td>34.0</td>\n",
       "      <td>基隆市中正區</td>\n",
       "      <td>住宿 和 餐飲業</td>\n",
       "    </tr>\n",
       "    <tr>\n",
       "      <th>4</th>\n",
       "      <td>1700004</td>\n",
       "      <td>姚鈺迪</td>\n",
       "      <td>Female</td>\n",
       "      <td>34.0</td>\n",
       "      <td>基隆市中正區</td>\n",
       "      <td>住宿和餐飲業</td>\n",
       "    </tr>\n",
       "    <tr>\n",
       "      <th>5</th>\n",
       "      <td>1700005</td>\n",
       "      <td>袁劭彥</td>\n",
       "      <td>Male</td>\n",
       "      <td>42.0</td>\n",
       "      <td>臺北市文山區</td>\n",
       "      <td>金融業和房地產</td>\n",
       "    </tr>\n",
       "    <tr>\n",
       "      <th>6</th>\n",
       "      <td>1700006</td>\n",
       "      <td>蔡登意</td>\n",
       "      <td>NaN</td>\n",
       "      <td>45.0</td>\n",
       "      <td>NaN</td>\n",
       "      <td>金融業和房地產</td>\n",
       "    </tr>\n",
       "    <tr>\n",
       "      <th>7</th>\n",
       "      <td>1700007</td>\n",
       "      <td>吳景翔</td>\n",
       "      <td>NaN</td>\n",
       "      <td>39.0</td>\n",
       "      <td>NaN</td>\n",
       "      <td>農林牧漁業</td>\n",
       "    </tr>\n",
       "    <tr>\n",
       "      <th>8</th>\n",
       "      <td>1700008</td>\n",
       "      <td>邱孝信</td>\n",
       "      <td>NaN</td>\n",
       "      <td>39.0</td>\n",
       "      <td>NaN</td>\n",
       "      <td>金融業和房地產</td>\n",
       "    </tr>\n",
       "    <tr>\n",
       "      <th>9</th>\n",
       "      <td>1700009</td>\n",
       "      <td>陳明輝</td>\n",
       "      <td>NaN</td>\n",
       "      <td>57.0</td>\n",
       "      <td>基隆市中正區</td>\n",
       "      <td>金融業和房地產</td>\n",
       "    </tr>\n",
       "    <tr>\n",
       "      <th>10</th>\n",
       "      <td>1700010</td>\n",
       "      <td>彭郁翔</td>\n",
       "      <td>NaN</td>\n",
       "      <td>55.0</td>\n",
       "      <td>基隆市中正區</td>\n",
       "      <td>住宿和餐飲業</td>\n",
       "    </tr>\n",
       "    <tr>\n",
       "      <th>11</th>\n",
       "      <td>1700011</td>\n",
       "      <td>許合蓉</td>\n",
       "      <td>Female</td>\n",
       "      <td>61.0</td>\n",
       "      <td>新北市三重區</td>\n",
       "      <td>住宿和餐飲業</td>\n",
       "    </tr>\n",
       "    <tr>\n",
       "      <th>12</th>\n",
       "      <td>1700012</td>\n",
       "      <td>武家豪</td>\n",
       "      <td>Male</td>\n",
       "      <td>53.0</td>\n",
       "      <td>新北市三重區</td>\n",
       "      <td>農林牧漁業</td>\n",
       "    </tr>\n",
       "    <tr>\n",
       "      <th>13</th>\n",
       "      <td>1700013</td>\n",
       "      <td>郭信邦</td>\n",
       "      <td>NaN</td>\n",
       "      <td>48.0</td>\n",
       "      <td>新北市三重區</td>\n",
       "      <td>教育體育文化</td>\n",
       "    </tr>\n",
       "    <tr>\n",
       "      <th>14</th>\n",
       "      <td>1700014</td>\n",
       "      <td>周聿綠</td>\n",
       "      <td>Female</td>\n",
       "      <td>57.0</td>\n",
       "      <td>基隆市中正區</td>\n",
       "      <td>金融業和房地產</td>\n",
       "    </tr>\n",
       "  </tbody>\n",
       "</table>\n",
       "</div>"
      ],
      "text/plain": [
       "         id name  gender   age    area         job\n",
       "0   1700001  李國發    Male  21.0  新北市三重區   金融業 和房地產 \n",
       "1   1700002  吳俊諺     NaN  45.0  臺北市文山區     金融業和房地產\n",
       "2   1700003  蔡俊毅     NaN  45.0  臺北市文山區    教育體育  文化\n",
       "3   1700004  姚鈺迪  Female  34.0  基隆市中正區    住宿 和 餐飲業\n",
       "4   1700004  姚鈺迪  Female  34.0  基隆市中正區      住宿和餐飲業\n",
       "5   1700005  袁劭彥    Male  42.0  臺北市文山區     金融業和房地產\n",
       "6   1700006  蔡登意     NaN  45.0     NaN     金融業和房地產\n",
       "7   1700007  吳景翔     NaN  39.0     NaN       農林牧漁業\n",
       "8   1700008  邱孝信     NaN  39.0     NaN     金融業和房地產\n",
       "9   1700009  陳明輝     NaN  57.0  基隆市中正區     金融業和房地產\n",
       "10  1700010  彭郁翔     NaN  55.0  基隆市中正區      住宿和餐飲業\n",
       "11  1700011  許合蓉  Female  61.0  新北市三重區      住宿和餐飲業\n",
       "12  1700012  武家豪    Male  53.0  新北市三重區       農林牧漁業\n",
       "13  1700013  郭信邦     NaN  48.0  新北市三重區      教育體育文化\n",
       "14  1700014  周聿綠  Female  57.0  基隆市中正區     金融業和房地產"
      ]
     },
     "execution_count": 23,
     "metadata": {},
     "output_type": "execute_result"
    }
   ],
   "source": [
    "df_sample"
   ]
  },
  {
   "cell_type": "markdown",
   "source": [
    "## fillna method 適用字串\n",
    "### bfill: back-fill (向後看來補值)\n",
    "### ffill: forward-fill (向前看來補值)"
   ],
   "metadata": {
    "collapsed": false
   },
   "id": "60c34542e28f71da"
  },
  {
   "cell_type": "code",
   "execution_count": 25,
   "id": "8fd9fd55",
   "metadata": {},
   "outputs": [
    {
     "data": {
      "text/html": [
       "<div>\n",
       "<style scoped>\n",
       "    .dataframe tbody tr th:only-of-type {\n",
       "        vertical-align: middle;\n",
       "    }\n",
       "\n",
       "    .dataframe tbody tr th {\n",
       "        vertical-align: top;\n",
       "    }\n",
       "\n",
       "    .dataframe thead th {\n",
       "        text-align: right;\n",
       "    }\n",
       "</style>\n",
       "<table border=\"1\" class=\"dataframe\">\n",
       "  <thead>\n",
       "    <tr style=\"text-align: right;\">\n",
       "      <th></th>\n",
       "      <th>id</th>\n",
       "      <th>name</th>\n",
       "      <th>gender</th>\n",
       "      <th>age</th>\n",
       "      <th>area</th>\n",
       "      <th>job</th>\n",
       "    </tr>\n",
       "  </thead>\n",
       "  <tbody>\n",
       "    <tr>\n",
       "      <th>0</th>\n",
       "      <td>1700001</td>\n",
       "      <td>李國發</td>\n",
       "      <td>Male</td>\n",
       "      <td>21.0</td>\n",
       "      <td>新北市三重區</td>\n",
       "      <td>金融業 和房地產</td>\n",
       "    </tr>\n",
       "    <tr>\n",
       "      <th>1</th>\n",
       "      <td>1700002</td>\n",
       "      <td>吳俊諺</td>\n",
       "      <td>Female</td>\n",
       "      <td>NaN</td>\n",
       "      <td>臺北市文山區</td>\n",
       "      <td>金融業和房地產</td>\n",
       "    </tr>\n",
       "    <tr>\n",
       "      <th>2</th>\n",
       "      <td>1700003</td>\n",
       "      <td>蔡俊毅</td>\n",
       "      <td>Female</td>\n",
       "      <td>NaN</td>\n",
       "      <td>臺北市文山區</td>\n",
       "      <td>教育體育  文化</td>\n",
       "    </tr>\n",
       "    <tr>\n",
       "      <th>3</th>\n",
       "      <td>1700004</td>\n",
       "      <td>姚鈺迪</td>\n",
       "      <td>Female</td>\n",
       "      <td>34.0</td>\n",
       "      <td>基隆市中正區</td>\n",
       "      <td>住宿 和 餐飲業</td>\n",
       "    </tr>\n",
       "    <tr>\n",
       "      <th>4</th>\n",
       "      <td>1700004</td>\n",
       "      <td>姚鈺迪</td>\n",
       "      <td>Female</td>\n",
       "      <td>34.0</td>\n",
       "      <td>基隆市中正區</td>\n",
       "      <td>住宿和餐飲業</td>\n",
       "    </tr>\n",
       "    <tr>\n",
       "      <th>5</th>\n",
       "      <td>1700005</td>\n",
       "      <td>袁劭彥</td>\n",
       "      <td>Male</td>\n",
       "      <td>42.0</td>\n",
       "      <td>臺北市文山區</td>\n",
       "      <td>金融業和房地產</td>\n",
       "    </tr>\n",
       "    <tr>\n",
       "      <th>6</th>\n",
       "      <td>1700006</td>\n",
       "      <td>蔡登意</td>\n",
       "      <td>Female</td>\n",
       "      <td>NaN</td>\n",
       "      <td>NaN</td>\n",
       "      <td>金融業和房地產</td>\n",
       "    </tr>\n",
       "    <tr>\n",
       "      <th>7</th>\n",
       "      <td>1700007</td>\n",
       "      <td>吳景翔</td>\n",
       "      <td>Female</td>\n",
       "      <td>39.0</td>\n",
       "      <td>NaN</td>\n",
       "      <td>農林牧漁業</td>\n",
       "    </tr>\n",
       "    <tr>\n",
       "      <th>8</th>\n",
       "      <td>1700008</td>\n",
       "      <td>邱孝信</td>\n",
       "      <td>Female</td>\n",
       "      <td>39.0</td>\n",
       "      <td>NaN</td>\n",
       "      <td>金融業和房地產</td>\n",
       "    </tr>\n",
       "    <tr>\n",
       "      <th>9</th>\n",
       "      <td>1700009</td>\n",
       "      <td>陳明輝</td>\n",
       "      <td>Female</td>\n",
       "      <td>57.0</td>\n",
       "      <td>基隆市中正區</td>\n",
       "      <td>金融業和房地產</td>\n",
       "    </tr>\n",
       "    <tr>\n",
       "      <th>10</th>\n",
       "      <td>1700010</td>\n",
       "      <td>彭郁翔</td>\n",
       "      <td>Female</td>\n",
       "      <td>55.0</td>\n",
       "      <td>基隆市中正區</td>\n",
       "      <td>住宿和餐飲業</td>\n",
       "    </tr>\n",
       "    <tr>\n",
       "      <th>11</th>\n",
       "      <td>1700011</td>\n",
       "      <td>許合蓉</td>\n",
       "      <td>Female</td>\n",
       "      <td>61.0</td>\n",
       "      <td>新北市三重區</td>\n",
       "      <td>住宿和餐飲業</td>\n",
       "    </tr>\n",
       "    <tr>\n",
       "      <th>12</th>\n",
       "      <td>1700012</td>\n",
       "      <td>武家豪</td>\n",
       "      <td>Male</td>\n",
       "      <td>53.0</td>\n",
       "      <td>新北市三重區</td>\n",
       "      <td>農林牧漁業</td>\n",
       "    </tr>\n",
       "    <tr>\n",
       "      <th>13</th>\n",
       "      <td>1700013</td>\n",
       "      <td>郭信邦</td>\n",
       "      <td>Female</td>\n",
       "      <td>48.0</td>\n",
       "      <td>新北市三重區</td>\n",
       "      <td>教育體育文化</td>\n",
       "    </tr>\n",
       "    <tr>\n",
       "      <th>14</th>\n",
       "      <td>1700014</td>\n",
       "      <td>周聿綠</td>\n",
       "      <td>Female</td>\n",
       "      <td>57.0</td>\n",
       "      <td>基隆市中正區</td>\n",
       "      <td>金融業和房地產</td>\n",
       "    </tr>\n",
       "  </tbody>\n",
       "</table>\n",
       "</div>"
      ],
      "text/plain": [
       "         id name  gender   age    area         job\n",
       "0   1700001  李國發    Male  21.0  新北市三重區   金融業 和房地產 \n",
       "1   1700002  吳俊諺  Female   NaN  臺北市文山區     金融業和房地產\n",
       "2   1700003  蔡俊毅  Female   NaN  臺北市文山區    教育體育  文化\n",
       "3   1700004  姚鈺迪  Female  34.0  基隆市中正區    住宿 和 餐飲業\n",
       "4   1700004  姚鈺迪  Female  34.0  基隆市中正區      住宿和餐飲業\n",
       "5   1700005  袁劭彥    Male  42.0  臺北市文山區     金融業和房地產\n",
       "6   1700006  蔡登意  Female   NaN     NaN     金融業和房地產\n",
       "7   1700007  吳景翔  Female  39.0     NaN       農林牧漁業\n",
       "8   1700008  邱孝信  Female  39.0     NaN     金融業和房地產\n",
       "9   1700009  陳明輝  Female  57.0  基隆市中正區     金融業和房地產\n",
       "10  1700010  彭郁翔  Female  55.0  基隆市中正區      住宿和餐飲業\n",
       "11  1700011  許合蓉  Female  61.0  新北市三重區      住宿和餐飲業\n",
       "12  1700012  武家豪    Male  53.0  新北市三重區       農林牧漁業\n",
       "13  1700013  郭信邦  Female  48.0  新北市三重區      教育體育文化\n",
       "14  1700014  周聿綠  Female  57.0  基隆市中正區     金融業和房地產"
      ]
     },
     "execution_count": 25,
     "metadata": {},
     "output_type": "execute_result"
    }
   ],
   "source": [
    "df_sample = df.copy()\n",
    "df_sample['gender'] = df_sample['gender'].fillna(method='bfill')\n",
    "df_sample"
   ]
  },
  {
   "cell_type": "markdown",
   "id": "83541519",
   "metadata": {},
   "source": [
    "## 刪除空值資料 dropna()"
   ]
  },
  {
   "cell_type": "code",
   "execution_count": 26,
   "id": "3cd46ebb",
   "metadata": {
    "scrolled": true
   },
   "outputs": [
    {
     "data": {
      "text/html": [
       "<div>\n",
       "<style scoped>\n",
       "    .dataframe tbody tr th:only-of-type {\n",
       "        vertical-align: middle;\n",
       "    }\n",
       "\n",
       "    .dataframe tbody tr th {\n",
       "        vertical-align: top;\n",
       "    }\n",
       "\n",
       "    .dataframe thead th {\n",
       "        text-align: right;\n",
       "    }\n",
       "</style>\n",
       "<table border=\"1\" class=\"dataframe\">\n",
       "  <thead>\n",
       "    <tr style=\"text-align: right;\">\n",
       "      <th></th>\n",
       "      <th>id</th>\n",
       "      <th>name</th>\n",
       "      <th>gender</th>\n",
       "      <th>age</th>\n",
       "      <th>area</th>\n",
       "      <th>job</th>\n",
       "    </tr>\n",
       "  </thead>\n",
       "  <tbody>\n",
       "    <tr>\n",
       "      <th>0</th>\n",
       "      <td>1700001</td>\n",
       "      <td>李國發</td>\n",
       "      <td>Male</td>\n",
       "      <td>21.0</td>\n",
       "      <td>新北市三重區</td>\n",
       "      <td>金融業 和房地產</td>\n",
       "    </tr>\n",
       "    <tr>\n",
       "      <th>3</th>\n",
       "      <td>1700004</td>\n",
       "      <td>姚鈺迪</td>\n",
       "      <td>Female</td>\n",
       "      <td>34.0</td>\n",
       "      <td>基隆市中正區</td>\n",
       "      <td>住宿 和 餐飲業</td>\n",
       "    </tr>\n",
       "    <tr>\n",
       "      <th>4</th>\n",
       "      <td>1700004</td>\n",
       "      <td>姚鈺迪</td>\n",
       "      <td>Female</td>\n",
       "      <td>34.0</td>\n",
       "      <td>基隆市中正區</td>\n",
       "      <td>住宿和餐飲業</td>\n",
       "    </tr>\n",
       "    <tr>\n",
       "      <th>5</th>\n",
       "      <td>1700005</td>\n",
       "      <td>袁劭彥</td>\n",
       "      <td>Male</td>\n",
       "      <td>42.0</td>\n",
       "      <td>臺北市文山區</td>\n",
       "      <td>金融業和房地產</td>\n",
       "    </tr>\n",
       "    <tr>\n",
       "      <th>11</th>\n",
       "      <td>1700011</td>\n",
       "      <td>許合蓉</td>\n",
       "      <td>Female</td>\n",
       "      <td>61.0</td>\n",
       "      <td>新北市三重區</td>\n",
       "      <td>住宿和餐飲業</td>\n",
       "    </tr>\n",
       "    <tr>\n",
       "      <th>12</th>\n",
       "      <td>1700012</td>\n",
       "      <td>武家豪</td>\n",
       "      <td>Male</td>\n",
       "      <td>53.0</td>\n",
       "      <td>新北市三重區</td>\n",
       "      <td>農林牧漁業</td>\n",
       "    </tr>\n",
       "    <tr>\n",
       "      <th>14</th>\n",
       "      <td>1700014</td>\n",
       "      <td>周聿綠</td>\n",
       "      <td>Female</td>\n",
       "      <td>57.0</td>\n",
       "      <td>基隆市中正區</td>\n",
       "      <td>金融業和房地產</td>\n",
       "    </tr>\n",
       "  </tbody>\n",
       "</table>\n",
       "</div>"
      ],
      "text/plain": [
       "         id name  gender   age    area         job\n",
       "0   1700001  李國發    Male  21.0  新北市三重區   金融業 和房地產 \n",
       "3   1700004  姚鈺迪  Female  34.0  基隆市中正區    住宿 和 餐飲業\n",
       "4   1700004  姚鈺迪  Female  34.0  基隆市中正區      住宿和餐飲業\n",
       "5   1700005  袁劭彥    Male  42.0  臺北市文山區     金融業和房地產\n",
       "11  1700011  許合蓉  Female  61.0  新北市三重區      住宿和餐飲業\n",
       "12  1700012  武家豪    Male  53.0  新北市三重區       農林牧漁業\n",
       "14  1700014  周聿綠  Female  57.0  基隆市中正區     金融業和房地產"
      ]
     },
     "execution_count": 26,
     "metadata": {},
     "output_type": "execute_result"
    }
   ],
   "source": [
    "df_sample = df.copy()\n",
    "df_sample.dropna()"
   ]
  },
  {
   "cell_type": "markdown",
   "id": "24c22d5e",
   "metadata": {},
   "source": [
    "## 去除重複資料 drop_duplicates"
   ]
  },
  {
   "cell_type": "code",
   "execution_count": 29,
   "id": "3dd6955c",
   "metadata": {},
   "outputs": [
    {
     "data": {
      "text/html": [
       "<div>\n",
       "<style scoped>\n",
       "    .dataframe tbody tr th:only-of-type {\n",
       "        vertical-align: middle;\n",
       "    }\n",
       "\n",
       "    .dataframe tbody tr th {\n",
       "        vertical-align: top;\n",
       "    }\n",
       "\n",
       "    .dataframe thead th {\n",
       "        text-align: right;\n",
       "    }\n",
       "</style>\n",
       "<table border=\"1\" class=\"dataframe\">\n",
       "  <thead>\n",
       "    <tr style=\"text-align: right;\">\n",
       "      <th></th>\n",
       "      <th>id</th>\n",
       "      <th>name</th>\n",
       "      <th>gender</th>\n",
       "      <th>age</th>\n",
       "      <th>area</th>\n",
       "      <th>job</th>\n",
       "    </tr>\n",
       "  </thead>\n",
       "  <tbody>\n",
       "    <tr>\n",
       "      <th>0</th>\n",
       "      <td>1700001</td>\n",
       "      <td>李國發</td>\n",
       "      <td>Male</td>\n",
       "      <td>21.0</td>\n",
       "      <td>新北市三重區</td>\n",
       "      <td>金融業 和房地產</td>\n",
       "    </tr>\n",
       "    <tr>\n",
       "      <th>1</th>\n",
       "      <td>1700002</td>\n",
       "      <td>吳俊諺</td>\n",
       "      <td>NaN</td>\n",
       "      <td>NaN</td>\n",
       "      <td>臺北市文山區</td>\n",
       "      <td>金融業和房地產</td>\n",
       "    </tr>\n",
       "    <tr>\n",
       "      <th>2</th>\n",
       "      <td>1700003</td>\n",
       "      <td>蔡俊毅</td>\n",
       "      <td>NaN</td>\n",
       "      <td>NaN</td>\n",
       "      <td>臺北市文山區</td>\n",
       "      <td>教育體育  文化</td>\n",
       "    </tr>\n",
       "    <tr>\n",
       "      <th>3</th>\n",
       "      <td>1700004</td>\n",
       "      <td>姚鈺迪</td>\n",
       "      <td>Female</td>\n",
       "      <td>34.0</td>\n",
       "      <td>基隆市中正區</td>\n",
       "      <td>住宿 和 餐飲業</td>\n",
       "    </tr>\n",
       "    <tr>\n",
       "      <th>5</th>\n",
       "      <td>1700005</td>\n",
       "      <td>袁劭彥</td>\n",
       "      <td>Male</td>\n",
       "      <td>42.0</td>\n",
       "      <td>臺北市文山區</td>\n",
       "      <td>金融業和房地產</td>\n",
       "    </tr>\n",
       "    <tr>\n",
       "      <th>6</th>\n",
       "      <td>1700006</td>\n",
       "      <td>蔡登意</td>\n",
       "      <td>NaN</td>\n",
       "      <td>NaN</td>\n",
       "      <td>NaN</td>\n",
       "      <td>金融業和房地產</td>\n",
       "    </tr>\n",
       "    <tr>\n",
       "      <th>7</th>\n",
       "      <td>1700007</td>\n",
       "      <td>吳景翔</td>\n",
       "      <td>NaN</td>\n",
       "      <td>39.0</td>\n",
       "      <td>NaN</td>\n",
       "      <td>農林牧漁業</td>\n",
       "    </tr>\n",
       "    <tr>\n",
       "      <th>8</th>\n",
       "      <td>1700008</td>\n",
       "      <td>邱孝信</td>\n",
       "      <td>NaN</td>\n",
       "      <td>39.0</td>\n",
       "      <td>NaN</td>\n",
       "      <td>金融業和房地產</td>\n",
       "    </tr>\n",
       "    <tr>\n",
       "      <th>9</th>\n",
       "      <td>1700009</td>\n",
       "      <td>陳明輝</td>\n",
       "      <td>NaN</td>\n",
       "      <td>57.0</td>\n",
       "      <td>基隆市中正區</td>\n",
       "      <td>金融業和房地產</td>\n",
       "    </tr>\n",
       "    <tr>\n",
       "      <th>10</th>\n",
       "      <td>1700010</td>\n",
       "      <td>彭郁翔</td>\n",
       "      <td>NaN</td>\n",
       "      <td>55.0</td>\n",
       "      <td>基隆市中正區</td>\n",
       "      <td>住宿和餐飲業</td>\n",
       "    </tr>\n",
       "    <tr>\n",
       "      <th>11</th>\n",
       "      <td>1700011</td>\n",
       "      <td>許合蓉</td>\n",
       "      <td>Female</td>\n",
       "      <td>61.0</td>\n",
       "      <td>新北市三重區</td>\n",
       "      <td>住宿和餐飲業</td>\n",
       "    </tr>\n",
       "    <tr>\n",
       "      <th>12</th>\n",
       "      <td>1700012</td>\n",
       "      <td>武家豪</td>\n",
       "      <td>Male</td>\n",
       "      <td>53.0</td>\n",
       "      <td>新北市三重區</td>\n",
       "      <td>農林牧漁業</td>\n",
       "    </tr>\n",
       "    <tr>\n",
       "      <th>13</th>\n",
       "      <td>1700013</td>\n",
       "      <td>郭信邦</td>\n",
       "      <td>NaN</td>\n",
       "      <td>48.0</td>\n",
       "      <td>新北市三重區</td>\n",
       "      <td>教育體育文化</td>\n",
       "    </tr>\n",
       "    <tr>\n",
       "      <th>14</th>\n",
       "      <td>1700014</td>\n",
       "      <td>周聿綠</td>\n",
       "      <td>Female</td>\n",
       "      <td>57.0</td>\n",
       "      <td>基隆市中正區</td>\n",
       "      <td>金融業和房地產</td>\n",
       "    </tr>\n",
       "  </tbody>\n",
       "</table>\n",
       "</div>"
      ],
      "text/plain": [
       "         id name  gender   age    area         job\n",
       "0   1700001  李國發    Male  21.0  新北市三重區   金融業 和房地產 \n",
       "1   1700002  吳俊諺     NaN   NaN  臺北市文山區     金融業和房地產\n",
       "2   1700003  蔡俊毅     NaN   NaN  臺北市文山區    教育體育  文化\n",
       "3   1700004  姚鈺迪  Female  34.0  基隆市中正區    住宿 和 餐飲業\n",
       "5   1700005  袁劭彥    Male  42.0  臺北市文山區     金融業和房地產\n",
       "6   1700006  蔡登意     NaN   NaN     NaN     金融業和房地產\n",
       "7   1700007  吳景翔     NaN  39.0     NaN       農林牧漁業\n",
       "8   1700008  邱孝信     NaN  39.0     NaN     金融業和房地產\n",
       "9   1700009  陳明輝     NaN  57.0  基隆市中正區     金融業和房地產\n",
       "10  1700010  彭郁翔     NaN  55.0  基隆市中正區      住宿和餐飲業\n",
       "11  1700011  許合蓉  Female  61.0  新北市三重區      住宿和餐飲業\n",
       "12  1700012  武家豪    Male  53.0  新北市三重區       農林牧漁業\n",
       "13  1700013  郭信邦     NaN  48.0  新北市三重區      教育體育文化\n",
       "14  1700014  周聿綠  Female  57.0  基隆市中正區     金融業和房地產"
      ]
     },
     "execution_count": 29,
     "metadata": {},
     "output_type": "execute_result"
    }
   ],
   "source": [
    "df_sample = df.copy()\n",
    "# subset: 設定要來判斷重複的欄位\n",
    "# keep: 設定重複時要保留的資料 first保留第一筆\n",
    "# inplace: df_sample的資料就會被去掉\n",
    "df_sample.drop_duplicates(subset='id',keep='first',inplace=True)\n",
    "df_sample.head(15)"
   ]
  },
  {
   "cell_type": "markdown",
   "id": "4695b2f8",
   "metadata": {},
   "source": [
    "# 資料內容置換\n",
    "去除其中空白，或是至換字串"
   ]
  },
  {
   "cell_type": "code",
   "execution_count": 30,
   "id": "6d4839fd",
   "metadata": {},
   "outputs": [
    {
     "data": {
      "text/html": [
       "<div>\n",
       "<style scoped>\n",
       "    .dataframe tbody tr th:only-of-type {\n",
       "        vertical-align: middle;\n",
       "    }\n",
       "\n",
       "    .dataframe tbody tr th {\n",
       "        vertical-align: top;\n",
       "    }\n",
       "\n",
       "    .dataframe thead th {\n",
       "        text-align: right;\n",
       "    }\n",
       "</style>\n",
       "<table border=\"1\" class=\"dataframe\">\n",
       "  <thead>\n",
       "    <tr style=\"text-align: right;\">\n",
       "      <th></th>\n",
       "      <th>id</th>\n",
       "      <th>name</th>\n",
       "      <th>gender</th>\n",
       "      <th>age</th>\n",
       "      <th>area</th>\n",
       "      <th>job</th>\n",
       "    </tr>\n",
       "  </thead>\n",
       "  <tbody>\n",
       "    <tr>\n",
       "      <th>0</th>\n",
       "      <td>1700001</td>\n",
       "      <td>李國發</td>\n",
       "      <td>Male</td>\n",
       "      <td>21.0</td>\n",
       "      <td>新北市三重區</td>\n",
       "      <td>金融業和房地產</td>\n",
       "    </tr>\n",
       "    <tr>\n",
       "      <th>1</th>\n",
       "      <td>1700002</td>\n",
       "      <td>吳俊諺</td>\n",
       "      <td>NaN</td>\n",
       "      <td>NaN</td>\n",
       "      <td>臺北市文山區</td>\n",
       "      <td>金融業和房地產</td>\n",
       "    </tr>\n",
       "    <tr>\n",
       "      <th>2</th>\n",
       "      <td>1700003</td>\n",
       "      <td>蔡俊毅</td>\n",
       "      <td>NaN</td>\n",
       "      <td>NaN</td>\n",
       "      <td>臺北市文山區</td>\n",
       "      <td>教育體育文化</td>\n",
       "    </tr>\n",
       "    <tr>\n",
       "      <th>3</th>\n",
       "      <td>1700004</td>\n",
       "      <td>姚鈺迪</td>\n",
       "      <td>Female</td>\n",
       "      <td>34.0</td>\n",
       "      <td>基隆市中正區</td>\n",
       "      <td>住宿和餐飲業</td>\n",
       "    </tr>\n",
       "    <tr>\n",
       "      <th>4</th>\n",
       "      <td>1700004</td>\n",
       "      <td>姚鈺迪</td>\n",
       "      <td>Female</td>\n",
       "      <td>34.0</td>\n",
       "      <td>基隆市中正區</td>\n",
       "      <td>住宿和餐飲業</td>\n",
       "    </tr>\n",
       "    <tr>\n",
       "      <th>5</th>\n",
       "      <td>1700005</td>\n",
       "      <td>袁劭彥</td>\n",
       "      <td>Male</td>\n",
       "      <td>42.0</td>\n",
       "      <td>臺北市文山區</td>\n",
       "      <td>金融業和房地產</td>\n",
       "    </tr>\n",
       "    <tr>\n",
       "      <th>6</th>\n",
       "      <td>1700006</td>\n",
       "      <td>蔡登意</td>\n",
       "      <td>NaN</td>\n",
       "      <td>NaN</td>\n",
       "      <td>NaN</td>\n",
       "      <td>金融業和房地產</td>\n",
       "    </tr>\n",
       "    <tr>\n",
       "      <th>7</th>\n",
       "      <td>1700007</td>\n",
       "      <td>吳景翔</td>\n",
       "      <td>NaN</td>\n",
       "      <td>39.0</td>\n",
       "      <td>NaN</td>\n",
       "      <td>農林牧漁業</td>\n",
       "    </tr>\n",
       "    <tr>\n",
       "      <th>8</th>\n",
       "      <td>1700008</td>\n",
       "      <td>邱孝信</td>\n",
       "      <td>NaN</td>\n",
       "      <td>39.0</td>\n",
       "      <td>NaN</td>\n",
       "      <td>金融業和房地產</td>\n",
       "    </tr>\n",
       "    <tr>\n",
       "      <th>9</th>\n",
       "      <td>1700009</td>\n",
       "      <td>陳明輝</td>\n",
       "      <td>NaN</td>\n",
       "      <td>57.0</td>\n",
       "      <td>基隆市中正區</td>\n",
       "      <td>金融業和房地產</td>\n",
       "    </tr>\n",
       "    <tr>\n",
       "      <th>10</th>\n",
       "      <td>1700010</td>\n",
       "      <td>彭郁翔</td>\n",
       "      <td>NaN</td>\n",
       "      <td>55.0</td>\n",
       "      <td>基隆市中正區</td>\n",
       "      <td>住宿和餐飲業</td>\n",
       "    </tr>\n",
       "    <tr>\n",
       "      <th>11</th>\n",
       "      <td>1700011</td>\n",
       "      <td>許合蓉</td>\n",
       "      <td>Female</td>\n",
       "      <td>61.0</td>\n",
       "      <td>新北市三重區</td>\n",
       "      <td>住宿和餐飲業</td>\n",
       "    </tr>\n",
       "    <tr>\n",
       "      <th>12</th>\n",
       "      <td>1700012</td>\n",
       "      <td>武家豪</td>\n",
       "      <td>Male</td>\n",
       "      <td>53.0</td>\n",
       "      <td>新北市三重區</td>\n",
       "      <td>農林牧漁業</td>\n",
       "    </tr>\n",
       "    <tr>\n",
       "      <th>13</th>\n",
       "      <td>1700013</td>\n",
       "      <td>郭信邦</td>\n",
       "      <td>NaN</td>\n",
       "      <td>48.0</td>\n",
       "      <td>新北市三重區</td>\n",
       "      <td>教育體育文化</td>\n",
       "    </tr>\n",
       "    <tr>\n",
       "      <th>14</th>\n",
       "      <td>1700014</td>\n",
       "      <td>周聿綠</td>\n",
       "      <td>Female</td>\n",
       "      <td>57.0</td>\n",
       "      <td>基隆市中正區</td>\n",
       "      <td>金融業和房地產</td>\n",
       "    </tr>\n",
       "  </tbody>\n",
       "</table>\n",
       "</div>"
      ],
      "text/plain": [
       "         id name  gender   age    area      job\n",
       "0   1700001  李國發    Male  21.0  新北市三重區  金融業和房地產\n",
       "1   1700002  吳俊諺     NaN   NaN  臺北市文山區  金融業和房地產\n",
       "2   1700003  蔡俊毅     NaN   NaN  臺北市文山區   教育體育文化\n",
       "3   1700004  姚鈺迪  Female  34.0  基隆市中正區   住宿和餐飲業\n",
       "4   1700004  姚鈺迪  Female  34.0  基隆市中正區   住宿和餐飲業\n",
       "5   1700005  袁劭彥    Male  42.0  臺北市文山區  金融業和房地產\n",
       "6   1700006  蔡登意     NaN   NaN     NaN  金融業和房地產\n",
       "7   1700007  吳景翔     NaN  39.0     NaN    農林牧漁業\n",
       "8   1700008  邱孝信     NaN  39.0     NaN  金融業和房地產\n",
       "9   1700009  陳明輝     NaN  57.0  基隆市中正區  金融業和房地產\n",
       "10  1700010  彭郁翔     NaN  55.0  基隆市中正區   住宿和餐飲業\n",
       "11  1700011  許合蓉  Female  61.0  新北市三重區   住宿和餐飲業\n",
       "12  1700012  武家豪    Male  53.0  新北市三重區    農林牧漁業\n",
       "13  1700013  郭信邦     NaN  48.0  新北市三重區   教育體育文化\n",
       "14  1700014  周聿綠  Female  57.0  基隆市中正區  金融業和房地產"
      ]
     },
     "execution_count": 30,
     "metadata": {},
     "output_type": "execute_result"
    }
   ],
   "source": [
    "df_sample = df.copy()\n",
    "# 去左右空白\n",
    "df_sample['job'] = df_sample['job'].str.strip()\n",
    "df_sample['job'] = df_sample['job'].str.replace(' ','')\n",
    "df_sample"
   ]
  },
  {
   "cell_type": "markdown",
   "id": "13664ce5",
   "metadata": {},
   "source": [
    "# 欄位中有幾種不同的類別"
   ]
  },
  {
   "cell_type": "code",
   "execution_count": 31,
   "id": "32e8c33a",
   "metadata": {},
   "outputs": [
    {
     "data": {
      "text/plain": [
       "array(['Male', nan, 'Female'], dtype=object)"
      ]
     },
     "execution_count": 31,
     "metadata": {},
     "output_type": "execute_result"
    }
   ],
   "source": [
    "df_sample = df.copy()\n",
    "# nan表缺值\n",
    "df_sample['gender'].unique()"
   ]
  },
  {
   "cell_type": "code",
   "execution_count": 32,
   "id": "872fecbb",
   "metadata": {},
   "outputs": [
    {
     "data": {
      "text/plain": [
       "array(['新北市三重區', '臺北市文山區', '基隆市中正區', nan], dtype=object)"
      ]
     },
     "execution_count": 32,
     "metadata": {},
     "output_type": "execute_result"
    }
   ],
   "source": [
    "df_sample['area'].unique()"
   ]
  },
  {
   "cell_type": "markdown",
   "id": "f93c1061",
   "metadata": {},
   "source": [
    "# 資料篩選"
   ]
  },
  {
   "cell_type": "code",
   "execution_count": 33,
   "id": "0ab46c9d",
   "metadata": {},
   "outputs": [
    {
     "data": {
      "text/html": [
       "<div>\n",
       "<style scoped>\n",
       "    .dataframe tbody tr th:only-of-type {\n",
       "        vertical-align: middle;\n",
       "    }\n",
       "\n",
       "    .dataframe tbody tr th {\n",
       "        vertical-align: top;\n",
       "    }\n",
       "\n",
       "    .dataframe thead th {\n",
       "        text-align: right;\n",
       "    }\n",
       "</style>\n",
       "<table border=\"1\" class=\"dataframe\">\n",
       "  <thead>\n",
       "    <tr style=\"text-align: right;\">\n",
       "      <th></th>\n",
       "      <th>id</th>\n",
       "      <th>name</th>\n",
       "      <th>gender</th>\n",
       "      <th>age</th>\n",
       "      <th>area</th>\n",
       "      <th>job</th>\n",
       "    </tr>\n",
       "  </thead>\n",
       "  <tbody>\n",
       "    <tr>\n",
       "      <th>3</th>\n",
       "      <td>1700004</td>\n",
       "      <td>姚鈺迪</td>\n",
       "      <td>Female</td>\n",
       "      <td>34.0</td>\n",
       "      <td>基隆市中正區</td>\n",
       "      <td>住宿 和 餐飲業</td>\n",
       "    </tr>\n",
       "    <tr>\n",
       "      <th>4</th>\n",
       "      <td>1700004</td>\n",
       "      <td>姚鈺迪</td>\n",
       "      <td>Female</td>\n",
       "      <td>34.0</td>\n",
       "      <td>基隆市中正區</td>\n",
       "      <td>住宿和餐飲業</td>\n",
       "    </tr>\n",
       "    <tr>\n",
       "      <th>11</th>\n",
       "      <td>1700011</td>\n",
       "      <td>許合蓉</td>\n",
       "      <td>Female</td>\n",
       "      <td>61.0</td>\n",
       "      <td>新北市三重區</td>\n",
       "      <td>住宿和餐飲業</td>\n",
       "    </tr>\n",
       "    <tr>\n",
       "      <th>14</th>\n",
       "      <td>1700014</td>\n",
       "      <td>周聿綠</td>\n",
       "      <td>Female</td>\n",
       "      <td>57.0</td>\n",
       "      <td>基隆市中正區</td>\n",
       "      <td>金融業和房地產</td>\n",
       "    </tr>\n",
       "  </tbody>\n",
       "</table>\n",
       "</div>"
      ],
      "text/plain": [
       "         id name  gender   age    area        job\n",
       "3   1700004  姚鈺迪  Female  34.0  基隆市中正區   住宿 和 餐飲業\n",
       "4   1700004  姚鈺迪  Female  34.0  基隆市中正區     住宿和餐飲業\n",
       "11  1700011  許合蓉  Female  61.0  新北市三重區     住宿和餐飲業\n",
       "14  1700014  周聿綠  Female  57.0  基隆市中正區    金融業和房地產"
      ]
     },
     "execution_count": 33,
     "metadata": {},
     "output_type": "execute_result"
    }
   ],
   "source": [
    "df_sample[df_sample['gender'] == 'Female']"
   ]
  },
  {
   "cell_type": "code",
   "execution_count": 38,
   "id": "214b5f94",
   "metadata": {},
   "outputs": [
    {
     "data": {
      "text/html": [
       "<div>\n",
       "<style scoped>\n",
       "    .dataframe tbody tr th:only-of-type {\n",
       "        vertical-align: middle;\n",
       "    }\n",
       "\n",
       "    .dataframe tbody tr th {\n",
       "        vertical-align: top;\n",
       "    }\n",
       "\n",
       "    .dataframe thead th {\n",
       "        text-align: right;\n",
       "    }\n",
       "</style>\n",
       "<table border=\"1\" class=\"dataframe\">\n",
       "  <thead>\n",
       "    <tr style=\"text-align: right;\">\n",
       "      <th></th>\n",
       "      <th>id</th>\n",
       "      <th>name</th>\n",
       "      <th>gender</th>\n",
       "      <th>age</th>\n",
       "      <th>area</th>\n",
       "      <th>job</th>\n",
       "    </tr>\n",
       "  </thead>\n",
       "  <tbody>\n",
       "    <tr>\n",
       "      <th>12</th>\n",
       "      <td>1700012</td>\n",
       "      <td>武家豪</td>\n",
       "      <td>Male</td>\n",
       "      <td>53.0</td>\n",
       "      <td>新北市三重區</td>\n",
       "      <td>農林牧漁業</td>\n",
       "    </tr>\n",
       "  </tbody>\n",
       "</table>\n",
       "</div>"
      ],
      "text/plain": [
       "         id name gender   age    area    job\n",
       "12  1700012  武家豪   Male  53.0  新北市三重區  農林牧漁業"
      ]
     },
     "execution_count": 38,
     "metadata": {},
     "output_type": "execute_result"
    }
   ],
   "source": [
    "# 多個條件\n",
    "df_sample[(df_sample['gender'] == 'Male') & (df_sample['age'] > 50)]"
   ]
  },
  {
   "cell_type": "markdown",
   "id": "9ef15f47",
   "metadata": {},
   "source": [
    "# 分組運算: grouby()"
   ]
  },
  {
   "cell_type": "code",
   "execution_count": 39,
   "id": "c79f9803",
   "metadata": {},
   "outputs": [
    {
     "data": {
      "text/plain": [
       "gender\n",
       "Female    46.500000\n",
       "Male      38.666667\n",
       "Name: age, dtype: float64"
      ]
     },
     "execution_count": 39,
     "metadata": {},
     "output_type": "execute_result"
    }
   ],
   "source": [
    "df_sample.groupby('gender')['age'].mean()"
   ]
  },
  {
   "cell_type": "code",
   "execution_count": 40,
   "id": "4ee1e147",
   "metadata": {},
   "outputs": [
    {
     "data": {
      "text/plain": [
       "area\n",
       "基隆市中正區    5\n",
       "新北市三重區    4\n",
       "臺北市文山區    3\n",
       "Name: id, dtype: int64"
      ]
     },
     "execution_count": 40,
     "metadata": {},
     "output_type": "execute_result"
    }
   ],
   "source": [
    "df_sample.groupby('area')['id'].count()"
   ]
  },
  {
   "cell_type": "code",
   "execution_count": 41,
   "id": "7f00715d",
   "metadata": {},
   "outputs": [
    {
     "data": {
      "text/plain": [
       "job\n",
       " 住宿 和 餐飲業     1\n",
       " 住宿和餐飲業       1\n",
       " 金融業 和房地產     1\n",
       " 金融業和房地產      3\n",
       "住宿和餐飲業        2\n",
       "教育體育  文化      1\n",
       "教育體育文化        1\n",
       "農林牧漁業         2\n",
       "金融業和房地產       3\n",
       "Name: id, dtype: int64"
      ]
     },
     "execution_count": 41,
     "metadata": {},
     "output_type": "execute_result"
    }
   ],
   "source": [
    "df_sample.groupby('job')['id'].count()"
   ]
  },
  {
   "cell_type": "code",
   "execution_count": 42,
   "id": "b93866ef",
   "metadata": {},
   "outputs": [
    {
     "data": {
      "text/html": [
       "<div>\n",
       "<style scoped>\n",
       "    .dataframe tbody tr th:only-of-type {\n",
       "        vertical-align: middle;\n",
       "    }\n",
       "\n",
       "    .dataframe tbody tr th {\n",
       "        vertical-align: top;\n",
       "    }\n",
       "\n",
       "    .dataframe thead th {\n",
       "        text-align: right;\n",
       "    }\n",
       "</style>\n",
       "<table border=\"1\" class=\"dataframe\">\n",
       "  <thead>\n",
       "    <tr style=\"text-align: right;\">\n",
       "      <th></th>\n",
       "      <th>mean</th>\n",
       "      <th>max</th>\n",
       "      <th>min</th>\n",
       "    </tr>\n",
       "    <tr>\n",
       "      <th>gender</th>\n",
       "      <th></th>\n",
       "      <th></th>\n",
       "      <th></th>\n",
       "    </tr>\n",
       "  </thead>\n",
       "  <tbody>\n",
       "    <tr>\n",
       "      <th>Female</th>\n",
       "      <td>46.500000</td>\n",
       "      <td>61.0</td>\n",
       "      <td>34.0</td>\n",
       "    </tr>\n",
       "    <tr>\n",
       "      <th>Male</th>\n",
       "      <td>38.666667</td>\n",
       "      <td>53.0</td>\n",
       "      <td>21.0</td>\n",
       "    </tr>\n",
       "  </tbody>\n",
       "</table>\n",
       "</div>"
      ],
      "text/plain": [
       "             mean   max   min\n",
       "gender                       \n",
       "Female  46.500000  61.0  34.0\n",
       "Male    38.666667  53.0  21.0"
      ]
     },
     "execution_count": 42,
     "metadata": {},
     "output_type": "execute_result"
    }
   ],
   "source": [
    "# agg: aggregation匯總\n",
    "df_sample.groupby('gender')['age'].agg(['mean','max','min'])"
   ]
  },
  {
   "cell_type": "markdown",
   "id": "78a095c5",
   "metadata": {},
   "source": [
    "# numpy"
   ]
  },
  {
   "cell_type": "code",
   "execution_count": 2,
   "id": "7434bfdf",
   "metadata": {
    "ExecuteTime": {
     "end_time": "2023-11-21T03:47:21.467441Z",
     "start_time": "2023-11-21T03:47:21.298693Z"
    }
   },
   "outputs": [],
   "source": [
    "import numpy as np\n",
    "x = [1,2]\n",
    "y = np.array([1,2])"
   ]
  },
  {
   "cell_type": "code",
   "execution_count": 44,
   "id": "eae5493f",
   "metadata": {},
   "outputs": [
    {
     "name": "stdout",
     "output_type": "stream",
     "text": [
      "<class 'list'>\n"
     ]
    }
   ],
   "source": [
    "print(type(x))"
   ]
  },
  {
   "cell_type": "code",
   "execution_count": 45,
   "id": "50b3b0b1",
   "metadata": {},
   "outputs": [
    {
     "name": "stdout",
     "output_type": "stream",
     "text": [
      "<class 'numpy.ndarray'>\n"
     ]
    }
   ],
   "source": [
    "print(type(y))"
   ]
  },
  {
   "cell_type": "code",
   "execution_count": 46,
   "id": "bfcf6403",
   "metadata": {},
   "outputs": [
    {
     "name": "stdout",
     "output_type": "stream",
     "text": [
      "2\n"
     ]
    }
   ],
   "source": [
    "print(x[1])"
   ]
  },
  {
   "cell_type": "code",
   "execution_count": 47,
   "id": "f0074080",
   "metadata": {},
   "outputs": [
    {
     "name": "stdout",
     "output_type": "stream",
     "text": [
      "2\n"
     ]
    }
   ],
   "source": [
    "print(y[1])"
   ]
  },
  {
   "cell_type": "code",
   "execution_count": 48,
   "id": "b6a8fba9",
   "metadata": {},
   "outputs": [
    {
     "name": "stdout",
     "output_type": "stream",
     "text": [
      "[1, 2, 1, 2]\n"
     ]
    }
   ],
   "source": [
    "# list: 複製原串列\n",
    "print(x*2)"
   ]
  },
  {
   "cell_type": "code",
   "execution_count": 49,
   "id": "307e1890",
   "metadata": {},
   "outputs": [
    {
     "name": "stdout",
     "output_type": "stream",
     "text": [
      "[2 4]\n"
     ]
    }
   ],
   "source": [
    "# numpy: 對數值運算\n",
    "print(y*2)"
   ]
  },
  {
   "cell_type": "code",
   "execution_count": 6,
   "id": "eea43e23",
   "metadata": {
    "ExecuteTime": {
     "end_time": "2023-11-21T03:47:45.702739Z",
     "start_time": "2023-11-21T03:47:45.695096Z"
    }
   },
   "outputs": [
    {
     "name": "stdout",
     "output_type": "stream",
     "text": [
      "[1 2 3 4]\n"
     ]
    }
   ],
   "source": [
    "np1 = np.array([1,2,3,4])\n",
    "print(np1)"
   ]
  },
  {
   "cell_type": "code",
   "execution_count": 5,
   "id": "d6d4c14c",
   "metadata": {
    "ExecuteTime": {
     "end_time": "2023-11-21T03:47:39.663706Z",
     "start_time": "2023-11-21T03:47:39.653357Z"
    }
   },
   "outputs": [
    {
     "name": "stdout",
     "output_type": "stream",
     "text": [
      "[1 2 3 4]\n"
     ]
    }
   ],
   "source": [
    "np2 = np.array((1,2,3,4))\n",
    "print(np2)"
   ]
  },
  {
   "cell_type": "code",
   "execution_count": 57,
   "id": "f57671b3",
   "metadata": {},
   "outputs": [
    {
     "data": {
      "text/plain": [
       "array([  0,   1,   2,   3,   4,   5,   6,   7,   8,   9,  10,  11,  12,\n",
       "        13,  14,  15,  16,  17,  18,  19,  20,  21,  22,  23,  24,  25,\n",
       "        26,  27,  28,  29,  30,  31,  32,  33,  34,  35,  36,  37,  38,\n",
       "        39,  40,  41,  42,  43,  44,  45,  46,  47,  48,  49,  50,  51,\n",
       "        52,  53,  54,  55,  56,  57,  58,  59,  60,  61,  62,  63,  64,\n",
       "        65,  66,  67,  68,  69,  70,  71,  72,  73,  74,  75,  76,  77,\n",
       "        78,  79,  80,  81,  82,  83,  84,  85,  86,  87,  88,  89,  90,\n",
       "        91,  92,  93,  94,  95,  96,  97,  98,  99, 100])"
      ]
     },
     "execution_count": 57,
     "metadata": {},
     "output_type": "execute_result"
    }
   ],
   "source": [
    "np3 = np.arange(0,101)\n",
    "np3"
   ]
  },
  {
   "cell_type": "code",
   "execution_count": 61,
   "id": "33ec165f",
   "metadata": {},
   "outputs": [
    {
     "data": {
      "text/plain": [
       "array([1., 5., 9.])"
      ]
     },
     "execution_count": 61,
     "metadata": {},
     "output_type": "execute_result"
    }
   ],
   "source": [
    "# 等距離 \n",
    "# 元素個數: 3-總共3個數\n",
    "np4 = np.linspace(1,9,3)\n",
    "np4"
   ]
  },
  {
   "cell_type": "code",
   "execution_count": 60,
   "id": "1caac270",
   "metadata": {},
   "outputs": [
    {
     "data": {
      "text/plain": [
       "array([  1.        ,   3.35353535,   5.70707071,   8.06060606,\n",
       "        10.41414141,  12.76767677,  15.12121212,  17.47474747,\n",
       "        19.82828283,  22.18181818,  24.53535354,  26.88888889,\n",
       "        29.24242424,  31.5959596 ,  33.94949495,  36.3030303 ,\n",
       "        38.65656566,  41.01010101,  43.36363636,  45.71717172,\n",
       "        48.07070707,  50.42424242,  52.77777778,  55.13131313,\n",
       "        57.48484848,  59.83838384,  62.19191919,  64.54545455,\n",
       "        66.8989899 ,  69.25252525,  71.60606061,  73.95959596,\n",
       "        76.31313131,  78.66666667,  81.02020202,  83.37373737,\n",
       "        85.72727273,  88.08080808,  90.43434343,  92.78787879,\n",
       "        95.14141414,  97.49494949,  99.84848485, 102.2020202 ,\n",
       "       104.55555556, 106.90909091, 109.26262626, 111.61616162,\n",
       "       113.96969697, 116.32323232, 118.67676768, 121.03030303,\n",
       "       123.38383838, 125.73737374, 128.09090909, 130.44444444,\n",
       "       132.7979798 , 135.15151515, 137.50505051, 139.85858586,\n",
       "       142.21212121, 144.56565657, 146.91919192, 149.27272727,\n",
       "       151.62626263, 153.97979798, 156.33333333, 158.68686869,\n",
       "       161.04040404, 163.39393939, 165.74747475, 168.1010101 ,\n",
       "       170.45454545, 172.80808081, 175.16161616, 177.51515152,\n",
       "       179.86868687, 182.22222222, 184.57575758, 186.92929293,\n",
       "       189.28282828, 191.63636364, 193.98989899, 196.34343434,\n",
       "       198.6969697 , 201.05050505, 203.4040404 , 205.75757576,\n",
       "       208.11111111, 210.46464646, 212.81818182, 215.17171717,\n",
       "       217.52525253, 219.87878788, 222.23232323, 224.58585859,\n",
       "       226.93939394, 229.29292929, 231.64646465, 234.        ])"
      ]
     },
     "execution_count": 60,
     "metadata": {},
     "output_type": "execute_result"
    }
   ],
   "source": [
    "np4 = np.linspace(1,234,100)\n",
    "np4"
   ]
  },
  {
   "cell_type": "code",
   "execution_count": 62,
   "id": "ae3d80df",
   "metadata": {},
   "outputs": [
    {
     "data": {
      "text/plain": [
       "array([[1., 1., 1.],\n",
       "       [1., 1., 1.]])"
      ]
     },
     "execution_count": 62,
     "metadata": {},
     "output_type": "execute_result"
    }
   ],
   "source": [
    "# 全部都是1\n",
    "np5 = np.ones((2,3))\n",
    "np5"
   ]
  },
  {
   "cell_type": "code",
   "execution_count": 9,
   "id": "69b7df72",
   "metadata": {
    "ExecuteTime": {
     "end_time": "2023-11-21T03:52:28.327610Z",
     "start_time": "2023-11-21T03:52:28.313625Z"
    }
   },
   "outputs": [
    {
     "name": "stdout",
     "output_type": "stream",
     "text": [
      "2\n"
     ]
    }
   ],
   "source": [
    "listdata = [[1,2,3,4,5],\n",
    "           [6,7,8,9,10],\n",
    "           [11,12,13,14,15]]\n",
    "np6 = np.array(listdata)\n",
    "# 陣列的維度\n",
    "print(np6.ndim)"
   ]
  },
  {
   "cell_type": "code",
   "execution_count": 68,
   "id": "b51ae108",
   "metadata": {},
   "outputs": [
    {
     "name": "stdout",
     "output_type": "stream",
     "text": [
      "(3, 5)\n",
      "3\n",
      "5\n",
      "<class 'tuple'>\n"
     ]
    }
   ],
   "source": [
    "print(np6.shape)\n",
    "print(np6.shape[0])\n",
    "print(np6.shape[1])\n",
    "print(type(np6.shape))"
   ]
  },
  {
   "cell_type": "code",
   "execution_count": 69,
   "id": "2935380f",
   "metadata": {},
   "outputs": [
    {
     "name": "stdout",
     "output_type": "stream",
     "text": [
      "int64\n"
     ]
    }
   ],
   "source": [
    "print(np6.dtype)"
   ]
  },
  {
   "cell_type": "code",
   "execution_count": 70,
   "id": "5ffbaa49",
   "metadata": {
    "scrolled": true
   },
   "outputs": [
    {
     "name": "stdout",
     "output_type": "stream",
     "text": [
      "15\n"
     ]
    }
   ],
   "source": [
    "print(np6.size)"
   ]
  },
  {
   "cell_type": "markdown",
   "id": "9408c9e9",
   "metadata": {},
   "source": [
    "# reshape"
   ]
  },
  {
   "cell_type": "code",
   "execution_count": 73,
   "id": "24613229",
   "metadata": {},
   "outputs": [
    {
     "data": {
      "text/plain": [
       "array([[ 1,  2,  3],\n",
       "       [ 4,  5,  6],\n",
       "       [ 7,  8,  9],\n",
       "       [10, 11, 12],\n",
       "       [13, 14, 15]])"
      ]
     },
     "execution_count": 73,
     "metadata": {},
     "output_type": "execute_result"
    }
   ],
   "source": [
    "np_reshape = np6.reshape(5,3)\n",
    "np_reshape"
   ]
  },
  {
   "cell_type": "code",
   "execution_count": 76,
   "id": "3fcafb50",
   "metadata": {},
   "outputs": [
    {
     "data": {
      "text/plain": [
       "array([[ 1,  2,  3,  4,  5],\n",
       "       [ 6,  7,  8,  9, 10],\n",
       "       [11, 12, 13, 14, 15]])"
      ]
     },
     "execution_count": 76,
     "metadata": {},
     "output_type": "execute_result"
    }
   ],
   "source": [
    "na = np.arange(1,16).reshape(3,5)\n",
    "na"
   ]
  },
  {
   "cell_type": "code",
   "execution_count": 78,
   "id": "cce64d7f",
   "metadata": {},
   "outputs": [
    {
     "data": {
      "text/plain": [
       "array([[   1,    2,    3,    4,    5,    6,    7,    8,    9,   10,   11,\n",
       "          12,   13,   14,   15,   16,   17,   18,   19,   20,   21,   22,\n",
       "          23,   24,   25,   26,   27,   28,   29,   30,   31,   32,   33,\n",
       "          34,   35,   36,   37,   38,   39,   40,   41,   42,   43,   44,\n",
       "          45,   46,   47,   48,   49,   50],\n",
       "       [  51,   52,   53,   54,   55,   56,   57,   58,   59,   60,   61,\n",
       "          62,   63,   64,   65,   66,   67,   68,   69,   70,   71,   72,\n",
       "          73,   74,   75,   76,   77,   78,   79,   80,   81,   82,   83,\n",
       "          84,   85,   86,   87,   88,   89,   90,   91,   92,   93,   94,\n",
       "          95,   96,   97,   98,   99,  100],\n",
       "       [ 101,  102,  103,  104,  105,  106,  107,  108,  109,  110,  111,\n",
       "         112,  113,  114,  115,  116,  117,  118,  119,  120,  121,  122,\n",
       "         123,  124,  125,  126,  127,  128,  129,  130,  131,  132,  133,\n",
       "         134,  135,  136,  137,  138,  139,  140,  141,  142,  143,  144,\n",
       "         145,  146,  147,  148,  149,  150],\n",
       "       [ 151,  152,  153,  154,  155,  156,  157,  158,  159,  160,  161,\n",
       "         162,  163,  164,  165,  166,  167,  168,  169,  170,  171,  172,\n",
       "         173,  174,  175,  176,  177,  178,  179,  180,  181,  182,  183,\n",
       "         184,  185,  186,  187,  188,  189,  190,  191,  192,  193,  194,\n",
       "         195,  196,  197,  198,  199,  200],\n",
       "       [ 201,  202,  203,  204,  205,  206,  207,  208,  209,  210,  211,\n",
       "         212,  213,  214,  215,  216,  217,  218,  219,  220,  221,  222,\n",
       "         223,  224,  225,  226,  227,  228,  229,  230,  231,  232,  233,\n",
       "         234,  235,  236,  237,  238,  239,  240,  241,  242,  243,  244,\n",
       "         245,  246,  247,  248,  249,  250],\n",
       "       [ 251,  252,  253,  254,  255,  256,  257,  258,  259,  260,  261,\n",
       "         262,  263,  264,  265,  266,  267,  268,  269,  270,  271,  272,\n",
       "         273,  274,  275,  276,  277,  278,  279,  280,  281,  282,  283,\n",
       "         284,  285,  286,  287,  288,  289,  290,  291,  292,  293,  294,\n",
       "         295,  296,  297,  298,  299,  300],\n",
       "       [ 301,  302,  303,  304,  305,  306,  307,  308,  309,  310,  311,\n",
       "         312,  313,  314,  315,  316,  317,  318,  319,  320,  321,  322,\n",
       "         323,  324,  325,  326,  327,  328,  329,  330,  331,  332,  333,\n",
       "         334,  335,  336,  337,  338,  339,  340,  341,  342,  343,  344,\n",
       "         345,  346,  347,  348,  349,  350],\n",
       "       [ 351,  352,  353,  354,  355,  356,  357,  358,  359,  360,  361,\n",
       "         362,  363,  364,  365,  366,  367,  368,  369,  370,  371,  372,\n",
       "         373,  374,  375,  376,  377,  378,  379,  380,  381,  382,  383,\n",
       "         384,  385,  386,  387,  388,  389,  390,  391,  392,  393,  394,\n",
       "         395,  396,  397,  398,  399,  400],\n",
       "       [ 401,  402,  403,  404,  405,  406,  407,  408,  409,  410,  411,\n",
       "         412,  413,  414,  415,  416,  417,  418,  419,  420,  421,  422,\n",
       "         423,  424,  425,  426,  427,  428,  429,  430,  431,  432,  433,\n",
       "         434,  435,  436,  437,  438,  439,  440,  441,  442,  443,  444,\n",
       "         445,  446,  447,  448,  449,  450],\n",
       "       [ 451,  452,  453,  454,  455,  456,  457,  458,  459,  460,  461,\n",
       "         462,  463,  464,  465,  466,  467,  468,  469,  470,  471,  472,\n",
       "         473,  474,  475,  476,  477,  478,  479,  480,  481,  482,  483,\n",
       "         484,  485,  486,  487,  488,  489,  490,  491,  492,  493,  494,\n",
       "         495,  496,  497,  498,  499,  500],\n",
       "       [ 501,  502,  503,  504,  505,  506,  507,  508,  509,  510,  511,\n",
       "         512,  513,  514,  515,  516,  517,  518,  519,  520,  521,  522,\n",
       "         523,  524,  525,  526,  527,  528,  529,  530,  531,  532,  533,\n",
       "         534,  535,  536,  537,  538,  539,  540,  541,  542,  543,  544,\n",
       "         545,  546,  547,  548,  549,  550],\n",
       "       [ 551,  552,  553,  554,  555,  556,  557,  558,  559,  560,  561,\n",
       "         562,  563,  564,  565,  566,  567,  568,  569,  570,  571,  572,\n",
       "         573,  574,  575,  576,  577,  578,  579,  580,  581,  582,  583,\n",
       "         584,  585,  586,  587,  588,  589,  590,  591,  592,  593,  594,\n",
       "         595,  596,  597,  598,  599,  600],\n",
       "       [ 601,  602,  603,  604,  605,  606,  607,  608,  609,  610,  611,\n",
       "         612,  613,  614,  615,  616,  617,  618,  619,  620,  621,  622,\n",
       "         623,  624,  625,  626,  627,  628,  629,  630,  631,  632,  633,\n",
       "         634,  635,  636,  637,  638,  639,  640,  641,  642,  643,  644,\n",
       "         645,  646,  647,  648,  649,  650],\n",
       "       [ 651,  652,  653,  654,  655,  656,  657,  658,  659,  660,  661,\n",
       "         662,  663,  664,  665,  666,  667,  668,  669,  670,  671,  672,\n",
       "         673,  674,  675,  676,  677,  678,  679,  680,  681,  682,  683,\n",
       "         684,  685,  686,  687,  688,  689,  690,  691,  692,  693,  694,\n",
       "         695,  696,  697,  698,  699,  700],\n",
       "       [ 701,  702,  703,  704,  705,  706,  707,  708,  709,  710,  711,\n",
       "         712,  713,  714,  715,  716,  717,  718,  719,  720,  721,  722,\n",
       "         723,  724,  725,  726,  727,  728,  729,  730,  731,  732,  733,\n",
       "         734,  735,  736,  737,  738,  739,  740,  741,  742,  743,  744,\n",
       "         745,  746,  747,  748,  749,  750],\n",
       "       [ 751,  752,  753,  754,  755,  756,  757,  758,  759,  760,  761,\n",
       "         762,  763,  764,  765,  766,  767,  768,  769,  770,  771,  772,\n",
       "         773,  774,  775,  776,  777,  778,  779,  780,  781,  782,  783,\n",
       "         784,  785,  786,  787,  788,  789,  790,  791,  792,  793,  794,\n",
       "         795,  796,  797,  798,  799,  800],\n",
       "       [ 801,  802,  803,  804,  805,  806,  807,  808,  809,  810,  811,\n",
       "         812,  813,  814,  815,  816,  817,  818,  819,  820,  821,  822,\n",
       "         823,  824,  825,  826,  827,  828,  829,  830,  831,  832,  833,\n",
       "         834,  835,  836,  837,  838,  839,  840,  841,  842,  843,  844,\n",
       "         845,  846,  847,  848,  849,  850],\n",
       "       [ 851,  852,  853,  854,  855,  856,  857,  858,  859,  860,  861,\n",
       "         862,  863,  864,  865,  866,  867,  868,  869,  870,  871,  872,\n",
       "         873,  874,  875,  876,  877,  878,  879,  880,  881,  882,  883,\n",
       "         884,  885,  886,  887,  888,  889,  890,  891,  892,  893,  894,\n",
       "         895,  896,  897,  898,  899,  900],\n",
       "       [ 901,  902,  903,  904,  905,  906,  907,  908,  909,  910,  911,\n",
       "         912,  913,  914,  915,  916,  917,  918,  919,  920,  921,  922,\n",
       "         923,  924,  925,  926,  927,  928,  929,  930,  931,  932,  933,\n",
       "         934,  935,  936,  937,  938,  939,  940,  941,  942,  943,  944,\n",
       "         945,  946,  947,  948,  949,  950],\n",
       "       [ 951,  952,  953,  954,  955,  956,  957,  958,  959,  960,  961,\n",
       "         962,  963,  964,  965,  966,  967,  968,  969,  970,  971,  972,\n",
       "         973,  974,  975,  976,  977,  978,  979,  980,  981,  982,  983,\n",
       "         984,  985,  986,  987,  988,  989,  990,  991,  992,  993,  994,\n",
       "         995,  996,  997,  998,  999, 1000]])"
      ]
     },
     "execution_count": 78,
     "metadata": {},
     "output_type": "execute_result"
    }
   ],
   "source": [
    "na = np.arange(1,1001).reshape(20,50)\n",
    "na"
   ]
  },
  {
   "cell_type": "code",
   "execution_count": 82,
   "id": "4c252104",
   "metadata": {},
   "outputs": [],
   "source": [
    "na = np.arange(0,101)"
   ]
  },
  {
   "cell_type": "code",
   "execution_count": 87,
   "id": "020f3868",
   "metadata": {
    "scrolled": true
   },
   "outputs": [
    {
     "data": {
      "text/plain": [
       "array([5, 7, 9])"
      ]
     },
     "execution_count": 87,
     "metadata": {},
     "output_type": "execute_result"
    }
   ],
   "source": [
    "na[5:10:2]"
   ]
  },
  {
   "cell_type": "code",
   "execution_count": 89,
   "id": "20fef102",
   "metadata": {},
   "outputs": [
    {
     "data": {
      "text/plain": [
       "array([5, 4, 3, 2])"
      ]
     },
     "execution_count": 89,
     "metadata": {},
     "output_type": "execute_result"
    }
   ],
   "source": [
    "na[5:1:-1]"
   ]
  },
  {
   "cell_type": "code",
   "execution_count": 91,
   "id": "d03f9ff1",
   "metadata": {},
   "outputs": [
    {
     "data": {
      "text/plain": [
       "array([0, 1, 2, 3, 4])"
      ]
     },
     "execution_count": 91,
     "metadata": {},
     "output_type": "execute_result"
    }
   ],
   "source": [
    "na[:5]"
   ]
  },
  {
   "cell_type": "code",
   "execution_count": 92,
   "id": "44064106",
   "metadata": {},
   "outputs": [
    {
     "data": {
      "text/plain": [
       "array([ 96,  97,  98,  99, 100])"
      ]
     },
     "execution_count": 92,
     "metadata": {},
     "output_type": "execute_result"
    }
   ],
   "source": [
    "na[-5:]"
   ]
  },
  {
   "cell_type": "code",
   "execution_count": 93,
   "id": "673a1293",
   "metadata": {},
   "outputs": [
    {
     "data": {
      "text/plain": [
       "array([[ 1,  2,  3,  4],\n",
       "       [ 5,  6,  7,  8],\n",
       "       [ 9, 10, 11, 12],\n",
       "       [13, 14, 15, 16]])"
      ]
     },
     "execution_count": 93,
     "metadata": {},
     "output_type": "execute_result"
    }
   ],
   "source": [
    "na = np.arange(1,17).reshape(4,4)\n",
    "na"
   ]
  },
  {
   "cell_type": "code",
   "execution_count": 94,
   "id": "022e4d27",
   "metadata": {},
   "outputs": [
    {
     "data": {
      "text/plain": [
       "12"
      ]
     },
     "execution_count": 94,
     "metadata": {},
     "output_type": "execute_result"
    }
   ],
   "source": [
    "na[2,3]"
   ]
  },
  {
   "cell_type": "code",
   "execution_count": 95,
   "id": "fb7ec1b6",
   "metadata": {},
   "outputs": [
    {
     "data": {
      "text/plain": [
       "array([6, 7])"
      ]
     },
     "execution_count": 95,
     "metadata": {},
     "output_type": "execute_result"
    }
   ],
   "source": [
    "na[1,1:3]"
   ]
  },
  {
   "cell_type": "code",
   "execution_count": 96,
   "id": "0f01ac73",
   "metadata": {},
   "outputs": [
    {
     "data": {
      "text/plain": [
       "array([[ 6,  7],\n",
       "       [10, 11]])"
      ]
     },
     "execution_count": 96,
     "metadata": {},
     "output_type": "execute_result"
    }
   ],
   "source": [
    "na[1:3,1:3]"
   ]
  },
  {
   "cell_type": "code",
   "execution_count": 99,
   "id": "9900c61e",
   "metadata": {},
   "outputs": [
    {
     "data": {
      "text/plain": [
       "array([[ 1,  3],\n",
       "       [ 9, 11]])"
      ]
     },
     "execution_count": 99,
     "metadata": {},
     "output_type": "execute_result"
    }
   ],
   "source": [
    "na[0:3:2,0:3:2]"
   ]
  },
  {
   "cell_type": "code",
   "execution_count": 101,
   "id": "ce4204ed",
   "metadata": {
    "scrolled": true
   },
   "outputs": [
    {
     "data": {
      "text/plain": [
       "array([[ 1,  3],\n",
       "       [ 9, 11]])"
      ]
     },
     "execution_count": 101,
     "metadata": {},
     "output_type": "execute_result"
    }
   ],
   "source": [
    "# 上一段的進階寫法\n",
    "na[::2,::2]"
   ]
  },
  {
   "cell_type": "code",
   "execution_count": null,
   "id": "ea2563e5",
   "metadata": {},
   "outputs": [],
   "source": []
  }
 ],
 "metadata": {
  "kernelspec": {
   "display_name": "Python 3 (ipykernel)",
   "language": "python",
   "name": "python3"
  },
  "language_info": {
   "codemirror_mode": {
    "name": "ipython",
    "version": 3
   },
   "file_extension": ".py",
   "mimetype": "text/x-python",
   "name": "python",
   "nbconvert_exporter": "python",
   "pygments_lexer": "ipython3",
   "version": "3.11.4"
  }
 },
 "nbformat": 4,
 "nbformat_minor": 5
}
