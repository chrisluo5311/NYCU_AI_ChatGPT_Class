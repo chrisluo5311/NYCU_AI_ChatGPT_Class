{
 "cells": [
  {
   "cell_type": "markdown",
   "source": [
    "## Numpy"
   ],
   "metadata": {
    "collapsed": false
   },
   "id": "c47ef45022478e1d"
  },
  {
   "cell_type": "code",
   "execution_count": 6,
   "outputs": [
    {
     "name": "stdout",
     "output_type": "stream",
     "text": [
      "[[0.63820539 0.97871868 0.01777563]\n",
      " [0.80760143 0.25025277 0.97691346]]\n"
     ]
    }
   ],
   "source": [
    "import numpy as np\n",
    "\n",
    "# 介於0~1之間，(2,3)為自定義維度\n",
    "print(np.random.rand(2,3))"
   ],
   "metadata": {
    "collapsed": false,
    "ExecuteTime": {
     "end_time": "2023-11-21T15:35:12.103203Z",
     "start_time": "2023-11-21T15:35:12.075912Z"
    }
   },
   "id": "3652c3338f4c4c1c"
  },
  {
   "cell_type": "code",
   "execution_count": 4,
   "outputs": [
    {
     "name": "stdout",
     "output_type": "stream",
     "text": [
      "[[-0.35782503  1.15000634  0.35486475]\n",
      " [-0.48490034 -1.57983103 -0.41409774]]\n"
     ]
    }
   ],
   "source": [
    "# n:normal distribution 常態化\n",
    "# 平均值要是0\n",
    "print(np.random.randn(2,3))"
   ],
   "metadata": {
    "collapsed": false,
    "ExecuteTime": {
     "end_time": "2023-11-21T05:21:22.922832Z",
     "start_time": "2023-11-21T05:21:22.917824Z"
    }
   },
   "id": "df372fbd2698eb65"
  },
  {
   "cell_type": "code",
   "execution_count": 9,
   "outputs": [
    {
     "name": "stdout",
     "output_type": "stream",
     "text": [
      "8\n"
     ]
    }
   ],
   "source": [
    "# 0~9之間的整數\n",
    "print(np.random.randint(10))"
   ],
   "metadata": {
    "collapsed": false,
    "ExecuteTime": {
     "end_time": "2023-11-21T05:23:06.610645Z",
     "start_time": "2023-11-21T05:23:06.605961Z"
    }
   },
   "id": "2c49ce87e31fe501"
  },
  {
   "cell_type": "code",
   "execution_count": 14,
   "outputs": [
    {
     "name": "stdout",
     "output_type": "stream",
     "text": [
      "[3 2 4 4 3 4 3 3 4 2]\n"
     ]
    }
   ],
   "source": [
    "# 2~5: 限定範圍 2~4\n",
    "# 10: 產生10次\n",
    "print(np.random.randint(2,5,10))"
   ],
   "metadata": {
    "collapsed": false,
    "ExecuteTime": {
     "end_time": "2023-11-21T05:24:18.652145Z",
     "start_time": "2023-11-21T05:24:18.646216Z"
    }
   },
   "id": "f523dc3582e313f0"
  },
  {
   "cell_type": "code",
   "execution_count": 16,
   "outputs": [
    {
     "name": "stdout",
     "output_type": "stream",
     "text": [
      "[8 0 5 5 9 6]\n",
      "[1 0 9 2 5 8]\n"
     ]
    }
   ],
   "source": [
    "# choice\n",
    "# replace 抽出來的數字還可以放回去\n",
    "print(np.random.choice(10,6,replace=True)) # 會抽到重複\n",
    "print(np.random.choice(10,6,replace=False)) # 不會抽到重複"
   ],
   "metadata": {
    "collapsed": false,
    "ExecuteTime": {
     "end_time": "2023-11-21T05:25:48.044360Z",
     "start_time": "2023-11-21T05:25:48.037190Z"
    }
   },
   "id": "50ae144e6c1f2e85"
  },
  {
   "cell_type": "code",
   "execution_count": 17,
   "outputs": [
    {
     "name": "stdout",
     "output_type": "stream",
     "text": [
      "[1 9 0 2 8 6 7 3 5 4]\n"
     ]
    }
   ],
   "source": [
    "# 洗牌\n",
    "print(np.random.choice(10,10,replace=False))"
   ],
   "metadata": {
    "collapsed": false,
    "ExecuteTime": {
     "end_time": "2023-11-21T06:52:37.778659Z",
     "start_time": "2023-11-21T06:52:37.771168Z"
    }
   },
   "id": "9831996560344c1d"
  },
  {
   "cell_type": "code",
   "execution_count": 18,
   "outputs": [
    {
     "ename": "ValueError",
     "evalue": "Cannot take a larger sample than population when 'replace=False'",
     "output_type": "error",
     "traceback": [
      "\u001B[0;31m---------------------------------------------------------------------------\u001B[0m",
      "\u001B[0;31mValueError\u001B[0m                                Traceback (most recent call last)",
      "Cell \u001B[0;32mIn[18], line 1\u001B[0m\n\u001B[0;32m----> 1\u001B[0m \u001B[38;5;28mprint\u001B[39m(np\u001B[38;5;241m.\u001B[39mrandom\u001B[38;5;241m.\u001B[39mchoice(\u001B[38;5;241m10\u001B[39m,\u001B[38;5;241m11\u001B[39m,replace\u001B[38;5;241m=\u001B[39m\u001B[38;5;28;01mFalse\u001B[39;00m))\n",
      "File \u001B[0;32mmtrand.pyx:1000\u001B[0m, in \u001B[0;36mnumpy.random.mtrand.RandomState.choice\u001B[0;34m()\u001B[0m\n",
      "\u001B[0;31mValueError\u001B[0m: Cannot take a larger sample than population when 'replace=False'"
     ]
    }
   ],
   "source": [
    "# Cannot take a larger sample than population when 'replace=False'\n",
    "print(np.random.choice(10,11,replace=False))"
   ],
   "metadata": {
    "collapsed": false,
    "ExecuteTime": {
     "end_time": "2023-11-21T06:53:01.026053Z",
     "start_time": "2023-11-21T06:53:00.814396Z"
    }
   },
   "id": "384708ed9894cc0c"
  },
  {
   "cell_type": "markdown",
   "source": [
    "## Numpy陣列運算"
   ],
   "metadata": {
    "collapsed": false
   },
   "id": "c6f0400eb1127750"
  },
  {
   "cell_type": "code",
   "execution_count": 21,
   "outputs": [
    {
     "name": "stdout",
     "output_type": "stream",
     "text": [
      "[[1 2 3]\n",
      " [4 5 6]\n",
      " [7 8 9]]\n",
      "[[11 12 13]\n",
      " [14 15 16]\n",
      " [17 18 19]]\n"
     ]
    }
   ],
   "source": [
    "a = np.arange(1,10).reshape(3,3)\n",
    "b = np.arange(11,20).reshape(3,3)\n",
    "print(a)\n",
    "print(b)"
   ],
   "metadata": {
    "collapsed": false,
    "ExecuteTime": {
     "end_time": "2023-11-21T07:02:02.493406Z",
     "start_time": "2023-11-21T07:02:02.484096Z"
    }
   },
   "id": "74a886b8d2dea4ba"
  },
  {
   "cell_type": "code",
   "execution_count": 22,
   "outputs": [
    {
     "name": "stdout",
     "output_type": "stream",
     "text": [
      "[[ 2  3  4]\n",
      " [ 5  6  7]\n",
      " [ 8  9 10]]\n"
     ]
    }
   ],
   "source": [
    "# 把每個元素都加1\n",
    "# 1會自動擴展為3X3的矩陣\n",
    "print(a+1)"
   ],
   "metadata": {
    "collapsed": false,
    "ExecuteTime": {
     "end_time": "2023-11-21T07:02:32.354575Z",
     "start_time": "2023-11-21T07:02:32.352665Z"
    }
   },
   "id": "fc8b391e17beb86a"
  },
  {
   "cell_type": "code",
   "execution_count": 23,
   "outputs": [
    {
     "name": "stdout",
     "output_type": "stream",
     "text": [
      "[[ 1  4  9]\n",
      " [16 25 36]\n",
      " [49 64 81]]\n"
     ]
    }
   ],
   "source": [
    "# 每個數做平方\n",
    "print(a**2)"
   ],
   "metadata": {
    "collapsed": false,
    "ExecuteTime": {
     "end_time": "2023-11-21T07:03:58.541005Z",
     "start_time": "2023-11-21T07:03:58.532623Z"
    }
   },
   "id": "6e21ad05655c31a8"
  },
  {
   "cell_type": "code",
   "execution_count": 24,
   "outputs": [
    {
     "name": "stdout",
     "output_type": "stream",
     "text": [
      "[[ True  True  True]\n",
      " [ True False False]\n",
      " [False False False]]\n"
     ]
    }
   ],
   "source": [
    "# 邏輯判斷\n",
    "print(a < 5)"
   ],
   "metadata": {
    "collapsed": false,
    "ExecuteTime": {
     "end_time": "2023-11-21T07:04:33.881993Z",
     "start_time": "2023-11-21T07:04:33.874019Z"
    }
   },
   "id": "a0c99ce42e5a98f0"
  },
  {
   "cell_type": "code",
   "execution_count": 26,
   "outputs": [
    {
     "data": {
      "text/plain": "array([[1, 2, 3],\n       [4, 5, 6],\n       [7, 8, 9]])"
     },
     "execution_count": 26,
     "metadata": {},
     "output_type": "execute_result"
    }
   ],
   "source": [
    "a"
   ],
   "metadata": {
    "collapsed": false,
    "ExecuteTime": {
     "end_time": "2023-11-21T07:06:02.195894Z",
     "start_time": "2023-11-21T07:06:02.185922Z"
    }
   },
   "id": "5a7fd3aaffecdb64"
  },
  {
   "cell_type": "code",
   "execution_count": 25,
   "outputs": [
    {
     "name": "stdout",
     "output_type": "stream",
     "text": [
      "[2 3 4]\n"
     ]
    }
   ],
   "source": [
    "# 單獨拿一列運算\n",
    "print(a[0,:] + 1)"
   ],
   "metadata": {
    "collapsed": false,
    "ExecuteTime": {
     "end_time": "2023-11-21T07:05:51.625988Z",
     "start_time": "2023-11-21T07:05:51.623093Z"
    }
   },
   "id": "f1907ffe80428ded"
  },
  {
   "cell_type": "code",
   "execution_count": 27,
   "outputs": [
    {
     "name": "stdout",
     "output_type": "stream",
     "text": [
      "[2 5 8]\n"
     ]
    }
   ],
   "source": [
    "# 單獨拿行運算\n",
    "print(a[:,0]+1)"
   ],
   "metadata": {
    "collapsed": false,
    "ExecuteTime": {
     "end_time": "2023-11-21T07:06:25.618413Z",
     "start_time": "2023-11-21T07:06:25.616130Z"
    }
   },
   "id": "cfb707361be99856"
  },
  {
   "cell_type": "code",
   "execution_count": 28,
   "outputs": [
    {
     "data": {
      "text/plain": "array([[12, 14, 16],\n       [18, 20, 22],\n       [24, 26, 28]])"
     },
     "execution_count": 28,
     "metadata": {},
     "output_type": "execute_result"
    }
   ],
   "source": [
    "# 矩陣加法\n",
    "a + b"
   ],
   "metadata": {
    "collapsed": false,
    "ExecuteTime": {
     "end_time": "2023-11-21T07:07:28.407051Z",
     "start_time": "2023-11-21T07:07:28.396359Z"
    }
   },
   "id": "3d6ea183577e24b2"
  },
  {
   "cell_type": "code",
   "execution_count": 29,
   "outputs": [
    {
     "data": {
      "text/plain": "array([[ 11,  24,  39],\n       [ 56,  75,  96],\n       [119, 144, 171]])"
     },
     "execution_count": 29,
     "metadata": {},
     "output_type": "execute_result"
    }
   ],
   "source": [
    "# 矩陣乘法\n",
    "a * b"
   ],
   "metadata": {
    "collapsed": false,
    "ExecuteTime": {
     "end_time": "2023-11-21T07:07:55.337385Z",
     "start_time": "2023-11-21T07:07:55.326281Z"
    }
   },
   "id": "97dfd73cd01a258"
  },
  {
   "cell_type": "markdown",
   "source": [
    "### 常用計算與統計函數"
   ],
   "metadata": {
    "collapsed": false
   },
   "id": "28c3d22a01bde3a8"
  },
  {
   "cell_type": "code",
   "execution_count": 31,
   "outputs": [
    {
     "data": {
      "text/plain": "array([[ 1,  2,  3,  4],\n       [ 5,  6,  7,  8],\n       [ 9, 10, 11, 12]])"
     },
     "execution_count": 31,
     "metadata": {},
     "output_type": "execute_result"
    }
   ],
   "source": [
    "a = np.arange(1,13).reshape(3,4)\n",
    "a"
   ],
   "metadata": {
    "collapsed": false,
    "ExecuteTime": {
     "end_time": "2023-11-21T07:09:27.396626Z",
     "start_time": "2023-11-21T07:09:27.384594Z"
    }
   },
   "id": "a856229eda4a3604"
  },
  {
   "cell_type": "code",
   "execution_count": 32,
   "outputs": [
    {
     "data": {
      "text/plain": "1"
     },
     "execution_count": 32,
     "metadata": {},
     "output_type": "execute_result"
    }
   ],
   "source": [
    "# 最小值\n",
    "np.min(a)"
   ],
   "metadata": {
    "collapsed": false,
    "ExecuteTime": {
     "end_time": "2023-11-21T07:09:57.983550Z",
     "start_time": "2023-11-21T07:09:57.971987Z"
    }
   },
   "id": "ad660fae695d6d4f"
  },
  {
   "cell_type": "code",
   "execution_count": 33,
   "outputs": [
    {
     "data": {
      "text/plain": "12"
     },
     "execution_count": 33,
     "metadata": {},
     "output_type": "execute_result"
    }
   ],
   "source": [
    "# 最大值\n",
    "np.max(a)"
   ],
   "metadata": {
    "collapsed": false,
    "ExecuteTime": {
     "end_time": "2023-11-21T07:10:22.609448Z",
     "start_time": "2023-11-21T07:10:22.596551Z"
    }
   },
   "id": "27cf8cbcf574cc2a"
  },
  {
   "cell_type": "code",
   "execution_count": 34,
   "outputs": [
    {
     "data": {
      "text/plain": "array([1, 2, 3, 4])"
     },
     "execution_count": 34,
     "metadata": {},
     "output_type": "execute_result"
    }
   ],
   "source": [
    "# 對0維(行)去取最小值\n",
    "np.min(a,axis=0)"
   ],
   "metadata": {
    "collapsed": false,
    "ExecuteTime": {
     "end_time": "2023-11-21T07:11:01.086219Z",
     "start_time": "2023-11-21T07:11:01.073819Z"
    }
   },
   "id": "47f696400893bc90"
  },
  {
   "cell_type": "code",
   "execution_count": 35,
   "outputs": [
    {
     "data": {
      "text/plain": "array([1, 5, 9])"
     },
     "execution_count": 35,
     "metadata": {},
     "output_type": "execute_result"
    }
   ],
   "source": [
    "# 對1維去取最小值\n",
    "np.min(a,axis=1)"
   ],
   "metadata": {
    "collapsed": false,
    "ExecuteTime": {
     "end_time": "2023-11-21T07:11:58.614295Z",
     "start_time": "2023-11-21T07:11:58.610545Z"
    }
   },
   "id": "4eff57268046313e"
  },
  {
   "cell_type": "code",
   "execution_count": 36,
   "outputs": [
    {
     "data": {
      "text/plain": "78"
     },
     "execution_count": 36,
     "metadata": {},
     "output_type": "execute_result"
    }
   ],
   "source": [
    "# 全部值相加\n",
    "np.sum(a)"
   ],
   "metadata": {
    "collapsed": false,
    "ExecuteTime": {
     "end_time": "2023-11-21T07:13:17.148260Z",
     "start_time": "2023-11-21T07:13:17.134975Z"
    }
   },
   "id": "7a68ad23b6e7b838"
  },
  {
   "cell_type": "code",
   "execution_count": 37,
   "outputs": [
    {
     "data": {
      "text/plain": "6.5"
     },
     "execution_count": 37,
     "metadata": {},
     "output_type": "execute_result"
    }
   ],
   "source": [
    "# 全部值平均\n",
    "np.mean(a)"
   ],
   "metadata": {
    "collapsed": false,
    "ExecuteTime": {
     "end_time": "2023-11-21T07:13:39.303141Z",
     "start_time": "2023-11-21T07:13:39.298513Z"
    }
   },
   "id": "e40072be0f718545"
  },
  {
   "cell_type": "code",
   "execution_count": 38,
   "outputs": [
    {
     "data": {
      "text/plain": "array([15, 18, 21, 24])"
     },
     "execution_count": 38,
     "metadata": {},
     "output_type": "execute_result"
    }
   ],
   "source": [
    "# 對0維(行)去加總\n",
    "np.sum(a,axis=0)"
   ],
   "metadata": {
    "collapsed": false,
    "ExecuteTime": {
     "end_time": "2023-11-21T07:14:08.868667Z",
     "start_time": "2023-11-21T07:14:08.857773Z"
    }
   },
   "id": "a7e66000ae53c9ff"
  },
  {
   "cell_type": "code",
   "execution_count": 39,
   "outputs": [
    {
     "data": {
      "text/plain": "array([10, 26, 42])"
     },
     "execution_count": 39,
     "metadata": {},
     "output_type": "execute_result"
    }
   ],
   "source": [
    "# 對1維(列)去加總\n",
    "np.sum(a,axis=1)"
   ],
   "metadata": {
    "collapsed": false,
    "ExecuteTime": {
     "end_time": "2023-11-21T07:14:41.253922Z",
     "start_time": "2023-11-21T07:14:41.246442Z"
    }
   },
   "id": "cc51cee7e680fe8b"
  },
  {
   "cell_type": "code",
   "execution_count": 40,
   "outputs": [
    {
     "data": {
      "text/plain": "array([ 1, 28, 56, 74, 46, 31, 97, 73, 24, 78, 54, 78, 48, 27, 83, 34,  1,\n       53, 97, 54, 74, 31, 56, 44, 33, 47, 67, 62, 60, 95, 20, 77, 89, 99,\n       49, 51, 84, 64, 87,  5, 70, 17, 50, 30,  0,  7, 30,  2, 82, 67])"
     },
     "execution_count": 40,
     "metadata": {},
     "output_type": "execute_result"
    }
   ],
   "source": [
    "a = np.random.randint(100,size=50)\n",
    "a"
   ],
   "metadata": {
    "collapsed": false,
    "ExecuteTime": {
     "end_time": "2023-11-21T07:15:33.753631Z",
     "start_time": "2023-11-21T07:15:33.746144Z"
    }
   },
   "id": "9484b671efa1cc88"
  },
  {
   "cell_type": "code",
   "execution_count": 41,
   "outputs": [
    {
     "data": {
      "text/plain": "53.5"
     },
     "execution_count": 41,
     "metadata": {},
     "output_type": "execute_result"
    }
   ],
   "source": [
    "# 中位數\n",
    "np.median(a)"
   ],
   "metadata": {
    "collapsed": false,
    "ExecuteTime": {
     "end_time": "2023-11-21T07:16:21.324048Z",
     "start_time": "2023-11-21T07:16:21.312157Z"
    }
   },
   "id": "4425e4b82af9edc2"
  },
  {
   "cell_type": "code",
   "execution_count": 42,
   "outputs": [
    {
     "data": {
      "text/plain": "28.16241466920051"
     },
     "execution_count": 42,
     "metadata": {},
     "output_type": "execute_result"
    }
   ],
   "source": [
    "# 標準差\n",
    "np.std(a)"
   ],
   "metadata": {
    "collapsed": false,
    "ExecuteTime": {
     "end_time": "2023-11-21T07:17:58.423878Z",
     "start_time": "2023-11-21T07:17:58.411432Z"
    }
   },
   "id": "70a190fec6390418"
  },
  {
   "cell_type": "code",
   "execution_count": 43,
   "outputs": [
    {
     "data": {
      "text/plain": "793.1216000000001"
     },
     "execution_count": 43,
     "metadata": {},
     "output_type": "execute_result"
    }
   ],
   "source": [
    "# 變異數\n",
    "np.var(a)"
   ],
   "metadata": {
    "collapsed": false,
    "ExecuteTime": {
     "end_time": "2023-11-21T07:18:02.440097Z",
     "start_time": "2023-11-21T07:18:02.431006Z"
    }
   },
   "id": "b3bb1d19bbda6ec3"
  },
  {
   "cell_type": "code",
   "execution_count": 44,
   "outputs": [
    {
     "data": {
      "text/plain": "78.0"
     },
     "execution_count": 44,
     "metadata": {},
     "output_type": "execute_result"
    }
   ],
   "source": [
    "# 百分之80的值是多少\n",
    "np.percentile(a,80)"
   ],
   "metadata": {
    "collapsed": false,
    "ExecuteTime": {
     "end_time": "2023-11-21T07:18:42.167999Z",
     "start_time": "2023-11-21T07:18:42.157221Z"
    }
   },
   "id": "98778f7309b967d3"
  },
  {
   "cell_type": "code",
   "execution_count": 46,
   "outputs": [
    {
     "data": {
      "text/plain": "array([44, 39, 20, 43, 49, 12, 36, 32,  5, 27])"
     },
     "execution_count": 46,
     "metadata": {},
     "output_type": "execute_result"
    }
   ],
   "source": [
    "a = np.random.choice(50,size=10,replace=False)\n",
    "a"
   ],
   "metadata": {
    "collapsed": false,
    "ExecuteTime": {
     "end_time": "2023-11-21T07:20:18.141350Z",
     "start_time": "2023-11-21T07:20:18.126129Z"
    }
   },
   "id": "67f4b235192cf254"
  },
  {
   "cell_type": "code",
   "execution_count": 47,
   "outputs": [
    {
     "data": {
      "text/plain": "array([ 5, 12, 20, 27, 32, 36, 39, 43, 44, 49])"
     },
     "execution_count": 47,
     "metadata": {},
     "output_type": "execute_result"
    }
   ],
   "source": [
    "# 排序\n",
    "np.sort(a)"
   ],
   "metadata": {
    "collapsed": false,
    "ExecuteTime": {
     "end_time": "2023-11-21T07:20:28.979600Z",
     "start_time": "2023-11-21T07:20:28.970041Z"
    }
   },
   "id": "cc6ec823d5f0f8c0"
  },
  {
   "cell_type": "code",
   "execution_count": 48,
   "outputs": [
    {
     "data": {
      "text/plain": "array([8, 5, 2, 9, 7, 6, 1, 3, 0, 4])"
     },
     "execution_count": 48,
     "metadata": {},
     "output_type": "execute_result"
    }
   ],
   "source": [
    "# 由小到大傳回該值的索引值\n",
    "np.argsort(a)"
   ],
   "metadata": {
    "collapsed": false,
    "ExecuteTime": {
     "end_time": "2023-11-21T07:21:17.064846Z",
     "start_time": "2023-11-21T07:21:17.049608Z"
    }
   },
   "id": "123a1a6ab6b7f518"
  },
  {
   "cell_type": "code",
   "execution_count": 52,
   "outputs": [
    {
     "name": "stdout",
     "output_type": "stream",
     "text": [
      "5,12,20,27,32,36,39,43,44,49,\n",
      "[ 5 12 20 27 32 36 39 43 44 49]\n"
     ]
    }
   ],
   "source": [
    "for i in np.argsort(a):\n",
    "    print(a[i],end=',')\n",
    "\n",
    "print()\n",
    "print(np.sort(a))"
   ],
   "metadata": {
    "collapsed": false,
    "ExecuteTime": {
     "end_time": "2023-11-21T07:50:39.589756Z",
     "start_time": "2023-11-21T07:50:39.579359Z"
    }
   },
   "id": "1b00f5cbbe13e395"
  },
  {
   "cell_type": "markdown",
   "source": [
    "## 多維排序"
   ],
   "metadata": {
    "collapsed": false
   },
   "id": "e7ebd51f1310fbeb"
  },
  {
   "cell_type": "code",
   "execution_count": 54,
   "outputs": [
    {
     "data": {
      "text/plain": "array([[2, 0, 9, 5, 3],\n       [7, 0, 3, 0, 3],\n       [5, 1, 4, 3, 2]])"
     },
     "execution_count": 54,
     "metadata": {},
     "output_type": "execute_result"
    }
   ],
   "source": [
    "a = np.random.randint(0,10,(3,5))\n",
    "a"
   ],
   "metadata": {
    "collapsed": false,
    "ExecuteTime": {
     "end_time": "2023-11-21T07:51:49.834231Z",
     "start_time": "2023-11-21T07:51:49.821522Z"
    }
   },
   "id": "10e30d864e26236a"
  },
  {
   "cell_type": "code",
   "execution_count": 55,
   "outputs": [
    {
     "data": {
      "text/plain": "array([[2, 0, 3, 0, 2],\n       [5, 0, 4, 3, 3],\n       [7, 1, 9, 5, 3]])"
     },
     "execution_count": 55,
     "metadata": {},
     "output_type": "execute_result"
    }
   ],
   "source": [
    "# 對維度0(column)做排序\n",
    "np.sort(a,axis=0)"
   ],
   "metadata": {
    "collapsed": false,
    "ExecuteTime": {
     "end_time": "2023-11-21T07:52:20.204936Z",
     "start_time": "2023-11-21T07:52:20.193897Z"
    }
   },
   "id": "23edabf0792870b8"
  },
  {
   "cell_type": "code",
   "execution_count": 56,
   "outputs": [
    {
     "data": {
      "text/plain": "array([[0, 2, 3, 5, 9],\n       [0, 0, 3, 3, 7],\n       [1, 2, 3, 4, 5]])"
     },
     "execution_count": 56,
     "metadata": {},
     "output_type": "execute_result"
    }
   ],
   "source": [
    "# 對維度1(row)做排序\n",
    "np.sort(a,axis=1)"
   ],
   "metadata": {
    "collapsed": false,
    "ExecuteTime": {
     "end_time": "2023-11-21T07:53:22.728815Z",
     "start_time": "2023-11-21T07:53:22.723081Z"
    }
   },
   "id": "4fd6339a4ce4b2d4"
  },
  {
   "cell_type": "markdown",
   "source": [
    "## Matplotlib"
   ],
   "metadata": {
    "collapsed": false
   },
   "id": "a659da326a64fd40"
  },
  {
   "cell_type": "code",
   "execution_count": 57,
   "outputs": [],
   "source": [
    "import matplotlib.pyplot as plt\n",
    "%matplotlib inline"
   ],
   "metadata": {
    "collapsed": false,
    "ExecuteTime": {
     "end_time": "2023-11-21T08:03:35.074298Z",
     "start_time": "2023-11-21T08:03:34.812388Z"
    }
   },
   "id": "2d6264f0d98f5301"
  },
  {
   "cell_type": "code",
   "execution_count": 84,
   "outputs": [
    {
     "data": {
      "text/plain": "<Figure size 640x480 with 1 Axes>",
      "image/png": "[encoded data removed]"
     },
     "metadata": {},
     "output_type": "display_data"
    }
   ],
   "source": [
    "listx = [0,5,7,12,18,20]\n",
    "listy = [20,60,32,45,78,56]\n",
    "# lw：線的粗細, ls:line style, ms: markersize\n",
    "plt.plot(listx,listy,color='red',lw=1.0,ls=':',marker='s',ms=5, label='label')\n",
    "plt.title('Data Analysis')\n",
    "plt.xlabel('X label')\n",
    "plt.ylabel('Y label')\n",
    "plt.legend()\n",
    "# 座標範圍 y limit, x limit\n",
    "plt.ylim(0,100)\n",
    "plt.xlim(0,20)\n",
    "plt.show()"
   ],
   "metadata": {
    "collapsed": false,
    "ExecuteTime": {
     "end_time": "2023-11-21T10:03:31.343227Z",
     "start_time": "2023-11-21T10:03:31.284813Z"
    }
   },
   "id": "1ade17e295ac6829"
  },
  {
   "cell_type": "code",
   "execution_count": 76,
   "outputs": [
    {
     "data": {
      "text/plain": "<Figure size 640x480 with 1 Axes>",
      "image/png": "[encoded data removed]"
     },
     "metadata": {},
     "output_type": "display_data"
    }
   ],
   "source": [
    "# 綠色、虛線、星狀標記合在一起寫\n",
    "plt.plot(listx,listy,'g--*')\n",
    "plt.show()"
   ],
   "metadata": {
    "collapsed": false,
    "ExecuteTime": {
     "end_time": "2023-11-21T08:12:12.510265Z",
     "start_time": "2023-11-21T08:12:12.458713Z"
    }
   },
   "id": "86cdd9fd209f28ec"
  },
  {
   "cell_type": "code",
   "execution_count": 90,
   "outputs": [
    {
     "data": {
      "text/plain": "<Figure size 640x480 with 1 Axes>",
      "image/png": "[encoded data removed]"
     },
     "metadata": {},
     "output_type": "display_data"
    }
   ],
   "source": [
    "listx = [0,800,1500,3200,4000,5000]\n",
    "listy = [20,60,32,45,78,56]\n",
    "# lw：線的粗細, ls:line style, ms: markersize\n",
    "plt.plot(listx,listy,color='red',lw=1.0,ls=':',marker='s',ms=5, label='label')\n",
    "plt.title('Data Analysis')\n",
    "plt.xlabel('X label')\n",
    "plt.ylabel('Y label')\n",
    "plt.legend()\n",
    "# 座標範圍 y limit, x limit\n",
    "plt.ylim(0,100)\n",
    "plt.xlim(0,5500)\n",
    "# xticks 座標刻度\n",
    "plt.xticks(range(0,5500,500))\n",
    "# grid 格線\n",
    "plt.grid(color='black',linestyle=':',linewidth=1,alpha=0.5)\n",
    "plt.show()"
   ],
   "metadata": {
    "collapsed": false,
    "ExecuteTime": {
     "end_time": "2023-11-21T10:12:03.773439Z",
     "start_time": "2023-11-21T10:12:03.712486Z"
    }
   },
   "id": "25d22b351e7697e5"
  },
  {
   "cell_type": "markdown",
   "source": [
    "## 繪製多組資料"
   ],
   "metadata": {
    "collapsed": false
   },
   "id": "1fb45ac3b1f9b41c"
  },
  {
   "cell_type": "code",
   "execution_count": 91,
   "outputs": [
    {
     "data": {
      "text/plain": "<Figure size 640x480 with 1 Axes>",
      "image/png": "[encoded data removed]"
     },
     "metadata": {},
     "output_type": "display_data"
    }
   ],
   "source": [
    "listx1 = [1,5,7,9,13,16]\n",
    "listy1 = [15,50,80,40,70,50]\n",
    "\n",
    "listx2 = [2,6,8,11,14,16]\n",
    "listy2 = [10,40,30,50,80,60]\n",
    "\n",
    "plt.plot(listx1, listy1, c='r', ls='-.', marker='s', label='Jan.')\n",
    "plt.plot(listx2, listy2, c='b', ls='-', marker='s', label='Jul.')\n",
    "plt.legend()\n",
    "plt.show()"
   ],
   "metadata": {
    "collapsed": false,
    "ExecuteTime": {
     "end_time": "2023-11-21T10:16:24.714720Z",
     "start_time": "2023-11-21T10:16:24.662777Z"
    }
   },
   "id": "dba4d09a1cc94e"
  },
  {
   "cell_type": "code",
   "execution_count": 5,
   "outputs": [
    {
     "name": "stderr",
     "output_type": "stream",
     "text": [
      "findfont: Generic family 'sans-serif' not found because none of the following families were found: DFKai-SB\n",
      "findfont: Generic family 'sans-serif' not found because none of the following families were found: DFKai-SB\n",
      "findfont: Generic family 'sans-serif' not found because none of the following families were found: DFKai-SB\n",
      "findfont: Generic family 'sans-serif' not found because none of the following families were found: DFKai-SB\n",
      "findfont: Generic family 'sans-serif' not found because none of the following families were found: DFKai-SB\n",
      "findfont: Generic family 'sans-serif' not found because none of the following families were found: DFKai-SB\n",
      "findfont: Generic family 'sans-serif' not found because none of the following families were found: DFKai-SB\n",
      "findfont: Generic family 'sans-serif' not found because none of the following families were found: DFKai-SB\n",
      "findfont: Generic family 'sans-serif' not found because none of the following families were found: DFKai-SB\n",
      "findfont: Generic family 'sans-serif' not found because none of the following families were found: DFKai-SB\n",
      "findfont: Generic family 'sans-serif' not found because none of the following families were found: DFKai-SB\n",
      "findfont: Generic family 'sans-serif' not found because none of the following families were found: DFKai-SB\n",
      "findfont: Generic family 'sans-serif' not found because none of the following families were found: DFKai-SB\n",
      "findfont: Generic family 'sans-serif' not found because none of the following families were found: DFKai-SB\n",
      "findfont: Generic family 'sans-serif' not found because none of the following families were found: DFKai-SB\n",
      "findfont: Generic family 'sans-serif' not found because none of the following families were found: DFKai-SB\n",
      "findfont: Generic family 'sans-serif' not found because none of the following families were found: DFKai-SB\n",
      "findfont: Generic family 'sans-serif' not found because none of the following families were found: DFKai-SB\n",
      "findfont: Generic family 'sans-serif' not found because none of the following families were found: DFKai-SB\n",
      "findfont: Generic family 'sans-serif' not found because none of the following families were found: DFKai-SB\n",
      "findfont: Generic family 'sans-serif' not found because none of the following families were found: DFKai-SB\n",
      "findfont: Generic family 'sans-serif' not found because none of the following families were found: DFKai-SB\n",
      "findfont: Generic family 'sans-serif' not found because none of the following families were found: DFKai-SB\n",
      "findfont: Generic family 'sans-serif' not found because none of the following families were found: DFKai-SB\n",
      "findfont: Generic family 'sans-serif' not found because none of the following families were found: DFKai-SB\n",
      "findfont: Generic family 'sans-serif' not found because none of the following families were found: DFKai-SB\n",
      "findfont: Generic family 'sans-serif' not found because none of the following families were found: DFKai-SB\n",
      "findfont: Generic family 'sans-serif' not found because none of the following families were found: DFKai-SB\n",
      "findfont: Generic family 'sans-serif' not found because none of the following families were found: DFKai-SB\n",
      "findfont: Generic family 'sans-serif' not found because none of the following families were found: DFKai-SB\n",
      "findfont: Generic family 'sans-serif' not found because none of the following families were found: DFKai-SB\n",
      "findfont: Generic family 'sans-serif' not found because none of the following families were found: DFKai-SB\n",
      "findfont: Generic family 'sans-serif' not found because none of the following families were found: DFKai-SB\n",
      "findfont: Generic family 'sans-serif' not found because none of the following families were found: DFKai-SB\n",
      "findfont: Generic family 'sans-serif' not found because none of the following families were found: DFKai-SB\n",
      "findfont: Generic family 'sans-serif' not found because none of the following families were found: DFKai-SB\n",
      "findfont: Generic family 'sans-serif' not found because none of the following families were found: DFKai-SB\n",
      "findfont: Generic family 'sans-serif' not found because none of the following families were found: DFKai-SB\n",
      "findfont: Generic family 'sans-serif' not found because none of the following families were found: DFKai-SB\n",
      "findfont: Generic family 'sans-serif' not found because none of the following families were found: DFKai-SB\n",
      "findfont: Generic family 'sans-serif' not found because none of the following families were found: DFKai-SB\n",
      "findfont: Generic family 'sans-serif' not found because none of the following families were found: DFKai-SB\n",
      "findfont: Generic family 'sans-serif' not found because none of the following families were found: DFKai-SB\n",
      "findfont: Generic family 'sans-serif' not found because none of the following families were found: DFKai-SB\n",
      "findfont: Generic family 'sans-serif' not found because none of the following families were found: DFKai-SB\n",
      "findfont: Generic family 'sans-serif' not found because none of the following families were found: DFKai-SB\n"
     ]
    },
    {
     "data": {
      "text/plain": "<Figure size 640x480 with 1 Axes>",
      "image/png": "[encoded data removed]"
     },
     "metadata": {},
     "output_type": "display_data"
    }
   ],
   "source": [
    "listx = ['c','c++','c#','java','python']\n",
    "listy = [45,28,38,32,50]\n",
    "\n",
    "plt.bar(listx,listy,width=0.5)\n",
    "plt.title(\"Programming Class Number of People\")\n",
    "plt.xlabel('Programming Class')\n",
    "plt.ylabel('People')\n",
    "plt.rcParams[\"font.sans-serif\"] = \"DFKai-SB\"\n",
    "plt.rcParams[\"axes.unicode_minus\"] = False\n",
    "plt.show()"
   ],
   "metadata": {
    "collapsed": false,
    "ExecuteTime": {
     "end_time": "2023-11-21T15:28:44.547084Z",
     "start_time": "2023-11-21T15:28:44.449025Z"
    }
   },
   "id": "54bb6474e3163c6a"
  },
  {
   "cell_type": "code",
   "execution_count": 96,
   "outputs": [
    {
     "name": "stderr",
     "output_type": "stream",
     "text": [
      "findfont: Generic family 'sans-serif' not found because none of the following families were found: DFKai-SB\n",
      "findfont: Generic family 'sans-serif' not found because none of the following families were found: DFKai-SB\n",
      "findfont: Generic family 'sans-serif' not found because none of the following families were found: DFKai-SB\n",
      "findfont: Generic family 'sans-serif' not found because none of the following families were found: DFKai-SB\n",
      "findfont: Generic family 'sans-serif' not found because none of the following families were found: DFKai-SB\n",
      "findfont: Generic family 'sans-serif' not found because none of the following families were found: DFKai-SB\n",
      "findfont: Generic family 'sans-serif' not found because none of the following families were found: DFKai-SB\n",
      "findfont: Generic family 'sans-serif' not found because none of the following families were found: DFKai-SB\n",
      "findfont: Generic family 'sans-serif' not found because none of the following families were found: DFKai-SB\n",
      "findfont: Generic family 'sans-serif' not found because none of the following families were found: DFKai-SB\n",
      "findfont: Generic family 'sans-serif' not found because none of the following families were found: DFKai-SB\n",
      "findfont: Generic family 'sans-serif' not found because none of the following families were found: DFKai-SB\n",
      "findfont: Generic family 'sans-serif' not found because none of the following families were found: DFKai-SB\n",
      "findfont: Generic family 'sans-serif' not found because none of the following families were found: DFKai-SB\n",
      "findfont: Generic family 'sans-serif' not found because none of the following families were found: DFKai-SB\n",
      "findfont: Generic family 'sans-serif' not found because none of the following families were found: DFKai-SB\n",
      "findfont: Generic family 'sans-serif' not found because none of the following families were found: DFKai-SB\n",
      "findfont: Generic family 'sans-serif' not found because none of the following families were found: DFKai-SB\n",
      "findfont: Generic family 'sans-serif' not found because none of the following families were found: DFKai-SB\n",
      "findfont: Generic family 'sans-serif' not found because none of the following families were found: DFKai-SB\n",
      "findfont: Generic family 'sans-serif' not found because none of the following families were found: DFKai-SB\n",
      "findfont: Generic family 'sans-serif' not found because none of the following families were found: DFKai-SB\n",
      "findfont: Generic family 'sans-serif' not found because none of the following families were found: DFKai-SB\n",
      "findfont: Generic family 'sans-serif' not found because none of the following families were found: DFKai-SB\n",
      "findfont: Generic family 'sans-serif' not found because none of the following families were found: DFKai-SB\n",
      "findfont: Generic family 'sans-serif' not found because none of the following families were found: DFKai-SB\n",
      "findfont: Generic family 'sans-serif' not found because none of the following families were found: DFKai-SB\n",
      "findfont: Generic family 'sans-serif' not found because none of the following families were found: DFKai-SB\n",
      "findfont: Generic family 'sans-serif' not found because none of the following families were found: DFKai-SB\n",
      "findfont: Generic family 'sans-serif' not found because none of the following families were found: DFKai-SB\n",
      "findfont: Generic family 'sans-serif' not found because none of the following families were found: DFKai-SB\n",
      "findfont: Generic family 'sans-serif' not found because none of the following families were found: DFKai-SB\n",
      "findfont: Generic family 'sans-serif' not found because none of the following families were found: DFKai-SB\n",
      "findfont: Generic family 'sans-serif' not found because none of the following families were found: DFKai-SB\n",
      "findfont: Generic family 'sans-serif' not found because none of the following families were found: DFKai-SB\n",
      "findfont: Generic family 'sans-serif' not found because none of the following families were found: DFKai-SB\n",
      "findfont: Generic family 'sans-serif' not found because none of the following families were found: DFKai-SB\n",
      "findfont: Generic family 'sans-serif' not found because none of the following families were found: DFKai-SB\n",
      "findfont: Generic family 'sans-serif' not found because none of the following families were found: DFKai-SB\n",
      "findfont: Generic family 'sans-serif' not found because none of the following families were found: DFKai-SB\n",
      "findfont: Generic family 'sans-serif' not found because none of the following families were found: DFKai-SB\n",
      "findfont: Generic family 'sans-serif' not found because none of the following families were found: DFKai-SB\n",
      "findfont: Generic family 'sans-serif' not found because none of the following families were found: DFKai-SB\n",
      "findfont: Generic family 'sans-serif' not found because none of the following families were found: DFKai-SB\n",
      "findfont: Generic family 'sans-serif' not found because none of the following families were found: DFKai-SB\n",
      "findfont: Generic family 'sans-serif' not found because none of the following families were found: DFKai-SB\n"
     ]
    },
    {
     "data": {
      "text/plain": "<Figure size 640x480 with 1 Axes>",
      "image/png": "[encoded data removed]"
     },
     "metadata": {},
     "output_type": "display_data"
    }
   ],
   "source": [
    "listx = ['c','c++','c#','java','python']\n",
    "listy = [45,28,38,32,50]\n",
    "\n",
    "plt.barh(listx,listy,height=0.5)\n",
    "plt.title(\"Programming Class Number of People\")\n",
    "plt.xlabel('Programming Class')\n",
    "plt.ylabel('People')\n",
    "plt.rcParams[\"font.sans-serif\"] = \"DFKai-SB\"\n",
    "plt.rcParams[\"axes.unicode_minus\"] = False\n",
    "plt.show()"
   ],
   "metadata": {
    "collapsed": false,
    "ExecuteTime": {
     "end_time": "2023-11-21T15:16:28.055297Z",
     "start_time": "2023-11-21T15:16:27.973410Z"
    }
   },
   "id": "eb4d0738b17c82f"
  },
  {
   "cell_type": "code",
   "execution_count": 4,
   "outputs": [
    {
     "data": {
      "text/plain": "<Figure size 640x480 with 1 Axes>",
      "image/png": "[encoded data removed]"
     },
     "metadata": {},
     "output_type": "display_data"
    }
   ],
   "source": [
    "import matplotlib.pyplot as plt\n",
    "listx = ['c','c++','c#','java','python']\n",
    "listy = [45,28,38,32,50]\n",
    "listy1 = [25,20,20,16,28]\n",
    "listy2 = [20,8,18,16,28]\n",
    "\n",
    "plt.bar(listx,listy1,width=0.5,label=\"Male\")\n",
    "# 要加bottom=listy1才會顯示，不然會被覆蓋掉\n",
    "plt.bar(listx,listy2,width=0.5,bottom=listy1,label=\"FeMale\")\n",
    "plt.legend()\n",
    "\n",
    "plt.title(\"Programming Class Number of People\")\n",
    "plt.xlabel('Programming Class')\n",
    "plt.ylabel('People')\n",
    "plt.show()"
   ],
   "metadata": {
    "collapsed": false,
    "ExecuteTime": {
     "end_time": "2023-11-21T15:22:50.209422Z",
     "start_time": "2023-11-21T15:22:50.160598Z"
    }
   },
   "id": "112cd4736cb1edb6"
  },
  {
   "cell_type": "markdown",
   "source": [
    "## scater 散佈圖"
   ],
   "metadata": {
    "collapsed": false
   },
   "id": "cdad50c4057bd3b8"
  },
  {
   "cell_type": "code",
   "execution_count": 4,
   "outputs": [],
   "source": [
    "import numpy as np\n",
    "import matplotlib.pyplot as plt"
   ],
   "metadata": {
    "collapsed": false,
    "ExecuteTime": {
     "end_time": "2023-11-21T15:39:45.524508Z",
     "start_time": "2023-11-21T15:39:45.312387Z"
    }
   },
   "id": "474c2757b28133d4"
  },
  {
   "cell_type": "code",
   "execution_count": 7,
   "outputs": [
    {
     "data": {
      "text/plain": "<Figure size 640x480 with 1 Axes>",
      "image/png": "[encoded data removed]"
     },
     "metadata": {},
     "output_type": "display_data"
    }
   ],
   "source": [
    "size = 50 \n",
    "listx = np.random.randint(101,size=size)\n",
    "listy = np.random.randint(101,size=size)\n",
    "scale = np.random.randint(10,size=size)\n",
    "# scale = scale ** 3\n",
    "plt.xlim(0,100)\n",
    "plt.ylim(0,100)\n",
    "# alpha 透明度\n",
    "plt.scatter(listx,listy,c='r',s=scale,marker='o',alpha=0.5)\n",
    "plt.show()"
   ],
   "metadata": {
    "collapsed": false,
    "ExecuteTime": {
     "end_time": "2023-11-21T15:40:17.185591Z",
     "start_time": "2023-11-21T15:40:17.145585Z"
    }
   },
   "id": "d2df1a30163f7c24"
  },
  {
   "cell_type": "markdown",
   "source": [
    "## 圓餅圖"
   ],
   "metadata": {
    "collapsed": false
   },
   "id": "5c97c8280a445fca"
  },
  {
   "cell_type": "code",
   "execution_count": 17,
   "outputs": [
    {
     "data": {
      "text/plain": "<Figure size 640x480 with 1 Axes>",
      "image/png": "[encoded data removed]"
     },
     "metadata": {},
     "output_type": "display_data"
    }
   ],
   "source": [
    "sizes = [25,30,15,10]\n",
    "labels = ['North','West','South','East']\n",
    "colors = [\"red\",\"green\",\"blue\",\"yellow\"]\n",
    "explode = (0,0,0.1,0)\n",
    "\n",
    "plt.pie(sizes,\n",
    "        explode=explode,\n",
    "        colors=colors,\n",
    "        labeldistance=1.1,\n",
    "        autopct=\"%2.1f%%\",\n",
    "        pctdistance=0.6,\n",
    "        shadow=True,\n",
    "        startangle=90,\n",
    "        labels=labels)\n",
    "\n",
    "plt.show()"
   ],
   "metadata": {
    "collapsed": false,
    "ExecuteTime": {
     "end_time": "2023-11-21T15:54:10.938335Z",
     "start_time": "2023-11-21T15:54:10.901553Z"
    }
   },
   "id": "2ec9453866fde9da"
  },
  {
   "cell_type": "code",
   "execution_count": null,
   "outputs": [],
   "source": [],
   "metadata": {
    "collapsed": false
   },
   "id": "c49925d8c72ec919"
  },
  {
   "cell_type": "code",
   "execution_count": null,
   "outputs": [],
   "source": [],
   "metadata": {
    "collapsed": false
   },
   "id": "89a38d89e2cc7d7d"
  },
  {
   "cell_type": "code",
   "execution_count": null,
   "outputs": [],
   "source": [],
   "metadata": {
    "collapsed": false
   },
   "id": "cb7c62b43f17cb09"
  },
  {
   "cell_type": "code",
   "execution_count": null,
   "outputs": [],
   "source": [],
   "metadata": {
    "collapsed": false
   },
   "id": "c989f7d513f8ca21"
  },
  {
   "cell_type": "code",
   "execution_count": null,
   "outputs": [],
   "source": [],
   "metadata": {
    "collapsed": false
   },
   "id": "16f78bffd2287a0b"
  },
  {
   "cell_type": "code",
   "execution_count": null,
   "outputs": [],
   "source": [],
   "metadata": {
    "collapsed": false
   },
   "id": "3e7e0ff5e1001038"
  },
  {
   "cell_type": "code",
   "execution_count": null,
   "outputs": [],
   "source": [],
   "metadata": {
    "collapsed": false
   },
   "id": "ace2bc656c873932"
  },
  {
   "cell_type": "code",
   "execution_count": null,
   "outputs": [],
   "source": [],
   "metadata": {
    "collapsed": false
   },
   "id": "cce47d4340ade994"
  },
  {
   "cell_type": "code",
   "execution_count": null,
   "outputs": [],
   "source": [],
   "metadata": {
    "collapsed": false
   },
   "id": "d69fa1d433b4d5e7"
  },
  {
   "cell_type": "code",
   "execution_count": null,
   "outputs": [],
   "source": [],
   "metadata": {
    "collapsed": false
   },
   "id": "9fe7fd3474653f66"
  }
 ],
 "metadata": {
  "kernelspec": {
   "display_name": "Python 3",
   "language": "python",
   "name": "python3"
  },
  "language_info": {
   "codemirror_mode": {
    "name": "ipython",
    "version": 2
   },
   "file_extension": ".py",
   "mimetype": "text/x-python",
   "name": "python",
   "nbconvert_exporter": "python",
   "pygments_lexer": "ipython2",
   "version": "2.7.6"
  }
 },
 "nbformat": 4,
 "nbformat_minor": 5
}
