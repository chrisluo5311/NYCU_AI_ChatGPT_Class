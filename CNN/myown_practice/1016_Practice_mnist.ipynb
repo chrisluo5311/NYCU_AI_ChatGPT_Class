{
 "cells": [
  {
   "cell_type": "code",
   "execution_count": 1,
   "id": "initial_id",
   "metadata": {
    "collapsed": true,
    "ExecuteTime": {
     "end_time": "2023-11-10T05:19:08.312967Z",
     "start_time": "2023-11-10T05:19:06.232325Z"
    }
   },
   "outputs": [],
   "source": [
    "import numpy as np\n",
    "from keras.datasets import mnist\n",
    "from keras.models import Sequential\n",
    "from keras.layers import Conv2D\n",
    "from keras.layers import Dense\n",
    "from keras.layers import Flatten\n",
    "from keras.layers import MaxPool2D\n",
    "from keras.layers import Dropout\n",
    "from keras.utils import to_categorical"
   ]
  },
  {
   "cell_type": "code",
   "execution_count": 12,
   "outputs": [
    {
     "name": "stdout",
     "output_type": "stream",
     "text": [
      "(60000, 28, 28)\n",
      "(60000, 28, 28, 1)\n"
     ]
    }
   ],
   "source": [
    "seed = 7\n",
    "np.random.seed(seed)\n",
    "(X_train,Y_train),(X_test,Y_test) = mnist.load_data()\n",
    "print(X_train.shape)\n",
    "X_train = X_train.reshape(X_train.shape[0],28,28,1).astype(\"float32\")\n",
    "print(X_train.shape)\n",
    "X_test = X_test.reshape(X_test.shape[0],28,28,1).astype(\"float32\")\n",
    "X_train /= 255\n",
    "X_test /= 255\n",
    "Y_train = to_categorical(Y_train)\n",
    "Y_test = to_categorical(Y_test)"
   ],
   "metadata": {
    "collapsed": false,
    "ExecuteTime": {
     "end_time": "2023-11-10T06:24:27.293835Z",
     "start_time": "2023-11-10T06:24:27.107051Z"
    }
   },
   "id": "678f5c5d7389c1f7"
  },
  {
   "cell_type": "code",
   "execution_count": 9,
   "outputs": [
    {
     "name": "stdout",
     "output_type": "stream",
     "text": [
      "Model: \"sequential_1\"\n",
      "_________________________________________________________________\n",
      " Layer (type)                Output Shape              Param #   \n",
      "=================================================================\n",
      " conv2d_1 (Conv2D)           (None, 28, 28, 16)        416       \n",
      "                                                                 \n",
      " max_pooling2d (MaxPooling2D  (None, 14, 14, 16)       0         \n",
      " )                                                               \n",
      "                                                                 \n",
      " conv2d_2 (Conv2D)           (None, 14, 14, 32)        12832     \n",
      "                                                                 \n",
      " max_pooling2d_1 (MaxPooling  (None, 7, 7, 32)         0         \n",
      " 2D)                                                             \n",
      "                                                                 \n",
      " dropout (Dropout)           (None, 7, 7, 32)          0         \n",
      "                                                                 \n",
      " flatten (Flatten)           (None, 1568)              0         \n",
      "                                                                 \n",
      " dense (Dense)               (None, 128)               200832    \n",
      "                                                                 \n",
      " dropout_1 (Dropout)         (None, 128)               0         \n",
      "                                                                 \n",
      " dense_1 (Dense)             (None, 10)                1290      \n",
      "                                                                 \n",
      "=================================================================\n",
      "Total params: 215,370\n",
      "Trainable params: 215,370\n",
      "Non-trainable params: 0\n",
      "_________________________________________________________________\n"
     ]
    }
   ],
   "source": [
    "model = Sequential()\n",
    "model.add(Conv2D(16,kernel_size=(5,5),padding=\"same\",input_shape=(28,28,1),activation=\"relu\"))\n",
    "model.add(MaxPool2D(pool_size=(2,2)))\n",
    "model.add(Conv2D(32,kernel_size=(5,5),padding=\"same\",activation=\"relu\"))\n",
    "model.add(MaxPool2D(pool_size=(2,2)))\n",
    "model.add(Dropout(0.5))\n",
    "model.add(Flatten())\n",
    "model.add(Dense(128,activation=\"relu\"))\n",
    "model.add(Dropout(0.5))\n",
    "model.add(Dense(10,activation=\"softmax\"))\n",
    "model.summary()"
   ],
   "metadata": {
    "collapsed": false,
    "ExecuteTime": {
     "end_time": "2023-11-10T05:23:27.092895Z",
     "start_time": "2023-11-10T05:23:27.046444Z"
    }
   },
   "id": "cc1a5868317ca456"
  },
  {
   "cell_type": "markdown",
   "source": [],
   "metadata": {
    "collapsed": false
   },
   "id": "adee1687e86e5b83"
  },
  {
   "cell_type": "code",
   "execution_count": 10,
   "outputs": [
    {
     "name": "stdout",
     "output_type": "stream",
     "text": [
      "Epoch 1/10\n"
     ]
    },
    {
     "name": "stderr",
     "output_type": "stream",
     "text": [
      "2023-11-10 13:23:33.280720: W tensorflow/tsl/platform/profile_utils/cpu_utils.cc:128] Failed to get CPU frequency: 0 Hz\n"
     ]
    },
    {
     "name": "stdout",
     "output_type": "stream",
     "text": [
      "375/375 - 7s - loss: 0.4027 - accuracy: 0.8727 - val_loss: 0.0791 - val_accuracy: 0.9766 - 7s/epoch - 19ms/step\n",
      "Epoch 2/10\n",
      "375/375 - 7s - loss: 0.1339 - accuracy: 0.9586 - val_loss: 0.0577 - val_accuracy: 0.9818 - 7s/epoch - 19ms/step\n",
      "Epoch 3/10\n",
      "375/375 - 7s - loss: 0.1053 - accuracy: 0.9694 - val_loss: 0.0488 - val_accuracy: 0.9851 - 7s/epoch - 19ms/step\n",
      "Epoch 4/10\n",
      "375/375 - 7s - loss: 0.0872 - accuracy: 0.9735 - val_loss: 0.0418 - val_accuracy: 0.9873 - 7s/epoch - 20ms/step\n",
      "Epoch 5/10\n",
      "375/375 - 8s - loss: 0.0720 - accuracy: 0.9782 - val_loss: 0.0382 - val_accuracy: 0.9877 - 8s/epoch - 20ms/step\n",
      "Epoch 6/10\n",
      "375/375 - 8s - loss: 0.0671 - accuracy: 0.9793 - val_loss: 0.0376 - val_accuracy: 0.9893 - 8s/epoch - 20ms/step\n",
      "Epoch 7/10\n",
      "375/375 - 8s - loss: 0.0618 - accuracy: 0.9809 - val_loss: 0.0376 - val_accuracy: 0.9883 - 8s/epoch - 20ms/step\n",
      "Epoch 8/10\n",
      "375/375 - 8s - loss: 0.0564 - accuracy: 0.9827 - val_loss: 0.0321 - val_accuracy: 0.9901 - 8s/epoch - 20ms/step\n",
      "Epoch 9/10\n",
      "375/375 - 8s - loss: 0.0545 - accuracy: 0.9831 - val_loss: 0.0310 - val_accuracy: 0.9903 - 8s/epoch - 21ms/step\n",
      "Epoch 10/10\n",
      "375/375 - 8s - loss: 0.0491 - accuracy: 0.9854 - val_loss: 0.0307 - val_accuracy: 0.9916 - 8s/epoch - 21ms/step\n"
     ]
    }
   ],
   "source": [
    "#verbose: 0, 1 或 2。日志显示模式。 0 = 安静模式, 1 = 进度条, 2 = 每轮一行。\n",
    "model.compile(loss=\"categorical_crossentropy\",optimizer=\"adam\",metrics=[\"accuracy\"])\n",
    "history = model.fit(X_train,Y_train,validation_split=0.2,epochs=10,batch_size=128,verbose=2)"
   ],
   "metadata": {
    "collapsed": false,
    "ExecuteTime": {
     "end_time": "2023-11-10T05:24:47.842729Z",
     "start_time": "2023-11-10T05:23:33.247794Z"
    }
   },
   "id": "ea9d24505893386b"
  },
  {
   "cell_type": "code",
   "execution_count": 11,
   "outputs": [
    {
     "name": "stdout",
     "output_type": "stream",
     "text": [
      "\n",
      "Testing...\n",
      "313/313 [==============================] - 1s 4ms/step - loss: 0.0211 - accuracy: 0.9927\n",
      "測試資料準確度= 0.9926999807357788\n",
      "測試資料loss= 0.021099261939525604\n"
     ]
    }
   ],
   "source": [
    "print(\"\\nTesting...\")\n",
    "loss, accuracy = model.evaluate(X_test,Y_test)\n",
    "print(\"測試資料準確度=\",accuracy)\n",
    "print(\"測試資料loss=\",loss)"
   ],
   "metadata": {
    "collapsed": false,
    "ExecuteTime": {
     "end_time": "2023-11-10T05:47:12.455635Z",
     "start_time": "2023-11-10T05:47:11.291776Z"
    }
   },
   "id": "5d51f2cfc526593"
  },
  {
   "cell_type": "code",
   "execution_count": null,
   "outputs": [],
   "source": [],
   "metadata": {
    "collapsed": false
   },
   "id": "8d5c2da643b6fce0"
  },
  {
   "cell_type": "code",
   "execution_count": null,
   "outputs": [],
   "source": [],
   "metadata": {
    "collapsed": false
   },
   "id": "73eea72b98bfc116"
  },
  {
   "cell_type": "code",
   "execution_count": null,
   "outputs": [],
   "source": [],
   "metadata": {
    "collapsed": false
   },
   "id": "c34eb72c9e232fa8"
  },
  {
   "cell_type": "code",
   "execution_count": null,
   "outputs": [],
   "source": [],
   "metadata": {
    "collapsed": false
   },
   "id": "3ee0bb57f05aff41"
  },
  {
   "cell_type": "code",
   "execution_count": null,
   "outputs": [],
   "source": [],
   "metadata": {
    "collapsed": false
   },
   "id": "6e767b355937645"
  },
  {
   "cell_type": "code",
   "execution_count": null,
   "outputs": [],
   "source": [],
   "metadata": {
    "collapsed": false
   },
   "id": "84b2cd9e1c8420ef"
  },
  {
   "cell_type": "code",
   "execution_count": null,
   "outputs": [],
   "source": [],
   "metadata": {
    "collapsed": false
   },
   "id": "886d8dd89b816fbd"
  },
  {
   "cell_type": "code",
   "execution_count": null,
   "outputs": [],
   "source": [],
   "metadata": {
    "collapsed": false
   },
   "id": "dddb55bcce4267e7"
  }
 ],
 "metadata": {
  "kernelspec": {
   "display_name": "Python 3",
   "language": "python",
   "name": "python3"
  },
  "language_info": {
   "codemirror_mode": {
    "name": "ipython",
    "version": 2
   },
   "file_extension": ".py",
   "mimetype": "text/x-python",
   "name": "python",
   "nbconvert_exporter": "python",
   "pygments_lexer": "ipython2",
   "version": "2.7.6"
  }
 },
 "nbformat": 4,
 "nbformat_minor": 5
}
