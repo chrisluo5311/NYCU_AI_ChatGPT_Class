{
 "cells": [
  {
   "cell_type": "raw",
   "source": [],
   "metadata": {
    "collapsed": false
   },
   "id": "9f4ef9c37460e91"
  }
 ],
 "metadata": {},
 "nbformat": 4,
 "nbformat_minor": 5
}
