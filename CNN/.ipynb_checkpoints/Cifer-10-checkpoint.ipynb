{
 "cells": [
  {
   "cell_type": "raw",
   "source": [],
   "metadata": {
    "collapsed": false
   },
   "id": "e3d5c79aadc47326"
  }
 ],
 "metadata": {},
 "nbformat": 4,
 "nbformat_minor": 5
}
