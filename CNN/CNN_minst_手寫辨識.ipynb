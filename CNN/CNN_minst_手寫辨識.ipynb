{
 "cells": [
  {
   "cell_type": "code",
   "execution_count": 1,
   "id": "f2ff3231",
   "metadata": {},
   "outputs": [],
   "source": [
    "import numpy as np\n",
    "from keras.datasets import mnist\n",
    "from keras.models import Sequential\n",
    "from keras.layers import Dense\n",
    "from keras.layers import Flatten\n",
    "from keras.layers import Conv2D\n",
    "from keras.layers import MaxPooling2D\n",
    "from keras.layers import Dropout\n",
    "from keras.utils import to_categorical\n",
    "seed=7"
   ]
  },
  {
   "cell_type": "code",
   "execution_count": 10,
   "id": "6ffb801f",
   "metadata": {},
   "outputs": [
    {
     "name": "stdout",
     "output_type": "stream",
     "text": [
      "<class 'numpy.ndarray'>\n",
      "(60000, 28, 28, 1)\n"
     ]
    }
   ],
   "source": [
    "seed=7\n",
    "np.random.seed(seed)\n",
    "(X_train,Y_train),(X_test,Y_test)=mnist.load_data()\n",
    "print(type(X_train))\n",
    "X_train=X_train.reshape(X_train.shape[0],28,28,1).astype(\"float32\")\n",
    "print(X_train.shape)\n",
    "X_test=X_test.reshape(X_test.shape[0],28,28,1).astype(\"float32\")\n",
    "X_train=X_train/255\n",
    "X_test=X_test/255\n",
    "# one-hot code 獨熱碼\n",
    "Y_train=to_categorical(Y_train)\n",
    "Y_test=to_categorical(Y_test)"
   ]
  },
  {
   "cell_type": "code",
   "execution_count": 3,
   "id": "0b265c8b",
   "metadata": {},
   "outputs": [],
   "source": [
    "model=Sequential()\n",
    "model.add(Conv2D(16,kernel_size=(5,5),padding=\"same\",input_shape=(28,28,1),activation=\"relu\"))\n",
    "model.add(MaxPooling2D(pool_size=(2,2)))\n",
    "model.add(Conv2D(32,kernel_size=(5,5),padding=\"same\",activation=\"relu\"))\n",
    "model.add(MaxPooling2D(pool_size=(2,2)))\n",
    "model.add(Dropout(0.5))\n",
    "model.add(Flatten())"
   ]
  },
  {
   "cell_type": "code",
   "execution_count": 4,
   "id": "85f1f053",
   "metadata": {},
   "outputs": [
    {
     "name": "stdout",
     "output_type": "stream",
     "text": [
      "Model: \"sequential\"\n",
      "_________________________________________________________________\n",
      " Layer (type)                Output Shape              Param #   \n",
      "=================================================================\n",
      " conv2d (Conv2D)             (None, 28, 28, 16)        416       \n",
      "                                                                 \n",
      " max_pooling2d (MaxPooling2D  (None, 14, 14, 16)       0         \n",
      " )                                                               \n",
      "                                                                 \n",
      " conv2d_1 (Conv2D)           (None, 14, 14, 32)        12832     \n",
      "                                                                 \n",
      " max_pooling2d_1 (MaxPooling  (None, 7, 7, 32)         0         \n",
      " 2D)                                                             \n",
      "                                                                 \n",
      " dropout (Dropout)           (None, 7, 7, 32)          0         \n",
      "                                                                 \n",
      " flatten (Flatten)           (None, 1568)              0         \n",
      "                                                                 \n",
      " dense (Dense)               (None, 128)               200832    \n",
      "                                                                 \n",
      " dropout_1 (Dropout)         (None, 128)               0         \n",
      "                                                                 \n",
      " dense_1 (Dense)             (None, 10)                1290      \n",
      "                                                                 \n",
      "=================================================================\n",
      "Total params: 215,370\n",
      "Trainable params: 215,370\n",
      "Non-trainable params: 0\n",
      "_________________________________________________________________\n",
      "Epoch 1/10\n"
     ]
    },
    {
     "name": "stderr",
     "output_type": "stream",
     "text": [
      "2023-10-16 20:50:37.137385: W tensorflow/tsl/platform/profile_utils/cpu_utils.cc:128] Failed to get CPU frequency: 0 Hz\n"
     ]
    },
    {
     "name": "stdout",
     "output_type": "stream",
     "text": [
      "375/375 - 7s - loss: 0.4150 - accuracy: 0.8680 - val_loss: 0.0848 - val_accuracy: 0.9743 - 7s/epoch - 17ms/step\n",
      "Epoch 2/10\n",
      "375/375 - 7s - loss: 0.1359 - accuracy: 0.9590 - val_loss: 0.0606 - val_accuracy: 0.9813 - 7s/epoch - 18ms/step\n",
      "Epoch 3/10\n",
      "375/375 - 7s - loss: 0.1021 - accuracy: 0.9697 - val_loss: 0.0483 - val_accuracy: 0.9853 - 7s/epoch - 20ms/step\n",
      "Epoch 4/10\n",
      "375/375 - 8s - loss: 0.0861 - accuracy: 0.9747 - val_loss: 0.0422 - val_accuracy: 0.9876 - 8s/epoch - 20ms/step\n",
      "Epoch 5/10\n",
      "375/375 - 8s - loss: 0.0761 - accuracy: 0.9762 - val_loss: 0.0398 - val_accuracy: 0.9882 - 8s/epoch - 20ms/step\n",
      "Epoch 6/10\n",
      "375/375 - 8s - loss: 0.0674 - accuracy: 0.9791 - val_loss: 0.0378 - val_accuracy: 0.9884 - 8s/epoch - 20ms/step\n",
      "Epoch 7/10\n",
      "375/375 - 8s - loss: 0.0611 - accuracy: 0.9814 - val_loss: 0.0389 - val_accuracy: 0.9883 - 8s/epoch - 21ms/step\n",
      "Epoch 8/10\n",
      "375/375 - 8s - loss: 0.0570 - accuracy: 0.9822 - val_loss: 0.0326 - val_accuracy: 0.9907 - 8s/epoch - 21ms/step\n",
      "Epoch 9/10\n",
      "375/375 - 8s - loss: 0.0529 - accuracy: 0.9837 - val_loss: 0.0307 - val_accuracy: 0.9912 - 8s/epoch - 21ms/step\n",
      "Epoch 10/10\n",
      "375/375 - 8s - loss: 0.0491 - accuracy: 0.9846 - val_loss: 0.0319 - val_accuracy: 0.9909 - 8s/epoch - 21ms/step\n"
     ]
    }
   ],
   "source": [
    "model.add(Dense(128,activation=\"relu\"))\n",
    "model.add(Dropout(0.5))\n",
    "model.add(Dense(10,activation=\"softmax\"))\n",
    "model.summary()\n",
    "model.compile(loss=\"categorical_crossentropy\",optimizer=\"adam\",metrics=[\"accuracy\"])\n",
    "history=model.fit(X_train,Y_train, validation_split=0.2,epochs=10,batch_size=128,verbose=2)"
   ]
  },
  {
   "cell_type": "code",
   "execution_count": 5,
   "id": "6df97b00",
   "metadata": {},
   "outputs": [
    {
     "name": "stdout",
     "output_type": "stream",
     "text": [
      "\n",
      "Testing...\n",
      "1875/1875 [==============================] - 6s 3ms/step - loss: 0.0191 - accuracy: 0.9942\n",
      "訓練資料準確度= 0.9941666722297668\n",
      "313/313 [==============================] - 1s 3ms/step - loss: 0.0237 - accuracy: 0.9916\n",
      "測試資料準確度= 0.991599977016449\n"
     ]
    }
   ],
   "source": [
    "print(\"\\nTesting...\")\n",
    "loss,accuracy=model.evaluate(X_train,Y_train)\n",
    "print(\"訓練資料準確度=\",accuracy)\n",
    "loss,accuracy=model.evaluate(X_test,Y_test)\n",
    "print(\"測試資料準確度=\",accuracy)"
   ]
  },
  {
   "cell_type": "code",
   "execution_count": null,
   "id": "7d3be18d",
   "metadata": {},
   "outputs": [],
   "source": []
  },
  {
   "cell_type": "code",
   "execution_count": null,
   "id": "c917397c",
   "metadata": {},
   "outputs": [],
   "source": []
  },
  {
   "cell_type": "code",
   "execution_count": null,
   "id": "da598e20",
   "metadata": {},
   "outputs": [],
   "source": []
  },
  {
   "cell_type": "code",
   "execution_count": null,
   "id": "85df9323",
   "metadata": {},
   "outputs": [],
   "source": []
  },
  {
   "cell_type": "code",
   "execution_count": null,
   "id": "602bd886",
   "metadata": {},
   "outputs": [],
   "source": []
  },
  {
   "cell_type": "code",
   "execution_count": null,
   "id": "e31dd0f5",
   "metadata": {},
   "outputs": [],
   "source": []
  },
  {
   "cell_type": "code",
   "execution_count": null,
   "id": "46500859",
   "metadata": {},
   "outputs": [],
   "source": []
  },
  {
   "cell_type": "code",
   "execution_count": null,
   "id": "e6517391",
   "metadata": {},
   "outputs": [],
   "source": []
  }
 ],
 "metadata": {
  "kernelspec": {
   "display_name": "Python 3 (ipykernel)",
   "language": "python",
   "name": "python3"
  },
  "language_info": {
   "codemirror_mode": {
    "name": "ipython",
    "version": 3
   },
   "file_extension": ".py",
   "mimetype": "text/x-python",
   "name": "python",
   "nbconvert_exporter": "python",
   "pygments_lexer": "ipython3",
   "version": "3.11.5"
  }
 },
 "nbformat": 4,
 "nbformat_minor": 5
}
