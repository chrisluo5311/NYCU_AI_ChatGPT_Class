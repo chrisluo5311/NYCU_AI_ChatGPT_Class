{
 "cells": [
  {
   "cell_type": "code",
   "execution_count": 1,
   "id": "d3cf0ca0",
   "metadata": {},
   "outputs": [
    {
     "name": "stdout",
     "output_type": "stream",
     "text": [
      "zsh:1: command not found: pip\r\n"
     ]
    },
    {
     "ename": "ModuleNotFoundError",
     "evalue": "No module named 'seaborn'",
     "output_type": "error",
     "traceback": [
      "\u001b[0;31m---------------------------------------------------------------------------\u001b[0m",
      "\u001b[0;31mModuleNotFoundError\u001b[0m                       Traceback (most recent call last)",
      "Cell \u001b[0;32mIn[1], line 5\u001b[0m\n\u001b[1;32m      3\u001b[0m \u001b[38;5;28;01mimport\u001b[39;00m \u001b[38;5;21;01mmatplotlib\u001b[39;00m\u001b[38;5;21;01m.\u001b[39;00m\u001b[38;5;21;01mpyplot\u001b[39;00m \u001b[38;5;28;01mas\u001b[39;00m \u001b[38;5;21;01mplt\u001b[39;00m\n\u001b[1;32m      4\u001b[0m get_ipython()\u001b[38;5;241m.\u001b[39msystem(\u001b[38;5;124m'\u001b[39m\u001b[38;5;124m pip install seaborn\u001b[39m\u001b[38;5;124m'\u001b[39m)\n\u001b[0;32m----> 5\u001b[0m \u001b[38;5;28;01mimport\u001b[39;00m \u001b[38;5;21;01mseaborn\u001b[39;00m \u001b[38;5;28;01mas\u001b[39;00m \u001b[38;5;21;01msns\u001b[39;00m\n",
      "\u001b[0;31mModuleNotFoundError\u001b[0m: No module named 'seaborn'"
     ]
    }
   ],
   "source": [
    "import pandas as pd\n",
    "import numpy as np\n",
    "import matplotlib.pyplot as plt\n",
    "! pip install seaborn\n",
    "import seaborn as sns"
   ]
  },
  {
   "cell_type": "code",
   "execution_count": null,
   "id": "dbfd8c0f",
   "metadata": {},
   "outputs": [],
   "source": [
    "df=pd.read_csv(\"iris_data.csv\")\n",
    "#製作一個字典準備將 target 轉成數值\n",
    "\n",
    "target_mapping={\"setosa\":0,\"versicolor\":1, \"virginica\":2}\n",
    "\n",
    "dataset=df.values\n",
    "X=dataset[:,0:4]\n",
    "Y=df[\"target\"].map(target_mapping)\n",
    "#print(Y)\n",
    "\n",
    "plt.figure(figsize=(10,5))\n",
    "plt.subplot(1,2,1)\n",
    "\n",
    "colmap=np.array([\"r\",\"g\",\"y\"])\n",
    "plt.scatter(df[\"sepal_length\"],df[\"sepal_width\"],color=colmap[Y])\n",
    "plt.subplot(1,2,2)\n",
    "plt.scatter(df[\"petal_length\"],df[\"petal_width\"],color=colmap[Y])\n",
    "plt.show()\n",
    "\n",
    "sns.pairplot(df,hue=\"target\")"
   ]
  },
  {
   "cell_type": "code",
   "execution_count": null,
   "id": "185aba94",
   "metadata": {},
   "outputs": [],
   "source": [
    "import numpy as np\n",
    "import pandas as pd\n",
    "from keras.models import Sequential\n",
    "from keras.layers import Dense\n",
    "from keras.utils import to_categorical\n",
    "\n",
    "np.random.seed(10)\n",
    "df=pd.read_csv(\"iris_data.csv\")"
   ]
  },
  {
   "cell_type": "code",
   "execution_count": null,
   "id": "da8fe801",
   "metadata": {},
   "outputs": [],
   "source": [
    "target_mapping={\"setosa\":0,\"versicolor\":1,\"virginica\":2}\n",
    "df[\"target\"]=df[\"target\"].map(target_mapping)\n",
    "dataset=df.values\n",
    "np.random.shuffle(dataset)\n",
    "X=dataset[:,0:4]\n",
    "Y=dataset[:,4]\n",
    "Y=to_categorical(Y)\n",
    "X=X-X.mean(axis=0)\n",
    "X=X/X.std(axis=0)\n",
    "X_train=X[:120,:]\n",
    "Y_train=Y[:120]\n",
    "X_test=X[120:,:]\n",
    "Y_test=Y[120:]"
   ]
  },
  {
   "cell_type": "code",
   "execution_count": null,
   "id": "6a0dfc1f",
   "metadata": {},
   "outputs": [],
   "source": [
    "model=Sequential()\n",
    "#4_input*6_w+6_bias=30 parameters\n",
    "model.add(Dense(6, input_dim=4,activation=\"relu\"))\n",
    "#6_input*6_w+6_bias=42 parameters\n",
    "model.add(Dense(6,activation=\"relu\"))\n",
    "#6_input*3_output+3_bias=21 parameters\n",
    "model.add(Dense(3,activation=\"softmax\"))\n",
    "# model.summary()\n",
    "model.compile(loss=\"categorical_crossentropy\",optimizer=\"adam\", metrics=[\"accuracy\"])"
   ]
  },
  {
   "cell_type": "code",
   "execution_count": null,
   "id": "28254efe",
   "metadata": {},
   "outputs": [],
   "source": [
    "train_result=model.fit(X_train,Y_train,epochs=100,verbose=0, batch_size=5)\n",
    "\n",
    "train_accuracy=train_result.history[\"accuracy\"]\n",
    "train_loss=train_result.history[\"loss\"]\n",
    "\n",
    "epochs=range(1,len(train_loss)+1)\n",
    "plt.plot(epochs,train_loss,\"r\")\n",
    "plt.plot(epochs,train_accuracy,\"b\")"
   ]
  },
  {
   "cell_type": "code",
   "execution_count": null,
   "id": "72c2cc11",
   "metadata": {},
   "outputs": [],
   "source": []
  },
  {
   "cell_type": "code",
   "execution_count": null,
   "id": "d0313424",
   "metadata": {},
   "outputs": [],
   "source": []
  },
  {
   "cell_type": "code",
   "execution_count": null,
   "id": "e701aab4",
   "metadata": {},
   "outputs": [],
   "source": []
  },
  {
   "cell_type": "code",
   "execution_count": null,
   "id": "122db1bc",
   "metadata": {},
   "outputs": [],
   "source": []
  },
  {
   "cell_type": "code",
   "execution_count": null,
   "id": "4840977c",
   "metadata": {},
   "outputs": [],
   "source": []
  },
  {
   "cell_type": "code",
   "execution_count": null,
   "id": "c132eeef",
   "metadata": {},
   "outputs": [],
   "source": []
  },
  {
   "cell_type": "code",
   "execution_count": null,
   "id": "dc2df45b",
   "metadata": {},
   "outputs": [],
   "source": []
  },
  {
   "cell_type": "code",
   "execution_count": null,
   "id": "7265d5bc",
   "metadata": {},
   "outputs": [],
   "source": []
  },
  {
   "cell_type": "code",
   "execution_count": null,
   "id": "76a16ed0",
   "metadata": {},
   "outputs": [],
   "source": []
  }
 ],
 "metadata": {
  "kernelspec": {
   "display_name": "Python 3 (ipykernel)",
   "language": "python",
   "name": "python3"
  },
  "language_info": {
   "codemirror_mode": {
    "name": "ipython",
    "version": 3
   },
   "file_extension": ".py",
   "mimetype": "text/x-python",
   "name": "python",
   "nbconvert_exporter": "python",
   "pygments_lexer": "ipython3",
   "version": "3.11.5"
  }
 },
 "nbformat": 4,
 "nbformat_minor": 5
}
