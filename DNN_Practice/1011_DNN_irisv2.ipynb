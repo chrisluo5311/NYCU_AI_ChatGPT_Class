{
 "cells": [
  {
   "cell_type": "code",
   "execution_count": null,
   "id": "c56fbc99",
   "metadata": {},
   "outputs": [],
   "source": [
    "import numpy as np\n",
    "import pandas as pd\n",
    "from keras.models import Sequential\n",
    "from keras.layers import Dense\n",
    "from keras.utils import to_categorical"
   ]
  },
  {
   "cell_type": "code",
   "execution_count": null,
   "id": "9b44dc2e",
   "metadata": {},
   "outputs": [],
   "source": [
    "np.random.seed(10)\n",
    "df=pd.read_csv(\"iris_data.csv\")\n",
    "\n",
    "target_mapping={\"setosa\":0,\"versicolor\":1,\"virginica\":2}\n",
    "df[\"target\"]=df[\"target\"].map(target_mapping)\n",
    "dataset=df.values\n",
    "np.random.shuffle(dataset)\n",
    "X=dataset[:,0:4]\n",
    "Y=dataset[:,4]\n",
    "Y=to_categorical(Y)\n",
    "X=X-X.mean(axis=0)\n",
    "X=X/X.std(axis=0)\n",
    "X_train=X[:120,:]\n",
    "Y_train=Y[:120]\n",
    "X_test=X[120:,:]\n",
    "Y_test=Y[120:]"
   ]
  },
  {
   "cell_type": "code",
   "execution_count": null,
   "id": "ebce13f3",
   "metadata": {},
   "outputs": [],
   "source": [
    "model=Sequential()\n",
    "#4_input*6_w+6_bias=30 parameters\n",
    "model.add(Dense(6, input_dim=4,activation=\"relu\"))\n",
    "#6_input*6_w+6_bias=42 parameters\n",
    "model.add(Dense(6,activation=\"relu\"))\n",
    "#6_input*3_output+3_bias=21 parameters\n",
    "model.add(Dense(3,activation=\"softmax\"))\n",
    "# model.summary()\n",
    "model.compile(loss=\"categorical_crossentropy\",optimizer=\"adam\", metrics=[\"accuracy\"])\n",
    "model.fit(X_train,Y_train,epochs=100,verbose=0, batch_size=5)\n",
    "loss, accuracy=model.evaluate(X_test,Y_test)\n",
    "print(accuracy,loss)"
   ]
  },
  {
   "cell_type": "code",
   "execution_count": null,
   "id": "385d1647",
   "metadata": {},
   "outputs": [],
   "source": []
  },
  {
   "cell_type": "code",
   "execution_count": null,
   "id": "f819001d",
   "metadata": {},
   "outputs": [],
   "source": []
  },
  {
   "cell_type": "code",
   "execution_count": null,
   "id": "320103a0",
   "metadata": {},
   "outputs": [],
   "source": []
  },
  {
   "cell_type": "code",
   "execution_count": null,
   "id": "ead80631",
   "metadata": {},
   "outputs": [],
   "source": []
  }
 ],
 "metadata": {
  "kernelspec": {
   "display_name": "Python 3 (ipykernel)",
   "language": "python",
   "name": "python3"
  },
  "language_info": {
   "codemirror_mode": {
    "name": "ipython",
    "version": 3
   },
   "file_extension": ".py",
   "mimetype": "text/x-python",
   "name": "python",
   "nbconvert_exporter": "python",
   "pygments_lexer": "ipython3",
   "version": "3.11.5"
  }
 },
 "nbformat": 4,
 "nbformat_minor": 5
}
